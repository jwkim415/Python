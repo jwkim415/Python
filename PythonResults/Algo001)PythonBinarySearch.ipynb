{
 "cells": [
  {
   "cell_type": "code",
   "execution_count": 1,
   "metadata": {},
   "outputs": [
    {
     "name": "stdout",
     "output_type": "stream",
     "text": [
      "47.0\n"
     ]
    }
   ],
   "source": [
    "#Q.아래의 a리스트에서 중앙값을 찾으시오\n",
    "import numpy as np\n",
    "\n",
    "a=[1,7,11,12,14,23,33,47,51,64,67,77,139,672,871]\n",
    "a_n=np.array(a)\n",
    "print(np.median(a_n))"
   ]
  },
  {
   "cell_type": "code",
   "execution_count": 2,
   "metadata": {},
   "outputs": [
    {
     "name": "stdout",
     "output_type": "stream",
     "text": [
      "[1, 7, 11, 12, 14, 23, 33, 47]\n"
     ]
    }
   ],
   "source": [
    "#Q.a리스트에서 첫번쨰 숫자부터 중앙값에 해당하는 숫자까지만 검색하시오\n",
    "import numpy as np\n",
    "\n",
    "a=[1,7,11,12,14,23,33,47,51,64,67,77,139,672,871]\n",
    "a_n=np.array(a)\n",
    "med=np.median(a_n)\n",
    "\n",
    "print(a[:a.index(med)+1])"
   ]
  },
  {
   "cell_type": "code",
   "execution_count": 3,
   "metadata": {},
   "outputs": [],
   "source": [
    "#Q.위의 리스트에서 선택된 숫자들을 중앙값까지 포함해서 다 지우시오\n",
    "import numpy as np\n",
    "\n",
    "a=[1,7,11,12,14,23,33,47,51,64,67,77,139,672,871]\n",
    "a_n=np.array(a)\n",
    "med=np.median(a_n)\n",
    "\n",
    "del(a[:a.index(med)+1])"
   ]
  },
  {
   "cell_type": "code",
   "execution_count": 4,
   "metadata": {},
   "outputs": [
    {
     "name": "stdout",
     "output_type": "stream",
     "text": [
      "77.0\n"
     ]
    }
   ],
   "source": [
    "#Q.위의 결과로 출력된 아래의 리스트에서 중앙값을 출력하시오\n",
    "import numpy as np\n",
    "\n",
    "a=[1,7,11,12,14,23,33,47,51,64,67,77,139,672,871]\n",
    "a_n=np.array(a)\n",
    "med=np.median(a_n)\n",
    "\n",
    "del(a[:a.index(med)+1])\n",
    "a_m2=np.median(a)\n",
    "print(a_m2)"
   ]
  },
  {
   "cell_type": "code",
   "execution_count": 5,
   "metadata": {},
   "outputs": [
    {
     "name": "stdout",
     "output_type": "stream",
     "text": [
      "검색할 숫자를 입력하세요67\n",
      "67은 이진탐색 4번만에 검색되었습니다\n"
     ]
    }
   ],
   "source": [
    "#Q.위에서 출력된 중앙값 77이 내가 검색하고자 하는 67보다 크면 아래의 결과 리스트만 출력되게 하시오\n",
    "import numpy as np \n",
    "\n",
    "a=[1,7,11,12,14,23,33,47,51,64,67,77,139,672,871]\n",
    "num=int(input('검색할 숫자를 입력하세요')) \n",
    "\n",
    "if num in a:\n",
    "    for i in range(10): \n",
    "        med=np.median(a)\n",
    "        if med>num: \n",
    "            del(a[a.index(med):]) \n",
    "             \n",
    "        elif med<num: \n",
    "            del(a[:a.index(med)+1]) \n",
    "         \n",
    "        elif med==num: \n",
    "            break \n",
    "    print('{}은 이진탐색 {}번만에 검색되었습니다'.format(num,i+1)) \n",
    "         \n",
    "elif num not in a: \n",
    "    print('{}은 a리스트에 없습니다'.format(num))"
   ]
  }
 ],
 "metadata": {
  "kernelspec": {
   "display_name": "Python 3",
   "language": "python",
   "name": "python3"
  },
  "language_info": {
   "codemirror_mode": {
    "name": "ipython",
    "version": 3
   },
   "file_extension": ".py",
   "mimetype": "text/x-python",
   "name": "python",
   "nbconvert_exporter": "python",
   "pygments_lexer": "ipython3",
   "version": "3.8.5"
  }
 },
 "nbformat": 4,
 "nbformat_minor": 4
}
