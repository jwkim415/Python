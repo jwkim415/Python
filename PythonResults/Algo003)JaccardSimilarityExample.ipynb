{
 "cells": [
  {
   "cell_type": "code",
   "execution_count": 1,
   "metadata": {},
   "outputs": [
    {
     "name": "stdout",
     "output_type": "stream",
     "text": [
      "<class 'set'>\n",
      "{1, 2, 3, 4, 5}\n",
      "{2, 4}\n",
      "0.4\n"
     ]
    }
   ],
   "source": [
    "#파이썬에서 합집합과 교집합 구하기\n",
    "a={1,2,3,4}\n",
    "b={2,4,5}\n",
    "print(type(a)) #<class 'set'>\n",
    "\n",
    "#a와 b의 합집합 구하기\n",
    "union_set=a.union(b)\n",
    "print(union_set) #{1,2,3,4,5}\n",
    "\n",
    "#a와 b의 교집합 구하기\n",
    "intersect_set=a.intersection(b)\n",
    "print(intersect_set) #{2,4}\n",
    "\n",
    "#a와 b의 자카드 유사도 구하기\n",
    "print(len(intersect_set)/len(union_set)) #0.4"
   ]
  },
  {
   "cell_type": "code",
   "execution_count": 2,
   "metadata": {},
   "outputs": [
    {
     "name": "stdout",
     "output_type": "stream",
     "text": [
      "{1, 2, 3, 4, 5}\n",
      "[2, 4]\n"
     ]
    }
   ],
   "source": [
    "#리스트로 합집합과 교집합 구하기\n",
    "a=[1,2,3,4]\n",
    "b=[2,4,5]\n",
    "\n",
    "#a와 b의 합집합 구하기\n",
    "union_set=set(a+b)\n",
    "print(union_set) #{1,2,3,4,5}\n",
    "\n",
    "#a와 b의 교집합 구하기\n",
    "intersect_set=[]\n",
    "for i in a:\n",
    "    if i in b:\n",
    "        intersect_set.append(i)\n",
    "print(intersect_set) #[2,4]"
   ]
  },
  {
   "cell_type": "code",
   "execution_count": 3,
   "metadata": {},
   "outputs": [
    {
     "name": "stdout",
     "output_type": "stream",
     "text": [
      "[1, 1, 2, 2]\n",
      "[1, 1, 2, 2, 4, 5]\n",
      "[1, 1, 3, 1, 1, 2, 2, 4, 5]\n"
     ]
    }
   ],
   "source": [
    "#Q.교집합, 합집합 구하기\n",
    "a=[1,1,1,2,2,3]\n",
    "b=[1,1,2,2,4,5]\n",
    "#교집합부터 구하기\n",
    "inter=[]\n",
    "for i in a:\n",
    "    if i in b:\n",
    "        b.remove(i)\n",
    "        inter.append(i)\n",
    "print(inter)  \n",
    "\n",
    "b=inter+b\n",
    "print(b)\n",
    "\n",
    "#합집합 구하기  \n",
    "hap=[]\n",
    "hap=a+b\n",
    "for i in range(len(inter)):\n",
    "    if i in hap:\n",
    "        hap.pop(hap.index(inter[i]))\n",
    "        \n",
    "print(hap)"
   ]
  },
  {
   "cell_type": "code",
   "execution_count": 5,
   "metadata": {},
   "outputs": [
    {
     "name": "stdout",
     "output_type": "stream",
     "text": [
      "[1, 1, 2, 2]\n",
      "[1, 1, 1, 2, 2, 3, 4, 5]\n"
     ]
    }
   ],
   "source": [
    "#Q.교집합, 합집합 구하기- Collection 이용\n",
    "import collections\n",
    "\n",
    "a = [1,1,1,2,2,3]\n",
    "b = [1,1,2,2,4,5]\n",
    "\n",
    "intersection = []\n",
    "result = collections.Counter(a) & collections.Counter(b) # 교집합\n",
    "intersection = list(result.elements()) # 요소만 리스트로 빼내오기\n",
    "\n",
    "result2 = collections.Counter(a) | collections.Counter(b) # 합집합\n",
    "union = list(result2.elements())       # 요소만 리스트로 빼내오기\n",
    "\n",
    "print(intersection)\n",
    "print(union)"
   ]
  },
  {
   "cell_type": "code",
   "execution_count": 6,
   "metadata": {},
   "outputs": [
    {
     "name": "stdout",
     "output_type": "stream",
     "text": [
      "문자열을 입력하세요french\n",
      "문자열을 입력하세요france\n",
      "['FR', 'RE', 'EN', 'NC', 'CH']\n",
      "['FR', 'RA', 'AN', 'NC', 'CE']\n"
     ]
    }
   ],
   "source": [
    "#Q.두 문장을 받아서 두개의 철자로 분리하여 리스트에 저장하고 알파벳2개씩 자르기\n",
    "str1=input('문자열을 입력하세요').upper()\n",
    "str2=input('문자열을 입력하세요').upper()\n",
    "\n",
    "def str_split(string):\n",
    "    res=[]\n",
    "    for i in range(len(string)-1):\n",
    "        if string[i].isalpha() and string[i+1].isalpha():\n",
    "            res.append(string[i:i+2])\n",
    "    return res\n",
    "\n",
    "print(str_split(str1))\n",
    "print(str_split(str2))"
   ]
  },
  {
   "cell_type": "code",
   "execution_count": 7,
   "metadata": {},
   "outputs": [
    {
     "name": "stdout",
     "output_type": "stream",
     "text": [
      "문자열을 입력하세요french\n",
      "문자열을 입력하세요france\n",
      "['FR', 'NC']\n",
      "{'RE', 'CE', 'CH', 'AN', 'NC', 'EN', 'RA', 'FR'}\n"
     ]
    }
   ],
   "source": [
    "#Q.교집합과 합집합 구하기\n",
    "str1=input('문자열을 입력하세요').upper()\n",
    "str2=input('문자열을 입력하세요').upper()\n",
    "\n",
    "def str_split(string):\n",
    "    res=[]\n",
    "    for i in range(len(string)-1):\n",
    "        if string[i].isalpha() and string[i+1].isalpha():\n",
    "            res.append(string[i:i+2])\n",
    "    return res\n",
    "\n",
    "a=str_split(str1)\n",
    "b=str_split(str2)\n",
    "\n",
    "#교집합\n",
    "intersection=[]\n",
    "for i in a:\n",
    "    if i in b:\n",
    "        intersection.append(i)\n",
    "print(intersection) #['FR','NC']\n",
    "\n",
    "#합집합\n",
    "union=set(a+b)\n",
    "print(union) #{'CH','AN'.'CE','EN','FR','RE','RA','NC'}"
   ]
  },
  {
   "cell_type": "code",
   "execution_count": 9,
   "metadata": {},
   "outputs": [
    {
     "name": "stdout",
     "output_type": "stream",
     "text": [
      "16384\n"
     ]
    }
   ],
   "source": [
    "#Q.위 함수 a,b의 자카드 유사도 구하기\n",
    "import math\n",
    "len_i=len(intersection)\n",
    "len_u=len(union)\n",
    "print(math.trunc(len_i/len_u*65536)) #16384.0"
   ]
  },
  {
   "cell_type": "code",
   "execution_count": 10,
   "metadata": {},
   "outputs": [
    {
     "name": "stdout",
     "output_type": "stream",
     "text": [
      "Enter first wordaa1+aa2\n",
      "Enter second wordAAAA12\n",
      "43690\n"
     ]
    }
   ],
   "source": [
    "def jaccard_kakao():\n",
    "    str1=input('Enter first word').upper()\n",
    "    str2=input('Enter second word').upper()\n",
    "    #split characters into 2\n",
    "    if len(str1)>=2 and len(str1)<=1000 and len(str2)>=2 and len(str2)<=1000:\n",
    "        s_list1=[str1[i:i+2] for i in range(len(str1)-1) if str1[i].isalpha() and str1[i+1].isalpha()]\n",
    "        s_list2=[str2[i:i+2] for i in range(len(str2)-1) if str2[i].isalpha() and str2[i+1].isalpha()]\n",
    "    else: \n",
    "        print('only between 2 and 1000 characters are allowed ')\n",
    "\n",
    "    #find intersection\n",
    "    intsct=[]\n",
    "    for j in s_list1:\n",
    "        if j in s_list2:\n",
    "            intsct.append(j)\n",
    "    \n",
    "    #find union set\n",
    "    union=s_list1+s_list2\n",
    "    for h in intsct:  \n",
    "        union.remove(h)\n",
    "    \n",
    "    #calculation\n",
    "    if len(union)!=0:\n",
    "        return (int((len(intsct)/len(union))*65536))\n",
    "    else:\n",
    "        return 65536\n",
    "    \n",
    "\n",
    "print(jaccard_kakao())\n",
    "\n",
    "#france, french\n",
    "#handshake, shake hands\n",
    "#aa1+aa2, AAAA12\n",
    "#E=M*C^2, e=m*c^2"
   ]
  }
 ],
 "metadata": {
  "kernelspec": {
   "display_name": "Python 3",
   "language": "python",
   "name": "python3"
  },
  "language_info": {
   "codemirror_mode": {
    "name": "ipython",
    "version": 3
   },
   "file_extension": ".py",
   "mimetype": "text/x-python",
   "name": "python",
   "nbconvert_exporter": "python",
   "pygments_lexer": "ipython3",
   "version": "3.8.5"
  }
 },
 "nbformat": 4,
 "nbformat_minor": 4
}
