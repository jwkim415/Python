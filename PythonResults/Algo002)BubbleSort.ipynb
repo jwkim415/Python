{
 "cells": [
  {
   "cell_type": "code",
   "execution_count": 1,
   "metadata": {},
   "outputs": [
    {
     "name": "stdout",
     "output_type": "stream",
     "text": [
      "[5, 10, 20, 9, 8]\n"
     ]
    }
   ],
   "source": [
    "#Q.리스트를 만들고 첫번쨰 요소와 두번쨰 요소의 순서를 변경하시오\n",
    "a=[10,5,20,9,8]\n",
    "temp=a[1] #1번쨰 요소를 temp 변수에 임시저장하고\n",
    "a[1]=a[0] #1번째 요소를 0번째 요소로 변경한 후에\n",
    "a[0]=temp #0번쨰 요소를 1번쨰 요소로 변경합니다.\n",
    "print(a)"
   ]
  },
  {
   "cell_type": "code",
   "execution_count": 2,
   "metadata": {},
   "outputs": [
    {
     "name": "stdout",
     "output_type": "stream",
     "text": [
      "[5, 10, 20, 9, 8]\n"
     ]
    }
   ],
   "source": [
    "#Q.아래의 a 리스트를 만들고 첫번째 요소와 두번째 요소의 크기를 비교한 후 첫번째 요소의 크기가 \n",
    "#더 크다면 두번째 요소와 자리를 바꾸시오\n",
    "a=[10,5,20,9,8]\n",
    "temp=[]\n",
    "if a[0]>a[1]:\n",
    "    temp=a[1] #1번쨰 요소를 temp 변수에 임시저장하고\n",
    "    a[1]=a[0] #1번째 요소를 0번째 요소로 변경한 후에\n",
    "    a[0]=temp\n",
    "else:\n",
    "    pass\n",
    "print(a)"
   ]
  },
  {
   "cell_type": "code",
   "execution_count": 6,
   "metadata": {},
   "outputs": [
    {
     "name": "stdout",
     "output_type": "stream",
     "text": [
      "[1, 2, 3, 4, 5, 7, 8, 10]\n"
     ]
    }
   ],
   "source": [
    "#Q.버블정렬하시오\n",
    "a=[5,4,3,2,1,8,7,10]\n",
    "\n",
    "def bubble_sort(a):\n",
    "    cnt=0\n",
    "    for k in range(1,len(a)):\n",
    "        for i in range(0,len(a)-1):\n",
    "            if a[i]>a[i+1]:\n",
    "                a[i],a[i+1]=a[i+1],a[i]\n",
    "                cnt+=1       \n",
    "    return a\n",
    "\n",
    "print(bubble_sort(a))"
   ]
  }
 ],
 "metadata": {
  "kernelspec": {
   "display_name": "Python 3",
   "language": "python",
   "name": "python3"
  },
  "language_info": {
   "codemirror_mode": {
    "name": "ipython",
    "version": 3
   },
   "file_extension": ".py",
   "mimetype": "text/x-python",
   "name": "python",
   "nbconvert_exporter": "python",
   "pygments_lexer": "ipython3",
   "version": "3.8.5"
  }
 },
 "nbformat": 4,
 "nbformat_minor": 4
}
