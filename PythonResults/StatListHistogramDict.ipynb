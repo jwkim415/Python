{
 "cells": [
  {
   "cell_type": "code",
   "execution_count": 1,
   "metadata": {},
   "outputs": [
    {
     "name": "stdout",
     "output_type": "stream",
     "text": [
      "gmail\n",
      "gmail\n"
     ]
    }
   ],
   "source": [
    "#Q.이메일을 출력하는데 도메인만 출력되게 하시오\n",
    "import csv\n",
    "file=open(\"d:\\\\data\\\\test.csv\",encoding='UTF8')\n",
    "emp12_csv=csv.reader(file)\n",
    "for emp_list in emp12_csv:\n",
    "    add=emp_list[6].find('@') #@의 위치 인덱스번호찾고\n",
    "    domain=emp_list[6][add+1:] #@전은 잘라내고 도메인만 남겨서 domain에 할당\n",
    "    dot=domain.find('.') #domain에서 .의 위치 찾기\n",
    "    print(domain[:dot]) #domain에서 첫번째 .앞까지 잘라내기"
   ]
  },
  {
   "cell_type": "code",
   "execution_count": 2,
   "metadata": {},
   "outputs": [
    {
     "name": "stdout",
     "output_type": "stream",
     "text": [
      "['a', 'b', 'c', 'd', 'e', 'f']\n",
      "['a', 'b', 'c', 'k', 'd', 'e', 'f']\n"
     ]
    }
   ],
   "source": [
    "#리스트에 요소 추가하기\n",
    "list_a=['a','b','c','d','e']\n",
    "list_a.append('f') #append 메소드는 무조건 맨 뒤쪽에 요소를 추가한다.\n",
    "print(list_a) #['a','b','c','d','e','f']\n",
    "\t\t\n",
    "list_a.insert(3, 'k') #리스트의 3번째 위치에 k를 넣어라\n",
    "print(list_a)  # ['a','b','c','k','d','e','f']"
   ]
  },
  {
   "cell_type": "code",
   "execution_count": 3,
   "metadata": {},
   "outputs": [
    {
     "name": "stdout",
     "output_type": "stream",
     "text": [
      "['태양', '수성', '금성', '지구', '화성', '소행성', '목성', '토성', '천왕성', '해왕성']\n"
     ]
    }
   ],
   "source": [
    "#Q.다음의 리스트에서 화성 뒤에 '소행성'을 추가하시오\n",
    "a=['태양','수성','금성','지구','화성','목성','토성','천왕성','해왕성']\n",
    "a.insert(a.index('화성')+1,'소행성') #넣을 곳 앞요소+1\n",
    "print(a)"
   ]
  },
  {
   "cell_type": "code",
   "execution_count": 4,
   "metadata": {},
   "outputs": [
    {
     "name": "stdout",
     "output_type": "stream",
     "text": [
      "['태양', '수성', '금성', '지구', '화성', '토성', '천왕성', '해왕성']\n"
     ]
    }
   ],
   "source": [
    "#Q.다음의 리스트에서 목성을 삭제하시오\n",
    "a=['태양','수성','금성','지구','화성','목성','토성','천왕성','해왕성']\n",
    "del(a[a.index('목성')])\n",
    "print(a)"
   ]
  },
  {
   "cell_type": "code",
   "execution_count": 5,
   "metadata": {},
   "outputs": [
    {
     "name": "stdout",
     "output_type": "stream",
     "text": [
      "['red', 'red', 'blue', 'blue']\n"
     ]
    }
   ],
   "source": [
    "#Q.빨간공 2개와 파란공 3개가 들어있는 주머니에서 공을 하나 랜덤으로 추출하는데 비복원 추출로 하시오\n",
    "import random\n",
    "box=['red','red','blue','blue','blue']\n",
    "ball=random.choice(box)\n",
    "box.remove(ball)\n",
    "print(box)"
   ]
  },
  {
   "cell_type": "code",
   "execution_count": 6,
   "metadata": {},
   "outputs": [
    {
     "name": "stdout",
     "output_type": "stream",
     "text": [
      "0.6016\n"
     ]
    }
   ],
   "source": [
    "#Q.아래의 주머니에서 임의로 하나의 공을 뽑았을 때 그 공이 파란색일 확률은?\n",
    "#복원 추출, 공 10000번 뽑기\n",
    "import random\n",
    "box=['red','red','blue','blue','blue']\n",
    "cnt=0\n",
    "for i in range(1,10001):\n",
    "    ball=random.choice(box)\n",
    "    if ball=='blue':\n",
    "        cnt+=1\n",
    "print(cnt/10000)"
   ]
  },
  {
   "cell_type": "code",
   "execution_count": 7,
   "metadata": {},
   "outputs": [
    {
     "name": "stdout",
     "output_type": "stream",
     "text": [
      "['red', 'red', 'red', 'red', 'red', 'red', 'red', 'red', 'red', 'red', 'red', 'red', 'red', 'red', 'red', 'red', 'red', 'red', 'red', 'red', 'red', 'red', 'red', 'red', 'red', 'red', 'red', 'red', 'red', 'red', 'blue', 'blue', 'blue', 'blue', 'blue', 'blue', 'blue', 'blue', 'blue', 'blue', 'blue', 'blue', 'blue', 'blue', 'blue', 'blue', 'blue', 'blue', 'blue', 'blue', 'blue', 'blue', 'blue', 'blue', 'blue', 'blue', 'blue', 'blue', 'blue', 'blue', 'blue', 'blue', 'blue', 'blue', 'blue', 'blue', 'blue', 'blue', 'blue', 'blue', 'blue', 'blue', 'blue', 'blue', 'blue', 'blue', 'blue', 'blue', 'blue', 'blue', 'blue', 'blue', 'blue', 'blue', 'blue', 'blue', 'blue', 'blue', 'blue', 'blue', 'blue', 'blue', 'blue', 'blue', 'blue', 'blue', 'blue', 'blue', 'blue', 'blue']\n"
     ]
    }
   ],
   "source": [
    "#Q.파란공 70개와 빨간공 30개가 들어있는 주머니를 만드시오\n",
    "box1=['red']*30\n",
    "box2=['blue']*70\n",
    "box=box1+box2\n",
    "print(box)"
   ]
  },
  {
   "cell_type": "code",
   "execution_count": 8,
   "metadata": {},
   "outputs": [
    {
     "name": "stdout",
     "output_type": "stream",
     "text": [
      "['blue', 'blue', 'red', 'blue', 'red', 'red', 'blue', 'blue', 'blue', 'blue', 'red', 'blue', 'blue', 'red', 'blue', 'blue', 'blue', 'blue', 'blue', 'blue', 'blue', 'blue', 'blue', 'blue', 'blue', 'red', 'red', 'red', 'blue', 'blue', 'blue', 'blue', 'blue', 'blue', 'blue', 'blue', 'red', 'blue', 'red', 'blue', 'blue', 'blue', 'blue', 'blue', 'blue', 'blue', 'red', 'blue', 'blue', 'red', 'blue', 'blue', 'red', 'blue', 'red', 'blue', 'blue', 'blue', 'blue', 'blue', 'red', 'red', 'blue', 'blue', 'blue', 'blue', 'red', 'blue', 'blue', 'blue', 'red', 'blue', 'red', 'blue', 'blue', 'red', 'blue', 'blue', 'blue', 'blue', 'red', 'red', 'red', 'red', 'blue', 'blue', 'red', 'red', 'red', 'red', 'red', 'blue', 'blue', 'blue', 'red', 'blue', 'blue', 'blue', 'blue', 'blue']\n"
     ]
    }
   ],
   "source": [
    "#Q.위의 박스안의 요소들을 무작위로 섞으시오\n",
    "from random import shuffle #from 패키지 import 모듈\n",
    "box1=['red']*30\n",
    "box2=['blue']*70\n",
    "box=box1+box2\n",
    "shuffle(box) #무작위로 섞기\n",
    "print(box)"
   ]
  },
  {
   "cell_type": "code",
   "execution_count": 9,
   "metadata": {},
   "outputs": [
    {
     "name": "stdout",
     "output_type": "stream",
     "text": [
      "0.3401\n"
     ]
    }
   ],
   "source": [
    "#Q.위의 box에서 공 3개를 추출했을 떄 그 공 3개가 다 파란색일 확률은?\n",
    "#비복원추출, 10000번 수행\n",
    "from random import shuffle #from 패키지 import 모듈\n",
    "import random\n",
    "cnt=0\n",
    "box1=['red']*30\n",
    "box2=['blue']*70\n",
    "box=box1+box2\n",
    "shuffle(box) #무작위로 섞기\n",
    "for i in range(1,10001):\n",
    "    ball=random.sample(box,3) #box에서 공을 3개씩 추출해서 ball에 담기\n",
    "    if ball.count('blue')==3: #ball에 blue가 3개면\n",
    "        cnt+=1\n",
    "print(cnt/10000)"
   ]
  },
  {
   "cell_type": "code",
   "execution_count": 10,
   "metadata": {},
   "outputs": [
    {
     "name": "stdout",
     "output_type": "stream",
     "text": [
      "0.4384\n"
     ]
    }
   ],
   "source": [
    "#Q.이번에는 공 2개가 파란색일 확률은?\n",
    "from random import shuffle #from 패키지 import 모듈\n",
    "import random\n",
    "cnt=0\n",
    "box1=['red']*30\n",
    "box2=['blue']*70\n",
    "box=box1+box2\n",
    "shuffle(box) #무작위로 섞기\n",
    "for i in range(1,10001):\n",
    "    ball=random.sample(box,3) #box에서 공을 3개씩 추출해서 ball에 담기\n",
    "    if ball.count('blue')==2: #ball에 blue가 3개면\n",
    "        cnt+=1\n",
    "print(cnt/10000)"
   ]
  },
  {
   "cell_type": "code",
   "execution_count": 11,
   "metadata": {},
   "outputs": [
    {
     "name": "stdout",
     "output_type": "stream",
     "text": [
      "0.439\n"
     ]
    }
   ],
   "source": [
    "#Q.6개의 제품이 들어있는 상자가 있는데 그 중 2개가 불량품이라고 했을 때 \n",
    "#제품 검사를 위해 3개를 추출했을 때 1개가 불량품일 확률은? (복원)\n",
    "import random\n",
    "import numpy as np\n",
    "cnt=0\n",
    "cnt2=0\n",
    "box=['정상','불량','정상','정상','불량','정상']\n",
    "for i in range(1,10001):\n",
    "    ball=list(np.random.choice(box,3,replace=True))\n",
    "    cnt+=1\n",
    "    if ball.count('불량')==1:\n",
    "        cnt2+=1\n",
    "print(cnt2/cnt)"
   ]
  },
  {
   "cell_type": "code",
   "execution_count": 12,
   "metadata": {},
   "outputs": [
    {
     "data": {
      "image/png": "[encoded data removed]",
      "text/plain": [
       "<Figure size 432x288 with 1 Axes>"
      ]
     },
     "metadata": {
      "needs_background": "light"
     },
     "output_type": "display_data"
    }
   ],
   "source": [
    "#Q.초등학생 10만명의 체중 데이터를 가지고 히스토그램 그래프를 그리시오\n",
    "import matplotlib.pyplot as plt\n",
    "import numpy as np\n",
    "weight=np.random.randn(100000)*5+45\n",
    "bins=list(range(30,61,2))\n",
    "plt.hist(weight,bins,rwidth=0.8,color='magenta')\n",
    "plt.xticks(bins)\n",
    "plt.grid()"
   ]
  },
  {
   "cell_type": "code",
   "execution_count": 13,
   "metadata": {},
   "outputs": [
    {
     "name": "stdout",
     "output_type": "stream",
     "text": [
      "44.37471976763257\n"
     ]
    }
   ],
   "source": [
    "#Q.위의 체중 데이터를 모수로보고 10만명의 체중 데이터에서 100명을 샘플링하여 평균을 구하시오\n",
    "import numpy as np\n",
    "weight=np.random.randn(100000)*5+45\n",
    "result=np.random.choice(weight,100,replace=True).mean()\n",
    "print(result)"
   ]
  },
  {
   "cell_type": "code",
   "execution_count": null,
   "metadata": {},
   "outputs": [],
   "source": [
    "#Q.위의 작업을 1000번 수행해서 a라는 비어있는 리스트에 담으시오\n",
    "import numpy as np\n",
    "weight=np.random.randn(100000)*5+45\n",
    "a=[]\n",
    "for i in range(1,1001):\n",
    "    a.append(np.random.choice(weight,100,replace=True).mean())\n",
    "print(a)"
   ]
  },
  {
   "cell_type": "code",
   "execution_count": 14,
   "metadata": {},
   "outputs": [
    {
     "data": {
      "image/png": "[encoded data removed]",
      "text/plain": [
       "<Figure size 432x288 with 1 Axes>"
      ]
     },
     "metadata": {
      "needs_background": "light"
     },
     "output_type": "display_data"
    }
   ],
   "source": [
    "#Q.위의 표본평균 1000개를 가지고 히스토그램 그래프를 그리시오\n",
    "import numpy as np\n",
    "import matplotlib.pyplot as plt\n",
    "weight=np.random.randn(100000)*5+45\n",
    "a=[]\n",
    "for i in range(1,1001):\n",
    "    a.append(np.random.choice(weight,100,replace=True).mean())\n",
    "bins=list(range(40,61,1))\n",
    "plt.hist(a,bins,rwidth=0.8,color='magenta')\n",
    "plt.xticks(bins)\n",
    "plt.grid()"
   ]
  },
  {
   "cell_type": "code",
   "execution_count": 15,
   "metadata": {},
   "outputs": [
    {
     "name": "stdout",
     "output_type": "stream",
     "text": [
      "5\n"
     ]
    }
   ],
   "source": [
    "#Q.우리반 나이 데이터를 비어있는 리스트 a에 입력하고 27살이 몇명있는지 출력하시오\n",
    "import csv\n",
    "file=open(\"d:\\\\data\\\\emp1222.csv\",encoding='UTF8')\n",
    "emp12_csv=csv.reader(file)\n",
    "a=[]\n",
    "for emp_list in emp12_csv:\n",
    "    a.append(int(emp_list[2]))\n",
    "print(a.count(27))"
   ]
  },
  {
   "cell_type": "code",
   "execution_count": 16,
   "metadata": {},
   "outputs": [
    {
     "name": "stdout",
     "output_type": "stream",
     "text": [
      "['In', 'Out', '_', '__', '___', '__builtin__', '__builtins__', '__doc__', '__loader__', '__name__', '__package__', '__spec__', '_dh', '_i', '_i1', '_i10', '_i11', '_i12', '_i13', '_i14', '_i15', '_i16', '_i2', '_i3', '_i4', '_i5', '_i6', '_i7', '_i8', '_i9', '_ih', '_ii', '_iii', '_oh', 'a', 'add', 'b', 'ball', 'bins', 'box', 'box1', 'box2', 'c', 'cnt', 'cnt2', 'csv', 'domain', 'dot', 'emp12_csv', 'emp_list', 'exit', 'file', 'get_ipython', 'i', 'list_a', 'np', 'plt', 'quit', 'random', 'result', 'shuffle', 'weight']\n"
     ]
    }
   ],
   "source": [
    "#파이썬에서 정의된 모든 변수들 확인하기\n",
    "a=[1,2,3,4,5]\n",
    "b='scott'\n",
    "c=30\n",
    "print(dir())"
   ]
  },
  {
   "cell_type": "code",
   "execution_count": 17,
   "metadata": {},
   "outputs": [
    {
     "name": "stdout",
     "output_type": "stream",
     "text": [
      "[5000, 3000, 3000, 2975, 2850, 2450, 1600, 1500, 1300, 1250, 1250, 1100, 950, 800]\n"
     ]
    }
   ],
   "source": [
    "#Q.emp2.csv에서 월급을 비어있는 리스트인 a에 담고 월급을 역순으로 정렳하시오\n",
    "import csv\n",
    "file=open(\"d:\\\\data\\\\emp22.csv\",encoding='UTF8')\n",
    "emp2_csv=csv.reader(file)\n",
    "a=[]\n",
    "for emp_list in emp2_csv:\n",
    "    a.append(int(emp_list[5]))\n",
    "a.sort(reverse=True)\n",
    "print(a)"
   ]
  },
  {
   "cell_type": "code",
   "execution_count": 18,
   "metadata": {},
   "outputs": [
    {
     "name": "stdout",
     "output_type": "stream",
     "text": [
      "[(0, '철수'), (1, '짱구'), (2, '유리'), (3, '맹구')]\n",
      "0 철수\n",
      "1 짱구\n",
      "2 유리\n",
      "3 맹구\n"
     ]
    }
   ],
   "source": [
    "#enumerate 이해하기\n",
    "emp12=['철수','짱구','유리','맹구']\n",
    "result=list(enumerate(emp12))\n",
    "print(result)\n",
    "\n",
    "for i, k in enumerate(emp12):\n",
    "    print(i,k)"
   ]
  },
  {
   "cell_type": "code",
   "execution_count": 19,
   "metadata": {},
   "outputs": [
    {
     "name": "stdout",
     "output_type": "stream",
     "text": [
      "비틀즈 yesterday\n",
      "비틀즈 imagine\n",
      "아이유 너랑나\n",
      "아이유 마슈멜로우\n",
      "마이클잭슨 beat it\n",
      "마이클잭슨 smooth criminal\n"
     ]
    }
   ],
   "source": [
    "#Q.아래의 music리스트에서 요소를 하나씩 빼내는데 앞에 인덱스번호도 함께 출력되게하시오\n",
    "music=['yesterday','imagine','너랑나','마슈멜로우','beat it','smooth criminal']\n",
    "artist=['비틀즈','비틀즈','아이유','아이유','마이클잭슨','마이클잭슨']\n",
    "for i, k in enumerate(artist):\n",
    "    print(k,music[i])"
   ]
  },
  {
   "cell_type": "code",
   "execution_count": 20,
   "metadata": {},
   "outputs": [
    {
     "name": "stdout",
     "output_type": "stream",
     "text": [
      "defaultdict(<class 'list'>, {'비틀즈': ['yesterday']})\n",
      "defaultdict(<class 'list'>, {'비틀즈': ['yesterday', 'imagine']})\n"
     ]
    }
   ],
   "source": [
    "#Q.가수와 음악제목으로 딕셔너리를 구성하시오\n",
    "from collections import defaultdict\n",
    "genie=defaultdict(list)\n",
    "genie['비틀즈'].append('yesterday')\n",
    "print(genie)\n",
    "genie['비틀즈'].append('imagine')\n",
    "print(genie)"
   ]
  },
  {
   "cell_type": "code",
   "execution_count": 21,
   "metadata": {},
   "outputs": [
    {
     "name": "stdout",
     "output_type": "stream",
     "text": [
      "defaultdict(<class 'list'>, {'비틀즈': ['yesterday', 'imagine'], '아이유': ['너랑나', '마슈멜로우'], '마이클잭슨': ['beat it', 'smooth criminal']})\n"
     ]
    }
   ],
   "source": [
    "#Q.위와같이 일일이 노가다하지말고 enumerate를 이용해서 genie 딕셔너리를 구성하시오\n",
    "from collections import defaultdict\n",
    "music=['yesterday','imagine','너랑나','마슈멜로우','beat it','smooth criminal']\n",
    "artist=['비틀즈','비틀즈','아이유','아이유','마이클잭슨','마이클잭슨']\n",
    "genie=defaultdict(list)\n",
    "\n",
    "for i,k in enumerate(artist):\n",
    "    genie[k].append(music[i])\n",
    "print(genie)"
   ]
  },
  {
   "cell_type": "code",
   "execution_count": 22,
   "metadata": {},
   "outputs": [
    {
     "name": "stdout",
     "output_type": "stream",
     "text": [
      "yesterday\n",
      "imagine\n",
      "너랑나\n",
      "마슈멜로우\n",
      "beat it\n",
      "smooth criminal\n",
      "['yesterday', 'imagine']\n",
      "['너랑나', '마슈멜로우']\n",
      "['beat it', 'smooth criminal']\n"
     ]
    }
   ],
   "source": [
    "#Q.위의 genie 딕셔너리에서 음악만 추출하시오\n",
    "for i in genie.values():\n",
    "    for k in i:\n",
    "        print(k)\n",
    "        \n",
    "for i in genie.values():\n",
    "    print(i)"
   ]
  },
  {
   "cell_type": "code",
   "execution_count": 23,
   "metadata": {},
   "outputs": [
    {
     "name": "stdout",
     "output_type": "stream",
     "text": [
      "yesterday\n",
      "너랑나\n",
      "beat it\n"
     ]
    }
   ],
   "source": [
    "#Q.아래 코드를 수행해서 genie.values()의 요소들을 프린트 해보시오\n",
    "from collections import defaultdict\n",
    "music=['yesterday','imagine','너랑나','마슈멜로우','beat it','smooth criminal']\n",
    "artist=['비틀즈','비틀즈','아이유','아이유','마이클잭슨','마이클잭슨']\n",
    "genie=defaultdict(list)\n",
    "\n",
    "for i, k in enumerate(artist):\n",
    "    genie[k].append(music[i])\n",
    "for j in genie.values():\n",
    "    print(j[0])"
   ]
  },
  {
   "cell_type": "code",
   "execution_count": 24,
   "metadata": {},
   "outputs": [
    {
     "name": "stdout",
     "output_type": "stream",
     "text": [
      "yesterday,너랑나,beat it,imagine,마슈멜로우,smooth criminal\n"
     ]
    }
   ],
   "source": [
    "#Q.2.다음과 같이 결과를 출력하시오 yesterday,너랑나,beat it,imagine,마슈멜로우,smooth criminal\n",
    "from collections import defaultdict\n",
    "music=['yesterday','imagine','너랑나','마슈멜로우','beat it','smooth criminal']\n",
    "artist=['비틀즈','비틀즈','아이유','아이유','마이클잭슨','마이클잭슨']\n",
    "genie=defaultdict(list)\n",
    "for i, k in enumerate(artist):\n",
    "    genie[k].append(music[i])\n",
    "\n",
    "a=[]\n",
    "b=[]\n",
    "for j in genie.values():\n",
    "    a.append(j[0])\n",
    "    b.append(j[1])\n",
    "\n",
    "bond=','\n",
    "m=bond.join(a+b)\n",
    "print(m)"
   ]
  },
  {
   "cell_type": "code",
   "execution_count": 25,
   "metadata": {},
   "outputs": [
    {
     "name": "stdout",
     "output_type": "stream",
     "text": [
      "yesterday,너랑나,beat it,imagine,마슈멜로우,smooth criminal\n"
     ]
    }
   ],
   "source": [
    "#Q.3 without hardcoding\n",
    "from collections import defaultdict\n",
    "music=['yesterday','imagine','너랑나','마슈멜로우','beat it','smooth criminal']\n",
    "artist=['비틀즈','비틀즈','아이유','아이유','마이클잭슨','마이클잭슨']\n",
    "genie=defaultdict(list)\n",
    "a=[]\n",
    "for i,k in enumerate(artist):\n",
    "    genie[k].append(music[i])\n",
    "    a.append(artist.count(k))\n",
    "\n",
    "b=[]\n",
    "for n in range(max(a)):\n",
    "    for j in genie.values():\n",
    "        b.append(j[n])\n",
    "        \n",
    "bond=','\n",
    "print(bond.join(b))"
   ]
  }
 ],
 "metadata": {
  "kernelspec": {
   "display_name": "Python 3",
   "language": "python",
   "name": "python3"
  },
  "language_info": {
   "codemirror_mode": {
    "name": "ipython",
    "version": 3
   },
   "file_extension": ".py",
   "mimetype": "text/x-python",
   "name": "python",
   "nbconvert_exporter": "python",
   "pygments_lexer": "ipython3",
   "version": "3.8.5"
  }
 },
 "nbformat": 4,
 "nbformat_minor": 4
}
