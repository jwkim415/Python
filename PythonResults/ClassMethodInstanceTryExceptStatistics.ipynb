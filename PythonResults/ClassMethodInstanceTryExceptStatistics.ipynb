{
 "cells": [
  {
   "cell_type": "code",
   "execution_count": 1,
   "metadata": {},
   "outputs": [
    {
     "name": "stdout",
     "output_type": "stream",
     "text": [
      "총이 만들어졌습니다. 총알은 0 발 장전되었습니다.\n"
     ]
    }
   ],
   "source": [
    "#Q.총을 만드는 클래스를 작성하고 총을 생성하면 \"총이 만들어졌습니다. 총알은 0발 장전되었습니다.\"\n",
    "#라는 메세지가 출력되게 총 클래스를 만드시오\n",
    "class Gun():\n",
    "    def __init__(self):\n",
    "        self.bullet=0\n",
    "        print('총이 만들어졌습니다. 총알은 %d 발 장전되었습니다.' %(self.bullet))\n",
    "\n",
    "yys_gun1=Gun()"
   ]
  },
  {
   "cell_type": "code",
   "execution_count": 2,
   "metadata": {},
   "outputs": [
    {
     "name": "stdout",
     "output_type": "stream",
     "text": [
      "카드가 발급되었습니다.\n",
      "10000원이 충전되었습니다.\n",
      "잔액이 부족합니다.\n"
     ]
    }
   ],
   "source": [
    "#Q.카드 클래스를 만들고 충전한 금액보다 더 많은 금액을 소비하면 어떻게 되는지 테스트하시오\n",
    "class Card(): \n",
    "    def __init__(self):\n",
    "        self.cash=0\n",
    "        print('카드가 발급되었습니다.')\n",
    "    def charge(self,num):\n",
    "        self.cash += num\n",
    "        print('%d원이 충전되었습니다.' %(num))\n",
    "    def consume(self,num):\n",
    "        if self.cash>=num:   #잔액이 소비하는 돈보다 커야지만 쓸수있게\n",
    "            self.cash-=num\n",
    "            print('%d원이 사용되었습니다.' %(num))\n",
    "        else: \n",
    "            print('잔액이 부족합니다.')\n",
    "\n",
    "yys_card1=Card()\n",
    "yys_card1.charge(10000)\n",
    "yys_card1.consume(18000)"
   ]
  },
  {
   "cell_type": "code",
   "execution_count": 3,
   "metadata": {},
   "outputs": [
    {
     "name": "stdout",
     "output_type": "stream",
     "text": [
      "카드가 발급되었습니다.\n",
      "10000원이 충전되었습니다.\n",
      "8000원이 사용되었습니다.\n"
     ]
    }
   ],
   "source": [
    "#Q.팀장님의 Card 클래스를 상속받으시오\n",
    "class Card(): #부모클래스\n",
    "    def __init__(self):\n",
    "        self.cash=0\n",
    "        print('카드가 발급되었습니다.')\n",
    "    def charge(self,num):\n",
    "        self.cash += num\n",
    "        print('%d원이 충전되었습니다.' %(num))\n",
    "    def consume(self,num):\n",
    "        if self.cash>=num:   #잔액이 소비하는 돈보다 커야지만 쓸수있게\n",
    "            self.cash-=num\n",
    "            print('%d원이 사용되었습니다.' %(num))\n",
    "        else: \n",
    "            print('잔액이 부족합니다.')\n",
    "\n",
    "class Movie_Card(Card): #내 클래스이름(무보클래스인 상속받은 클래스이름)\n",
    "    pass #아무것도 코딩하지 않을거라는 뜻\n",
    "\n",
    "m_card1=Movie_Card()\n",
    "m_card1.charge(10000)\n",
    "m_card1.consume(8000)"
   ]
  },
  {
   "cell_type": "code",
   "execution_count": 4,
   "metadata": {},
   "outputs": [
    {
     "name": "stdout",
     "output_type": "stream",
     "text": [
      "카드가 발급되었습니다.\n",
      "100000원이 충전되었습니다.\n",
      "영화관 에서 9600.0 원이 사용되었습니다.\n",
      "주유소 에서 24000.0 원이 사용되었습니다.\n",
      "편의점 에서 2000 원이 사용되었습니다.\n"
     ]
    }
   ],
   "source": [
    "#Q.팀장님의 Card 클래스를 상속받아 영화관할인이 되게 구현하시오\n",
    "#부모클래스\n",
    "class Card(): \n",
    "    def __init__(self):\n",
    "        self.cash=0\n",
    "        print('카드가 발급되었습니다.')\n",
    "    def charge(self,num):\n",
    "        self.cash += num\n",
    "        print('%d원이 충전되었습니다.' %(num))\n",
    "    def consume(self,num):\n",
    "        if self.cash>=num:   #잔액이 소비하는 돈보다 커야지만 쓸수있게\n",
    "            self.cash-=num\n",
    "            print('%d원이 사용되었습니다.' %(num))\n",
    "        else: \n",
    "            print('잔액이 부족합니다.')\n",
    "\n",
    "#자식클래스\n",
    "class Movie_Card(Card): #내 클래스이름(무보클래스인 상속받은 클래스이름)\n",
    "    def consume(self,num,place): #부모클래스의 consume을 내 consume으로 덮어쓰기(overriding)\n",
    "        if place in ('영화관','주유소'):\n",
    "            num=0.8*num\n",
    "            if self.cash>=num: #잔액이 num보다 크다면 카드를 사용하고 아니면 잔액부족출력\n",
    "                self.cash-=num\n",
    "                print(place,'에서',num,'원이 사용되었습니다.')\n",
    "            else:\n",
    "                print('잔액이 부족합니다.') \n",
    "        else:\n",
    "            if self.cash>=num:\n",
    "                self.cash-=num\n",
    "                print(place,'에서',num,'원이 사용되었습니다.')\n",
    "            else:\n",
    "                print('잔액이 부족합니다.')\n",
    "\n",
    "m_card1=Movie_Card()\n",
    "m_card1.charge(100000)\n",
    "m_card1.consume(12000,'영화관')\n",
    "m_card1.consume(30000,'주유소')\n",
    "m_card1.consume(2000,'편의점')"
   ]
  },
  {
   "cell_type": "code",
   "execution_count": 5,
   "metadata": {},
   "outputs": [
    {
     "name": "stdout",
     "output_type": "stream",
     "text": [
      "카드가 발급되었습니다.\n",
      "20000원이 충전되었습니다.\n",
      "영화관 에서 9600.0 원이 사용되었습니다.\n",
      "잔액이 부족합니다.\n",
      "편의점 에서 2000 원이 사용되었습니다.\n"
     ]
    }
   ],
   "source": [
    "#Q.영화관과 주유소에서는 20%할인되게 코드를 수정하시오\n",
    "#부모클래스\n",
    "class Card(): \n",
    "    def __init__(self):\n",
    "        self.cash=0\n",
    "        print('카드가 발급되었습니다.')\n",
    "    def charge(self,num):\n",
    "        self.cash += num\n",
    "        print('%d원이 충전되었습니다.' %(num))\n",
    "    def consume(self,num):\n",
    "        if self.cash>=num:   #잔액이 소비하는 돈보다 커야지만 쓸수있게\n",
    "            self.cash-=num\n",
    "            print('%d원이 사용되었습니다.' %(num))\n",
    "        else: \n",
    "            print('잔액이 부족합니다.')\n",
    "\n",
    "#자식클래스\n",
    "class Movie_Card(Card): #내 클래스이름(무보클래스인 상속받은 클래스이름)\n",
    "    def consume(self,num,place): #부모클래스의 consume을 내 consume으로 덮어쓰기(overriding)\n",
    "        if place=='영화관':\n",
    "            num=0.8*num\n",
    "            if self.cash>=num: #잔액이 num보다 크다면 카드를 사용하고 아니면 잔액부족출력\n",
    "                self.cash-=num\n",
    "                print(place,'에서',num,'원이 사용되었습니다.')\n",
    "            else:\n",
    "                print('잔액이 부족합니다.') \n",
    "        else:\n",
    "            if self.cash>=num:\n",
    "                self.cash-=num\n",
    "                print(place,'에서',num,'원이 사용되었습니다.')\n",
    "            else:\n",
    "                print('잔액이 부족합니다.')\n",
    "\n",
    "m_card1=Movie_Card()\n",
    "m_card1.charge(20000)\n",
    "m_card1.consume(12000,'영화관')\n",
    "m_card1.consume(30000,'주유소')\n",
    "m_card1.consume(2000,'편의점')"
   ]
  },
  {
   "cell_type": "code",
   "execution_count": 6,
   "metadata": {},
   "outputs": [
    {
     "name": "stdout",
     "output_type": "stream",
     "text": [
      "카드가 발급되었습니다.\n",
      "100000원이 충전되었습니다.\n",
      "영화관 에서 9600.0 원이 사용되었습니다.\n",
      "주유소 에서 24000.0 원이 사용되었습니다.\n",
      "스타벅스 에서 5400.0 원이 사용되었습니다.\n",
      "편의점 에서 2000 원이 사용되었습니다.\n"
     ]
    }
   ],
   "source": [
    "#영화관과 주유소에서는 20%할인되게하고 스타벅스에서는 10%할인되게 코드를 수정하시오\n",
    "#부모클래스\n",
    "class Card(): \n",
    "    def __init__(self):\n",
    "        self.cash=0\n",
    "        print('카드가 발급되었습니다.')\n",
    "    def charge(self,num):\n",
    "        self.cash += num\n",
    "        print('%d원이 충전되었습니다.' %(num))\n",
    "    def consume(self,num):\n",
    "        if self.cash>=num:   #잔액이 소비하는 돈보다 커야지만 쓸수있게\n",
    "            self.cash-=num\n",
    "            print('%d원이 사용되었습니다.' %(num))\n",
    "        else: \n",
    "            print('잔액이 부족합니다.')\n",
    "\n",
    "#자식클래스\n",
    "class Movie_Card(Card): #내 클래스이름(무보클래스인 상속받은 클래스이름)\n",
    "    def consume(self,num,place): #부모클래스의 consume을 내 consume으로 덮어쓰기(overriding)\n",
    "        if place in ('영화관','주유소'):\n",
    "            num=0.8*num\n",
    "            if self.cash>=num: #잔액이 num보다 크다면 카드를 사용하고 아니면 잔액부족출력\n",
    "                self.cash-=num\n",
    "                print(place,'에서',num,'원이 사용되었습니다.')\n",
    "            else:    \n",
    "                print('잔액이 부족합니다.') \n",
    "        elif place=='스타벅스':\n",
    "            num=0.9*num\n",
    "            if self.cash>=num: #잔액이 num보다 크다면 카드를 사용하고 아니면 잔액부족출력\n",
    "                self.cash-=num\n",
    "                print(place,'에서',num,'원이 사용되었습니다.')\n",
    "            else:\n",
    "                print('잔액이 부족합니다.') \n",
    "        else:\n",
    "            if self.cash>=num:\n",
    "                self.cash-=num\n",
    "                print(place,'에서',num,'원이 사용되었습니다.')\n",
    "            else:\n",
    "                print('잔액이 부족합니다.')\n",
    "\n",
    "m_card1=Movie_Card()\n",
    "m_card1.charge(100000)\n",
    "m_card1.consume(12000,'영화관')\n",
    "m_card1.consume(30000,'주유소')\n",
    "m_card1.consume(6000,'스타벅스')\n",
    "m_card1.consume(2000,'편의점')"
   ]
  },
  {
   "cell_type": "code",
   "execution_count": 7,
   "metadata": {},
   "outputs": [
    {
     "name": "stdout",
     "output_type": "stream",
     "text": [
      "5000000\n",
      "chulsu.kim@gmail.com\n",
      "5500000\n"
     ]
    }
   ],
   "source": [
    "#사원이 입사하면 입사한 사원에 대한 이메일을 자동으로 생성하고 이름을 출력하는 \n",
    "#함수와 월급을 인상하는 함수를 담는 클래스를 생성하시오\n",
    "class  Employees:#원래는 뒤에()써야하는데 init메소드에 self말고도 다른 변수가 있기 때문에 생략\n",
    "    raise_amount = 1.1  # 클래스 변수, 앞에 self. 안붙임\n",
    "    def __init__(self, first, last, pay): # 객체가 만들어질때 바로 작동되는 함수\n",
    "        self.first = first   #객체를 생성할때 입력값이 3개가 입력되면서 객체가 만들어집니다.\n",
    "        self.last  = last\n",
    "        self.pay   = pay\n",
    "        self.email = first.lower() + '.' + last.lower() + '@gmail.com'\n",
    "        self.raise_amount = 1.1  # 인스턴스 변수, 앞에 self. 붙임\n",
    "\n",
    "    def  full_name(self): #사원의 전체이름을 출력하는 함수\n",
    "        return '{} {}'.format(self.first, self.last) #중괄호에 각각 first, last가 들어감. respectively\n",
    "        #return이랑 print랑 똑같은데 return을 쓰면 밑에 출력할떄 꼭 print()로 둘러줘야 결과가 보임\n",
    "        #print를 처음부터 쓰면 return 안써도되고, 밑에도 print()로 둘러주지 않아도 됨.\n",
    "    def  apply_raise(self): # 월급을 인상하는 함수\n",
    "        self.pay = int( self.pay * self.raise_amount)\n",
    "\n",
    "\n",
    "emp_chulsu = Employees('chulsu', 'kim', 5000000)\n",
    "print(emp_chulsu.pay)   # 5000000\n",
    "print(emp_chulsu.email)\n",
    "emp_chulsu.apply_raise()\n",
    "print(emp_chulsu.pay)  # 5500000"
   ]
  },
  {
   "cell_type": "code",
   "execution_count": 8,
   "metadata": {},
   "outputs": [
    {
     "name": "stdout",
     "output_type": "stream",
     "text": [
      "5000000\n",
      "6000000\n"
     ]
    }
   ],
   "source": [
    "#Q.위의 코드에 chulsu2라는 사원이 입사했는데 본인의 월급을 20인상시키는 인스턴스변수를 알아내서\n",
    "#메소드를 실행했다.\n",
    "class  Employees:#원래는 뒤에()써야하는데 init메소드에 self말고도 다른 변수가 있기 때문에 생략\n",
    "    raise_amount = 1.1  # 클래스 변수, 앞에 self. 안붙임\n",
    "    def __init__(self, first, last, pay): # 객체가 만들어질때 바로 작동되는 함수\n",
    "        self.first = first   #객체를 생성할때 입력값이 3개가 입력되면서 객체가 만들어집니다.\n",
    "        self.last  = last\n",
    "        self.pay   = pay\n",
    "        self.email = first.lower() + '.' + last.lower() + '@gmail.com'\n",
    "        self.raise_amount = 1.1  # 인스턴스 변수, 앞에 self. 붙임\n",
    "\n",
    "    def  full_name(self): #사원의 전체이름을 출력하는 함수\n",
    "        return '{} {}'.format(self.first, self.last) #중괄호에 각각 first, last가 들어감. respectively\n",
    "        #return이랑 print랑 똑같은데 return을 쓰면 밑에 출력할떄 꼭 print()로 둘러줘야 결과가 보임\n",
    "        #print를 처음부터 쓰면 return 안써도되고, 밑에도 print()로 둘러주지 않아도 됨.\n",
    "    def  apply_raise(self): # 월급을 인상하는 함수\n",
    "        self.pay = int( self.pay * self.raise_amount)\n",
    "\n",
    "emp_chulsu2 = Employees('chulsu2', 'kim', 5000000)\n",
    "emp_chulsu2.raise_amount = 1.2\n",
    "print(emp_chulsu2.pay)   # 5000000\n",
    "emp_chulsu2.apply_raise()\n",
    "print(emp_chulsu2.pay)  # 6000000"
   ]
  },
  {
   "cell_type": "code",
   "execution_count": 9,
   "metadata": {},
   "outputs": [
    {
     "name": "stdout",
     "output_type": "stream",
     "text": [
      "5000000\n",
      "5500000\n"
     ]
    }
   ],
   "source": [
    "#Q.위의 문제에서처럼 임의로 인스턴스변수를 변경하지 못하게 하는 코드를 생성하시오\n",
    "class  Employees:\n",
    "    raise_amount = 1.1  # 클래스 변수\n",
    "    def __init__(self, first, last, pay): # 객체가 만들어질때\n",
    "        self.first = first               # 바로 작동되는 함수\n",
    "        self.last  = last\n",
    "        self.pay   = pay\n",
    "        self.email = first.lower() + '.' + last.lower() + '@gmail.com'\n",
    "        self.raise_amount = 1.1  # 인스턴스 변수\n",
    "\n",
    "    def  full_name(self): #사원의 전체이름을 출력하는 함수\n",
    "        return  '{} {}'.format(self.first, self.last)\n",
    "\n",
    "    def  apply_raise(self): # 월급을 인상하는 함수\n",
    "        self.pay = int( self.pay * Employees.raise_amount)  # 클래스 변수를 사용 \n",
    "\n",
    "\n",
    "emp_chulsu2 = Employees('chulsu2', 'kim', 5000000)\n",
    "\n",
    "emp_chulsu2.raise_amount = 1.2   # 인스턴스 변수만 변경할 수 있고 클래스 변수는\n",
    "                                             # 변경할 수 없다. \n",
    "\n",
    "print(emp_chulsu2.pay)   # 5000000\n",
    "emp_chulsu2.apply_raise()\n",
    "print(emp_chulsu2.pay)  # 5500000"
   ]
  },
  {
   "cell_type": "code",
   "execution_count": 10,
   "metadata": {},
   "outputs": [
    {
     "name": "stdout",
     "output_type": "stream",
     "text": [
      "분자의 숫자를 입력하세요10\n",
      "분모의 숫자를 입력하세요5\n",
      "2.0\n",
      "None\n"
     ]
    }
   ],
   "source": [
    "#예외처리 이해하기\n",
    "#try_except를 사용해서 예외처리를 하지 않았을 떄의 코드\n",
    "def my_divide():\n",
    "    x=input('분자의 숫자를 입력하세요')\n",
    "    y=input('분모의 숫자를 입력하세요')\n",
    "    print (int(x) / int(y))\n",
    "print(my_divide() )\n"
   ]
  },
  {
   "cell_type": "code",
   "execution_count": 11,
   "metadata": {},
   "outputs": [
    {
     "name": "stdout",
     "output_type": "stream",
     "text": [
      "분자의 숫자를 입력하세요10\n",
      "분모의 숫자를 입력하세요w\n",
      "잘못된 값을 입력하셔서 나누기를 할 수 없습니다. \n"
     ]
    }
   ],
   "source": [
    "#try_except를 사용해서 예외처리 했을 때의 예제\n",
    "def my_divide():\n",
    "    try:\n",
    "        x=input('분자의 숫자를 입력하세요')\n",
    "        y=input('분모의 숫자를 입력하세요')\n",
    "        return int(x)/int(y)\n",
    "    except:\n",
    "        return '잘못된 값을 입력하셔서 나누기를 할 수 없습니다. '\n",
    "print(my_divide())"
   ]
  },
  {
   "cell_type": "code",
   "execution_count": 12,
   "metadata": {},
   "outputs": [
    {
     "name": "stdout",
     "output_type": "stream",
     "text": [
      "     ename        job\n",
      "0     KING  PRESIDENT\n",
      "1    BLAKE    MANAGER\n",
      "2    CLARK    MANAGER\n",
      "3    JONES    MANAGER\n",
      "4   MARTIN   SALESMAN\n",
      "5    ALLEN   SALESMAN\n",
      "6   TURNER   SALESMAN\n",
      "7    JAMES      CLERK\n",
      "8     WARD   SALESMAN\n",
      "9     FORD    ANALYST\n",
      "10   SMITH      CLERK\n",
      "11   SCOTT    ANALYST\n",
      "12   ADAMS      CLERK\n",
      "13  MILLER      CLERK\n"
     ]
    }
   ],
   "source": [
    "#Q.판다스를 이용해서 emp3.csv에서 이름, 월급을 출력하시오\n",
    "import pandas as pd\n",
    "emp=pd.read_csv(\"d:\\\\data\\\\emp3.csv\")\n",
    "print(emp[['ename','job']])"
   ]
  },
  {
   "cell_type": "code",
   "execution_count": 13,
   "metadata": {},
   "outputs": [
    {
     "name": "stdout",
     "output_type": "stream",
     "text": [
      "    ename      job\n",
      "11  SCOTT  ANALYST\n"
     ]
    }
   ],
   "source": [
    "#Q.이름이 SCOTT인 사원의 이름, 월급을 출력하시오\n",
    "import pandas as pd\n",
    "emp=pd.read_csv(\"d:\\\\data\\\\emp3.csv\")\n",
    "print(emp[['ename','job']] [emp['ename']=='SCOTT'])"
   ]
  },
  {
   "cell_type": "code",
   "execution_count": 14,
   "metadata": {},
   "outputs": [
    {
     "name": "stdout",
     "output_type": "stream",
     "text": [
      "이름을 입력하세요SCOTT\n",
      "    ename      job\n",
      "11  SCOTT  ANALYST\n"
     ]
    }
   ],
   "source": [
    "#input 함수를 이용해서 이름을 물어보고 그 이름에 해당하는 사원의 이름, 월급을 출력하시오\n",
    "name=input('이름을 입력하세요')\n",
    "import pandas as pd\n",
    "emp=pd.read_csv(\"d:\\\\data\\\\emp3.csv\")\n",
    "print(emp[['ename','job']] [emp['ename']==name])"
   ]
  },
  {
   "cell_type": "code",
   "execution_count": 15,
   "metadata": {},
   "outputs": [
    {
     "name": "stdout",
     "output_type": "stream",
     "text": [
      "이름을 입력하세요scott\n",
      "    ename      job\n",
      "11  SCOTT  ANALYST\n"
     ]
    }
   ],
   "source": [
    "#Q.이번에는 소문자로 이름을 입력해도 출력되게 하시오\n",
    "name=input('이름을 입력하세요')\n",
    "import pandas as pd\n",
    "emp=pd.read_csv(\"d:\\\\data\\\\emp3.csv\")\n",
    "print(emp[['ename','job']] [emp['ename']==name.upper()])"
   ]
  },
  {
   "cell_type": "code",
   "execution_count": 16,
   "metadata": {},
   "outputs": [
    {
     "name": "stdout",
     "output_type": "stream",
     "text": [
      "숫자를 입력하세요2\n",
      "4\n"
     ]
    }
   ],
   "source": [
    "#Q. 숫자를 입력하면 해당 숫자의 제곱값이 출력되는 코드를구현하시오\n",
    "num=int(input('숫자를 입력하세요'))\n",
    "print(int(num**2))"
   ]
  },
  {
   "cell_type": "code",
   "execution_count": 17,
   "metadata": {},
   "outputs": [
    {
     "name": "stdout",
     "output_type": "stream",
     "text": [
      "숫자를 입력하세요x\n",
      "잘못된 값을 입력하셨습니다.\n"
     ]
    }
   ],
   "source": [
    "#Q.try except를 이용해서 문자를 입력하면 잘못된 값을 입력했다는 메세지가 출력되게하시오\n",
    "try:\n",
    "    num1=int(input('숫자를 입력하세요'))\n",
    "    print(num1**2)\n",
    "except:\n",
    "    print('잘못된 값을 입력하셨습니다.')"
   ]
  },
  {
   "cell_type": "code",
   "execution_count": 18,
   "metadata": {},
   "outputs": [
    {
     "name": "stdout",
     "output_type": "stream",
     "text": [
      "숫자를 입력하세요2\n",
      "4\n",
      "결과 출력에 성공했습니다.\n"
     ]
    }
   ],
   "source": [
    "#try~except~else 사용하기\n",
    "try:\n",
    "    num1=int(input('숫자를 입력하세요'))\n",
    "    print(num1**2)\n",
    "except:\n",
    "    print('잘못된 값을 입력하셨습니다.')\n",
    "else:\n",
    "    print('결과 출력에 성공했습니다.') #성공적으로 결과를 출력했을경우 결과와 함께 출력"
   ]
  },
  {
   "cell_type": "code",
   "execution_count": 19,
   "metadata": {},
   "outputs": [
    {
     "name": "stdout",
     "output_type": "stream",
     "text": [
      "분자의 숫자를 입력하세요10\n",
      "분모의 숫자를 입력하세요2\n",
      "5.0\n",
      "성공적으로 나누기를 실행하였습니다.\n"
     ]
    }
   ],
   "source": [
    "#Q.나누기 프로그램을 수정해서 성공하면 성공적으로 나누기를 실행하였습니다. 라는 메세지가 출력되게하시오\n",
    "def my_divide():\n",
    "    try:    \n",
    "        x=input('분자의 숫자를 입력하세요')\n",
    "        y=input('분모의 숫자를 입력하세요')\n",
    "        print (int(x) / int(y) )\n",
    "    except:\n",
    "        return '잘못된 값을 입력하셔서 나누기를 할 수 없습니다.'\n",
    "    else:\n",
    "        return '성공적으로 나누기를 실행하였습니다.'\n",
    "print(my_divide() )"
   ]
  },
  {
   "cell_type": "code",
   "execution_count": 20,
   "metadata": {},
   "outputs": [
    {
     "name": "stdout",
     "output_type": "stream",
     "text": [
      "안녕하세요\n",
      "저는 무조건 실행됩니다\n"
     ]
    }
   ],
   "source": [
    "#try~except~fianlly 구문 이해하기\n",
    "try: \n",
    "    print('안녕하세요')\n",
    "except:\n",
    "    print('예외가 발생했습니다')\n",
    "finally:\n",
    "    print('저는 무조건 실행됩니다')"
   ]
  },
  {
   "cell_type": "code",
   "execution_count": 21,
   "metadata": {},
   "outputs": [
    {
     "name": "stdout",
     "output_type": "stream",
     "text": [
      "분자의 숫자를 입력하세요10\n",
      "분모의 숫자를 입력하세요5\n",
      "2.0\n",
      "이름이 만든 프로그램입니다.\n"
     ]
    }
   ],
   "source": [
    "#Q.나누기 프로그램에서 오류에 상관없이 무조건 이름이 만든 프로그램입니다. 라는 메세지가출력되게하시오\n",
    "def my_divide():\n",
    "    try:    \n",
    "        x=input('분자의 숫자를 입력하세요')\n",
    "        y=input('분모의 숫자를 입력하세요')\n",
    "        print (int(x) / int(y) )\n",
    "    except:\n",
    "        return '잘못된 값을 입력하셔서 나누기를 할 수 없습니다.'\n",
    "    finally:\n",
    "        return '이름이 만든 프로그램입니다.'\n",
    "print(my_divide() )"
   ]
  },
  {
   "cell_type": "code",
   "execution_count": 23,
   "metadata": {},
   "outputs": [
    {
     "name": "stdout",
     "output_type": "stream",
     "text": [
      "0.0436\n"
     ]
    }
   ],
   "source": [
    "#Q.동전을 10번 던져서 앞면이 2번 나올 확률을 출력하세요\n",
    "import random\n",
    "coin=['앞면','뒷면']\n",
    "cnt=0\n",
    "for j in range(1,10001):\n",
    "    a=[]\n",
    "    for i in range(1,11):\n",
    "        result=random.choice(coin)\n",
    "        a.append(result)\n",
    "    if a.count('앞면')==2:\n",
    "        cnt+=1\n",
    "print(cnt/10000)"
   ]
  },
  {
   "cell_type": "code",
   "execution_count": 24,
   "metadata": {},
   "outputs": [
    {
     "name": "stdout",
     "output_type": "stream",
     "text": [
      "숫자를 입력하세요~2\n",
      "0.0423\n"
     ]
    }
   ],
   "source": [
    "#Q.위의 코드를 함수로 생성하여 확률이 출력되게하시오 coin_prob(2) #0.04314\n",
    "x = int (input('숫자를 입력하세요~')) \n",
    "def coin_prob(x): \n",
    "    import random \n",
    "    coin = ['앞면', '뒷면'] \n",
    "    cnt2 = 0 \n",
    "    for i in range (1, 10001): \n",
    "        cnt = 0 \n",
    "        for j in range (1, 11): \n",
    "            if random.choice(coin) == '앞면': \n",
    "                cnt = cnt + 1 \n",
    "        if cnt == x: \n",
    "            cnt2 = cnt2 + 1 \n",
    "    return cnt2/10000 \n",
    "\n",
    "print (coin_prob(x))  "
   ]
  }
 ],
 "metadata": {
  "kernelspec": {
   "display_name": "Python 3",
   "language": "python",
   "name": "python3"
  },
  "language_info": {
   "codemirror_mode": {
    "name": "ipython",
    "version": 3
   },
   "file_extension": ".py",
   "mimetype": "text/x-python",
   "name": "python",
   "nbconvert_exporter": "python",
   "pygments_lexer": "ipython3",
   "version": "3.8.5"
  }
 },
 "nbformat": 4,
 "nbformat_minor": 4
}
