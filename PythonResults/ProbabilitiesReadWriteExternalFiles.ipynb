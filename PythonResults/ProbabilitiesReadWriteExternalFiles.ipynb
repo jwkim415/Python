{
 "cells": [
  {
   "cell_type": "code",
   "execution_count": 1,
   "metadata": {},
   "outputs": [
    {
     "name": "stdout",
     "output_type": "stream",
     "text": [
      "[1, 1, 0, 1, 0]\n"
     ]
    }
   ],
   "source": [
    "#Q.입력한 숫자가 3000보다 크면 숫자1, 작으면 숫자0을 리턴하는 함수를 생성하시오\n",
    "def high_income(a):\n",
    "    if a >3000:\n",
    "        return 1\n",
    "    else:\n",
    "        return 0\n",
    "    \n",
    "b=[4000,5000,2000,3500,1000]\n",
    "result=map(high_income,b)\n",
    "print(list(result))"
   ]
  },
  {
   "cell_type": "code",
   "execution_count": 2,
   "metadata": {},
   "outputs": [
    {
     "name": "stdout",
     "output_type": "stream",
     "text": [
      "앞면\n",
      "뒷면\n",
      "앞면\n",
      "앞면\n",
      "앞면\n",
      "뒷면\n"
     ]
    }
   ],
   "source": [
    "#Q.동전을 던져서 앞면이 나오는지 뒷면이 나오는지 출력하는 함수를 생성하시오\n",
    "import random\n",
    "def coin_cnt(num):\n",
    "    coin=['앞면','뒷면']\n",
    "    for i in range(num+1):\n",
    "        result=random.choice(coin)\n",
    "        print(result)\n",
    "        \n",
    "coin_cnt(5)"
   ]
  },
  {
   "cell_type": "code",
   "execution_count": 3,
   "metadata": {},
   "outputs": [
    {
     "name": "stdout",
     "output_type": "stream",
     "text": [
      "0.55\n"
     ]
    }
   ],
   "source": [
    "#Q.위의 코드를 수정해서 앞면이 나오는 확률을 출력하시오\n",
    "import random\n",
    "def coin_cnt(num):\n",
    "    coin=['앞면','뒷면']\n",
    "    cnt=0\n",
    "    for i in range(num+1):\n",
    "        result=random.choice(coin)\n",
    "        if result=='앞면':\n",
    "            cnt+=1\n",
    "    return cnt/num\n",
    "\n",
    "print(coin_cnt(100))"
   ]
  },
  {
   "cell_type": "code",
   "execution_count": 4,
   "metadata": {},
   "outputs": [
    {
     "name": "stdout",
     "output_type": "stream",
     "text": [
      "[0.7, 0.44, 0.498, 0.502, 0.49827]\n"
     ]
    }
   ],
   "source": [
    "#Q.위의 함수를 사용해서 a리스트의 요소들을 적용해서 결과로 확률이 출력되게하시오\n",
    "import random\n",
    "def coin_cnt(num):\n",
    "    coin=['앞면','뒷면']\n",
    "    cnt=0\n",
    "    for i in range(num+1):\n",
    "        result=random.choice(coin)\n",
    "        if result=='앞면':\n",
    "            cnt+=1\n",
    "    return cnt/num\n",
    "\n",
    "a=[10,100,1000,10000,100000]\n",
    "result2=map(coin_cnt,a)\n",
    "print(list(result2))"
   ]
  },
  {
   "cell_type": "code",
   "execution_count": 5,
   "metadata": {},
   "outputs": [
    {
     "name": "stdout",
     "output_type": "stream",
     "text": [
      "[0.0, 0.18, 0.178, 0.1736, 0.16745]\n"
     ]
    }
   ],
   "source": [
    "#Q.주사위를 던져 눈이 5가 나오는 확률을 출력하는 함수를 생성하시오\n",
    "import random\n",
    "def dice_cnt(num):\n",
    "    dice=list(range(1,7))\n",
    "    cnt=0\n",
    "    for i in range(num+1):\n",
    "        result=random.choice(dice)\n",
    "        if result==5:\n",
    "            cnt+=1\n",
    "    return cnt/num\n",
    "\n",
    "a=[10,100,1000,10000,100000]\n",
    "result2=map(dice_cnt,a)\n",
    "print(list(result2))"
   ]
  },
  {
   "cell_type": "code",
   "execution_count": 7,
   "metadata": {},
   "outputs": [
    {
     "name": "stdout",
     "output_type": "stream",
     "text": [
      "[0.3, 0.22, 0.264, 0.258, 0.264]\n"
     ]
    }
   ],
   "source": [
    "#Q.8개의 제품중에 3개의 불량품이 있는 박스에서 랜덤하게 3개를 뽑는데\n",
    "#그 중 2개가 불량품일 확률을 구하시오\n",
    "import numpy as np\n",
    "def box_cnt(num):\n",
    "    box=['정상','정상','불량','정상','불량','정상','정상','불량']\n",
    "    cnt=0\n",
    "    for i in range(num+1):\n",
    "        result=list(np.random.choice(box,3))\n",
    "        if result.count('불량')==2:\n",
    "            cnt+=1\n",
    "    return cnt/num\n",
    "        \n",
    "a=[10,100,1000,10000,100000]\n",
    "result2=map(box_cnt,a)\n",
    "print(list(result2))"
   ]
  },
  {
   "cell_type": "code",
   "execution_count": 10,
   "metadata": {},
   "outputs": [
    {
     "name": "stdout",
     "output_type": "stream",
     "text": [
      "11\n"
     ]
    }
   ],
   "source": [
    "#Q.중앙일보에서 검색한 기사를 파이썬으로 불러오고 빅데이터 라는 단어가 몇번나오는지 출력하시오\n",
    "f=open('d:\\\\data\\\\mydata3.txt',encoding='UTF8')\n",
    "data=f.read()\n",
    "print(data.count('빅데이터'))\n",
    "f.close()"
   ]
  },
  {
   "cell_type": "code",
   "execution_count": null,
   "metadata": {},
   "outputs": [],
   "source": [
    "#read 함수를 이용해서 스티브잡스 연설문을 읽어오시오\n",
    "f=open('d:\\\\data\\\\jobs.txt',encoding='UTF8')\n",
    "data=f.read()\n",
    "print(data)\n",
    "f.close() "
   ]
  },
  {
   "cell_type": "code",
   "execution_count": null,
   "metadata": {},
   "outputs": [],
   "source": [
    "#Q.readline 함수를 이용해서 스티브잡스 연설문을 끝까지 읽어오시오\n",
    "f=open('d:\\\\data\\\\jobs.txt',encoding='UTF8')\n",
    "data=f.readline() #이 코드가 있어야 while문이 실행됩니다. 처음에 딱 한번만 실행\n",
    "while data: #data변수 안에 data가 있으면 True, 없으면 False 입니다.\n",
    "    print(data)\n",
    "    data=f.readline() #그 다음줄을 읽어서 data변수에 입력합니다.\n",
    "f.close()"
   ]
  },
  {
   "cell_type": "code",
   "execution_count": 11,
   "metadata": {},
   "outputs": [
    {
     "name": "stdout",
     "output_type": "stream",
     "text": [
      "24\n"
     ]
    }
   ],
   "source": [
    "#Q.한줄씩 읽은 데이터에서 인공지능이라는 단어가 나오면 카운트하시오\n",
    "f=open('d:\\\\data\\\\mydata3.txt',encoding='UTF8')\n",
    "cnt=0\n",
    "data=f.readline() #이 코드가 있어야 while문이 실행됩니다. 처음에 딱 한번만 실행\n",
    "while data: #data변수 안에 data가 있으면 True, 없으면 False 입니다.\n",
    "    cnt=cnt+data.count('인공지능')\n",
    "    data=f.readline() #그 다음줄을 읽어서 data변수에 입력합니다.\n",
    "print(cnt)\n",
    "f.close()"
   ]
  },
  {
   "cell_type": "code",
   "execution_count": 12,
   "metadata": {},
   "outputs": [
    {
     "name": "stdout",
     "output_type": "stream",
     "text": [
      "단어를 입력하세요인공지능\n",
      "이 기사에서 인공지능는 24번 나왔습니다\n"
     ]
    }
   ],
   "source": [
    "#Q.단어를 물어보게하고 해당 단어가 몇번 나오는지 출력하시오\n",
    "f=open('d:\\\\data\\\\mydata3.txt',encoding='UTF8')\n",
    "word=input('단어를 입력하세요')\n",
    "cnt=0\n",
    "data=f.readline() #이 코드가 있어야 while문이 실행됩니다. 처음에 딱 한번만 실행\n",
    "while data: #data변수 안에 data가 있으면 True, 없으면 False 입니다.\n",
    "    cnt=cnt+data.count(word)\n",
    "    data=f.readline() #그 다음줄을 읽어서 data변수에 입력합니다.\n",
    "print('이 기사에서 {}는 {}번 나왔습니다'.format(word,cnt))\n",
    "f.close()"
   ]
  },
  {
   "cell_type": "code",
   "execution_count": null,
   "metadata": {},
   "outputs": [],
   "source": [
    "#write함수 이해하기. 화면에서 사용자 입력을 받고 파일로 쓰기\n",
    "text=input('파일에 저장할 내용을 입력하세요')\n",
    "f=open('d:\\\\data\\\\mydata.txt','w')\n",
    "f.write(text)\n",
    "f.close()"
   ]
  },
  {
   "cell_type": "code",
   "execution_count": 13,
   "metadata": {},
   "outputs": [
    {
     "name": "stdout",
     "output_type": "stream",
     "text": [
      "[0.2, 0.37, 0.305, 0.324, 0.3229]\n"
     ]
    }
   ],
   "source": [
    "#Q.빨간색 공과 파란색공이 들어있는 상자에서 공 5개를 뽑아 그 중 파란공이 2개일 확률은?\n",
    "import numpy as np\n",
    "def box_cnt(num):\n",
    "    box1=['red']*26\n",
    "    box2=['blue']*24\n",
    "    box=box1+box2\n",
    "    cnt=0\n",
    "    for i in range(num+1):\n",
    "        result=list(np.random.choice(box,5))\n",
    "        if result.count('blue')==2:\n",
    "            cnt+=1\n",
    "    return cnt/num\n",
    "        \n",
    "a=[10,100,1000,10000,100000]\n",
    "result2=map(box_cnt,a)\n",
    "print(list(result2))"
   ]
  },
  {
   "cell_type": "code",
   "execution_count": null,
   "metadata": {},
   "outputs": [],
   "source": [
    "#writelines 함수 이해하기\n",
    "listdata=[2,2,1,3,8,5,7]\n",
    "result=sorted(listdata) #리스트의 요소를 정렬한다.\n",
    "print(result)\n",
    "f=open(\"d:\\\\data\\\\mydata2.txt\",\"w\") #mydata2.txt를 생성하겠다.\n",
    "f.write(str(result)) #result에 있는 내용을 문자열로 변환해서 mydata2.txt로 생성한다.\n",
    "f.close()"
   ]
  },
  {
   "cell_type": "code",
   "execution_count": null,
   "metadata": {},
   "outputs": [],
   "source": [
    "#writelines 이해하기-2\n",
    "data=[] #data라는 비어있는 리스트 생성\n",
    "while True: #무한루프를 수행합니다.\n",
    "    text=input('저장할 내용을 입력하세요')\n",
    "    if text=='': #text에 아무것도 입력하지 않으면\n",
    "        break #break문을 실행해서 무한루프를 종료합니다.\n",
    "    data.append(text+'\\n') #text가 엔터와 함께 data리스트에 append됩니다.\n",
    "\t\t\n",
    "f=open('d:\\\\data\\\\mydata99.txt','w') #mydata99.txt를 생성하겠따\n",
    "f.writelines(data) #data리스트의 내용을 mydata99.txt에 저장하겠다.\n",
    "f.close()"
   ]
  },
  {
   "cell_type": "code",
   "execution_count": null,
   "metadata": {},
   "outputs": [],
   "source": [
    "#read, write txt\n",
    "f=open(\"d:\\\\data\\\\mydata.txt\",\"r\") #r은 read입니다.\n",
    "h=open(\"d:\\\\data\\\\mydata_copy.txt\",\"w\") #w는 write입니다.\n",
    "data=f.read()\n",
    "h.write(data)\n",
    "f.close()\n",
    "h.close()"
   ]
  },
  {
   "cell_type": "code",
   "execution_count": null,
   "metadata": {},
   "outputs": [],
   "source": [
    "#binary로 lena 사진 불러오고 복사하기\n",
    "bufsize=1024 #1kb 크기의 버퍼 사이즈를\n",
    "f=open(\"d:\\\\data\\\\lena.png\",\"rb\") #rb는 read binary의 약자\n",
    "h=open(\"d:\\\\data\\\\lena_copy.png\",\"wb\")  #wb는 write binary의 약자\n",
    "data=f.read(bufsize) #이미지를 1kb을 읽어서 data에 저장합니다.\n",
    "while data: #data에 data가 발견되는 동안에 루프문을 수행합니다.\n",
    "    h.write(data) #lena_copy.png에 1kb의 데이터씩 write 합니다.\n",
    "    data=f.read(bufsize) #lena.png에서 1kb의 데이터를 read 합니다.\n",
    "f.close()\n",
    "h.close()"
   ]
  }
 ],
 "metadata": {
  "kernelspec": {
   "display_name": "Python 3",
   "language": "python",
   "name": "python3"
  },
  "language_info": {
   "codemirror_mode": {
    "name": "ipython",
    "version": 3
   },
   "file_extension": ".py",
   "mimetype": "text/x-python",
   "name": "python",
   "nbconvert_exporter": "python",
   "pygments_lexer": "ipython3",
   "version": "3.8.5"
  }
 },
 "nbformat": 4,
 "nbformat_minor": 4
}
