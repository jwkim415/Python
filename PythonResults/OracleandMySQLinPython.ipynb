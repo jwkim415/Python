{
 "cells": [
  {
   "cell_type": "code",
   "execution_count": 1,
   "metadata": {},
   "outputs": [
    {
     "name": "stdout",
     "output_type": "stream",
     "text": [
      "       0       1          2       3          4       5       6   7\n",
      "0   7839    KING  PRESIDENT     NaN 1981-11-17  5000.0     NaN  10\n",
      "1   7698   BLAKE    MANAGER  7839.0 1981-05-01  2850.0     NaN  30\n",
      "2   7782   CLARK    MANAGER  7839.0 1981-05-09  2450.0     NaN  10\n",
      "3   7566   JONES    MANAGER  7839.0 1981-04-01  2975.0     NaN  20\n",
      "4   7654  MARTIN   SALESMAN  7698.0 1981-09-10  1250.0  1400.0  30\n",
      "5   7499   ALLEN   SALESMAN  7698.0 1981-02-11  1600.0   300.0  30\n",
      "6   7844  TURNER   SALESMAN  7698.0 1981-08-21  1500.0     0.0  30\n",
      "7   7900   JAMES      CLERK  7698.0 1981-12-11   950.0     NaN  30\n",
      "8   7521    WARD   SALESMAN  7698.0 1981-02-23  1250.0   500.0  30\n",
      "9   7902    FORD    ANALYST  7566.0 1981-12-11  3000.0     NaN  20\n",
      "10  7369   SMITH      CLERK  7902.0 1980-12-09   800.0     NaN  20\n",
      "11  7788   SCOTT    ANALYST  7566.0 1982-12-22  3000.0     NaN  20\n",
      "12  7876   ADAMS      CLERK  7788.0 1983-01-15  1100.0     NaN  20\n",
      "13  7934  MILLER      CLERK  7782.0 1982-01-11  1300.0     NaN  10\n"
     ]
    }
   ],
   "source": [
    "import cx_Oracle\n",
    "import pandas as pd\n",
    "\n",
    "dsn=cx_Oracle.makedsn(\"localhost\",1521,'orcl') #오라클 주소\n",
    "db=cx_Oracle.connect('scott','tiger',dsn) #오라클 접속 유저 정보\n",
    "cursor=db.cursor() #결과 데이터를 담을 메모리 이름을 cursor로 선언\n",
    "cursor.execute(\"\"\"select * from emp\"\"\") #작성한 쿼리문의 결과가 커서 메모리에 담김\n",
    "row=cursor.fetchall() #cursor 메모리에 담긴 결과를 한번에 row 변수에 담는다\n",
    "emp=pd.DataFrame(row)\n",
    "print(emp)"
   ]
  },
  {
   "cell_type": "code",
   "execution_count": 2,
   "metadata": {},
   "outputs": [
    {
     "name": "stdout",
     "output_type": "stream",
     "text": [
      "       0       1       2   3\n",
      "0   7839    KING  5000.0  10\n",
      "1   7698   BLAKE  2850.0  30\n",
      "2   7782   CLARK  2450.0  10\n",
      "3   7566   JONES  2975.0  20\n",
      "4   7654  MARTIN  1250.0  30\n",
      "5   7499   ALLEN  1600.0  30\n",
      "6   7844  TURNER  1500.0  30\n",
      "7   7900   JAMES   950.0  30\n",
      "8   7521    WARD  1250.0  30\n",
      "9   7902    FORD  3000.0  20\n",
      "10  7369   SMITH   800.0  20\n",
      "11  7788   SCOTT  3000.0  20\n",
      "12  7876   ADAMS  1100.0  20\n",
      "13  7934  MILLER  1300.0  10\n"
     ]
    }
   ],
   "source": [
    "#Q.select empno, ename, sal, deptno from emp를 수행하시오\n",
    "import cx_Oracle\n",
    "import pandas as pd\n",
    "\n",
    "dsn=cx_Oracle.makedsn(\"localhost\",1521,'orcl') #오라클 주소\n",
    "db=cx_Oracle.connect('scott','tiger',dsn) #오라클 접속 유저 정보\n",
    "cursor=db.cursor() #결과 데이터를 담을 메모리 이름을 cursor로 선언\n",
    "cursor.execute(\"\"\"select empno,ename,sal,deptno from emp\"\"\") #작성한 쿼리문의 결과가 커서 메모리에 담김\n",
    "row=cursor.fetchall() #cursor 메모리에 담긴 결과를 한번에 row 변수에 담는다\n",
    "emp=pd.DataFrame(row)\n",
    "print(emp)"
   ]
  },
  {
   "cell_type": "code",
   "execution_count": 3,
   "metadata": {},
   "outputs": [
    {
     "name": "stdout",
     "output_type": "stream",
     "text": [
      "    0           1         2\n",
      "0  10  ACCOUNTING  NEW YORK\n",
      "1  20    RESEARCH    DALLAS\n",
      "2  30       SALES   CHICAGO\n",
      "3  40  OPERATIONS    BOSTON\n"
     ]
    }
   ],
   "source": [
    "#Q.dept 테이블의 모든 데이터를 조회하시오\n",
    "import cx_Oracle\n",
    "import pandas as pd\n",
    "\n",
    "dsn=cx_Oracle.makedsn(\"localhost\",1521,'orcl') #오라클 주소\n",
    "db=cx_Oracle.connect('scott','tiger',dsn) #오라클 접속 유저 정보\n",
    "cursor=db.cursor() #결과 데이터를 담을 메모리 이름을 cursor로 선언\n",
    "cursor.execute(\"\"\"select * from dept\"\"\") #작성한 쿼리문의 결과가 커서 메모리에 담김\n",
    "row=cursor.fetchall() #cursor 메모리에 담긴 결과를 한번에 row 변수에 담는다\n",
    "dept=pd.DataFrame(row)\n",
    "print(dept)"
   ]
  },
  {
   "cell_type": "code",
   "execution_count": 4,
   "metadata": {},
   "outputs": [
    {
     "name": "stdout",
     "output_type": "stream",
     "text": [
      "         0       1\n",
      "0     KING  5000.0\n",
      "1    BLAKE  2850.0\n",
      "2    CLARK  2450.0\n",
      "3    JONES  2975.0\n",
      "4   MARTIN  1250.0\n",
      "5    ALLEN  1600.0\n",
      "6   TURNER  1500.0\n",
      "7     WARD  1250.0\n",
      "8     FORD  3000.0\n",
      "9    SCOTT  3000.0\n",
      "10  MILLER  1300.0\n"
     ]
    }
   ],
   "source": [
    "#Q.월급이 1200 이상인 사원들의 이름, 월급을 출력하시오\n",
    "import cx_Oracle\n",
    "import pandas as pd\n",
    "\n",
    "dsn=cx_Oracle.makedsn(\"localhost\",1521,'orcl') #오라클 주소\n",
    "db=cx_Oracle.connect('scott','tiger',dsn) #오라클 접속 유저 정보\n",
    "cursor=db.cursor() #결과 데이터를 담을 메모리 이름을 cursor로 선언\n",
    "cursor.execute(\"\"\"select ename,sal from emp where sal>=1200\"\"\") #작성한 쿼리문의 결과가 커서 메모리에 담김\n",
    "row=cursor.fetchall() #cursor 메모리에 담긴 결과를 한번에 row 변수에 담는다\n",
    "emp=pd.DataFrame(row)\n",
    "print(emp)"
   ]
  },
  {
   "cell_type": "code",
   "execution_count": 5,
   "metadata": {},
   "outputs": [
    {
     "data": {
      "text/plain": [
       "<AxesSubplot:>"
      ]
     },
     "execution_count": 5,
     "metadata": {},
     "output_type": "execute_result"
    },
    {
     "data": {
      "image/png": "[encoded data removed]",
      "text/plain": [
       "<Figure size 432x288 with 1 Axes>"
      ]
     },
     "metadata": {
      "needs_background": "light"
     },
     "output_type": "display_data"
    }
   ],
   "source": [
    "#Q.emp 테이블의 월급을 막대 그래프로 그리시오\n",
    "import cx_Oracle\n",
    "import pandas as pd\n",
    "\n",
    "dsn=cx_Oracle.makedsn(\"localhost\",1521,'orcl') #오라클 주소\n",
    "db=cx_Oracle.connect('scott','tiger',dsn) #오라클 접속 유저 정보\n",
    "cursor=db.cursor() #결과 데이터를 담을 메모리 이름을 cursor로 선언\n",
    "cursor.execute(\"\"\"select ename,sal from emp\"\"\") #작성한 쿼리문의 결과가 커서 메모리에 담김\n",
    "row=cursor.fetchall() #cursor 메모리에 담긴 결과를 한번에 row 변수에 담는다\n",
    "emp=pd.DataFrame(row)\n",
    "emp.index=list(emp[0])\n",
    "emp.plot(kind='bar')"
   ]
  },
  {
   "cell_type": "code",
   "execution_count": 6,
   "metadata": {},
   "outputs": [
    {
     "data": {
      "text/plain": [
       "<AxesSubplot:>"
      ]
     },
     "execution_count": 6,
     "metadata": {},
     "output_type": "execute_result"
    },
    {
     "data": {
      "image/png": "[encoded data removed]",
      "text/plain": [
       "<Figure size 432x288 with 1 Axes>"
      ]
     },
     "metadata": {
      "needs_background": "light"
     },
     "output_type": "display_data"
    }
   ],
   "source": [
    "#Q.위의 그래프의 색을 변경하시오\n",
    "import cx_Oracle\n",
    "import pandas as pd\n",
    "\n",
    "dsn=cx_Oracle.makedsn(\"localhost\",1521,'orcl') #오라클 주소\n",
    "db=cx_Oracle.connect('scott','tiger',dsn) #오라클 접속 유저 정보\n",
    "cursor=db.cursor() #결과 데이터를 담을 메모리 이름을 cursor로 선언\n",
    "cursor.execute(\"\"\"select ename,sal from emp\"\"\") #작성한 쿼리문의 결과가 커서 메모리에 담김\n",
    "row=cursor.fetchall() #cursor 메모리에 담긴 결과를 한번에 row 변수에 담는다\n",
    "emp=pd.DataFrame(row)\n",
    "emp.index=list(emp[0])\n",
    "emp.plot(kind='bar',color='magenta')"
   ]
  },
  {
   "cell_type": "code",
   "execution_count": 7,
   "metadata": {},
   "outputs": [
    {
     "name": "stdout",
     "output_type": "stream",
     "text": [
      "           0     1\n",
      "0   SALESMAN  1600\n",
      "1      CLERK  1300\n",
      "2    ANALYST  3000\n",
      "3    MANAGER  2975\n",
      "4  PRESIDENT  5000\n"
     ]
    }
   ],
   "source": [
    "#Q.직업, 직업별 최대월급을 출력하시오\n",
    "import cx_Oracle\n",
    "import pandas as pd\n",
    "\n",
    "dsn=cx_Oracle.makedsn(\"localhost\",1521,'orcl') #오라클 주소\n",
    "db=cx_Oracle.connect('scott','tiger',dsn) #오라클 접속 유저 정보\n",
    "cursor=db.cursor() #결과 데이터를 담을 메모리 이름을 cursor로 선언\n",
    "cursor.execute(\"\"\"select job, max(sal) from emp group by job\"\"\") #작성한 쿼리문의 결과가 커서 메모리에 담김\n",
    "row=cursor.fetchall() #cursor 메모리에 담긴 결과를 한번에 row 변수에 담는다\n",
    "emp=pd.DataFrame(row)\n",
    "print(emp)"
   ]
  },
  {
   "cell_type": "code",
   "execution_count": 8,
   "metadata": {},
   "outputs": [
    {
     "name": "stdout",
     "output_type": "stream",
     "text": [
      "           0     1\n",
      "0    MANAGER  8275\n",
      "1    ANALYST  6000\n",
      "2   SALESMAN  5600\n",
      "3  PRESIDENT  5000\n",
      "4      CLERK  4150\n"
     ]
    }
   ],
   "source": [
    "#Q.직업 직업별 토탈월급을 출력하는데 토탈월급이 높은 것부터 출력하시오\n",
    "import cx_Oracle\n",
    "import pandas as pd\n",
    "\n",
    "dsn=cx_Oracle.makedsn(\"localhost\",1521,'orcl') #오라클 주소\n",
    "db=cx_Oracle.connect('scott','tiger',dsn) #오라클 접속 유저 정보\n",
    "cursor=db.cursor() #결과 데이터를 담을 메모리 이름을 cursor로 선언\n",
    "cursor.execute(\"\"\"select job, sum(sal) \n",
    "                   from emp \n",
    "                   group by job \n",
    "                   order by 2 desc\"\"\") #작성한 쿼리문의 결과가 커서 메모리에 담김\n",
    "row=cursor.fetchall() #cursor 메모리에 담긴 결과를 한번에 row 변수에 담는다\n",
    "emp=pd.DataFrame(row)\n",
    "print(emp)"
   ]
  },
  {
   "cell_type": "code",
   "execution_count": 9,
   "metadata": {},
   "outputs": [
    {
     "name": "stdout",
     "output_type": "stream",
     "text": [
      "         0       1   2\n",
      "0     KING  5000.0   1\n",
      "1    SCOTT  3000.0   2\n",
      "2     FORD  3000.0   2\n",
      "3    JONES  2975.0   3\n",
      "4    BLAKE  2850.0   4\n",
      "5    CLARK  2450.0   5\n",
      "6    ALLEN  1600.0   6\n",
      "7   TURNER  1500.0   7\n",
      "8   MILLER  1300.0   8\n",
      "9     WARD  1250.0   9\n",
      "10  MARTIN  1250.0   9\n",
      "11   ADAMS  1100.0  10\n",
      "12   JAMES   950.0  11\n",
      "13   SMITH   800.0  12\n"
     ]
    }
   ],
   "source": [
    "#Q.이름, 월급, 순위를 출력하는데 순위가 월급이 높은 사원순으로 출력하시오\n",
    "import cx_Oracle\n",
    "import pandas as pd\n",
    "\n",
    "dsn=cx_Oracle.makedsn(\"localhost\",1521,'orcl') #오라클 주소\n",
    "db=cx_Oracle.connect('scott','tiger',dsn) #오라클 접속 유저 정보\n",
    "cursor=db.cursor() #결과 데이터를 담을 메모리 이름을 cursor로 선언\n",
    "cursor.execute(\"\"\"select ename, sal, dense_rank() over (order by sal desc) \n",
    "                   from emp \"\"\") #작성한 쿼리문의 결과가 커서 메모리에 담김\n",
    "row=cursor.fetchall() #cursor 메모리에 담긴 결과를 한번에 row 변수에 담는다\n",
    "emp=pd.DataFrame(row)\n",
    "print(emp)"
   ]
  },
  {
   "cell_type": "code",
   "execution_count": 10,
   "metadata": {},
   "outputs": [
    {
     "name": "stdout",
     "output_type": "stream",
     "text": [
      "    0      1\n",
      "0  30   9400\n",
      "1  10   8750\n",
      "2  20  10875\n"
     ]
    }
   ],
   "source": [
    "#Q.부서번호, 부서번호별 토탈월급을 출력하시오\n",
    "import cx_Oracle\n",
    "import pandas as pd\n",
    "\n",
    "dsn=cx_Oracle.makedsn(\"localhost\",1521,'orcl') #오라클 주소\n",
    "db=cx_Oracle.connect('scott','tiger',dsn) #오라클 접속 유저 정보\n",
    "cursor=db.cursor() #결과 데이터를 담을 메모리 이름을 cursor로 선언\n",
    "cursor.execute(\"\"\"select deptno, sum(sal) \n",
    "                   from emp\n",
    "                   group by deptno\"\"\") #작성한 쿼리문의 결과가 커서 메모리에 담김\n",
    "row=cursor.fetchall() #cursor 메모리에 담긴 결과를 한번에 row 변수에 담는다\n",
    "emp=pd.DataFrame(row)\n",
    "print(emp)"
   ]
  },
  {
   "cell_type": "code",
   "execution_count": 11,
   "metadata": {},
   "outputs": [
    {
     "data": {
      "text/plain": [
       "<AxesSubplot:>"
      ]
     },
     "execution_count": 11,
     "metadata": {},
     "output_type": "execute_result"
    },
    {
     "data": {
      "image/png": "[encoded data removed]",
      "text/plain": [
       "<Figure size 432x288 with 1 Axes>"
      ]
     },
     "metadata": {
      "needs_background": "light"
     },
     "output_type": "display_data"
    }
   ],
   "source": [
    "#Q.위의 결과를 막대그래프로 시각화하시오\n",
    "import cx_Oracle\n",
    "import pandas as pd\n",
    "\n",
    "dsn=cx_Oracle.makedsn(\"localhost\",1521,'orcl') #오라클 주소\n",
    "db=cx_Oracle.connect('scott','tiger',dsn) #오라클 접속 유저 정보\n",
    "cursor=db.cursor() #결과 데이터를 담을 메모리 이름을 cursor로 선언\n",
    "cursor.execute(\"\"\"select deptno, sum(sal) \n",
    "                   from emp\n",
    "                   group by deptno\"\"\") #작성한 쿼리문의 결과가 커서 메모리에 담김\n",
    "row=cursor.fetchall() #cursor 메모리에 담긴 결과를 한번에 row 변수에 담는다\n",
    "emp=pd.DataFrame(row)\n",
    "emp.index=list(emp[0])\n",
    "emp.plot(kind='bar',color='magenta')"
   ]
  },
  {
   "cell_type": "code",
   "execution_count": 12,
   "metadata": {},
   "outputs": [
    {
     "name": "stdout",
     "output_type": "stream",
     "text": [
      "    empno   ename        job     mgr   hiredate     sal    comm  deptno\n",
      "0    7839    KING  PRESIDENT     NaN 1981-11-17  5000.0     NaN      10\n",
      "1    7698   BLAKE    MANAGER  7839.0 1981-05-01  2850.0     NaN      30\n",
      "2    7782   CLARK    MANAGER  7839.0 1981-05-09  2450.0     NaN      10\n",
      "3    7566   JONES    MANAGER  7839.0 1981-04-01  2975.0     NaN      20\n",
      "4    7654  MARTIN   SALESMAN  7698.0 1981-09-10  1250.0  1400.0      30\n",
      "5    7499   ALLEN   SALESMAN  7698.0 1981-02-11  1600.0   300.0      30\n",
      "6    7844  TURNER   SALESMAN  7698.0 1981-08-21  1500.0     0.0      30\n",
      "7    7900   JAMES      CLERK  7698.0 1981-12-11   950.0     NaN      30\n",
      "8    7521    WARD   SALESMAN  7698.0 1981-02-23  1250.0   500.0      30\n",
      "9    7902    FORD    ANALYST  7566.0 1981-12-11  3000.0     NaN      20\n",
      "10   7369   SMITH      CLERK  7902.0 1980-12-09   800.0     NaN      20\n",
      "11   7788   SCOTT    ANALYST  7566.0 1982-12-22  3000.0     NaN      20\n",
      "12   7876   ADAMS      CLERK  7788.0 1983-01-15  1100.0     NaN      20\n",
      "13   7934  MILLER      CLERK  7782.0 1982-01-11  1300.0     NaN      10\n"
     ]
    }
   ],
   "source": [
    "#Q.emp테이블 전체를 출력하는데 컬럼명도 함께 출력되게하시오\n",
    "import cx_Oracle\n",
    "import pandas as pd\n",
    "\n",
    "dsn=cx_Oracle.makedsn(\"localhost\",1521,'orcl') #오라클 주소\n",
    "db=cx_Oracle.connect('scott','tiger',dsn) #오라클 접속 유저 정보\n",
    "cursor=db.cursor() #결과 데이터를 담을 메모리 이름을 cursor로 선언\n",
    "cursor.execute(\"\"\"select * \n",
    "                   from emp\"\"\") #작성한 쿼리문의 결과가 커서 메모리에 담김\n",
    "row=cursor.fetchall() #cursor 메모리에 담긴 결과를 한번에 row 변수에 담는다\n",
    "colname=cursor.description #컬럼명을 가져온다\n",
    "col=[]\n",
    "for i in colname: #컬럼명을 리스트에 담는다\n",
    "    col.append(i[0].lower())\n",
    "\n",
    "emp=pd.DataFrame(list(row), columns=col)\n",
    "print(emp)"
   ]
  },
  {
   "cell_type": "code",
   "execution_count": 13,
   "metadata": {},
   "outputs": [
    {
     "name": "stdout",
     "output_type": "stream",
     "text": [
      "    ename     sal\n",
      "0    KING  5000.0\n",
      "9    FORD  3000.0\n",
      "11  SCOTT  3000.0\n"
     ]
    }
   ],
   "source": [
    "#Q.이름, 월급을 출력하는데 월급이 3000이상으로 조건을 주시오(판다스 이용)\n",
    "import cx_Oracle\n",
    "import pandas as pd\n",
    "\n",
    "dsn=cx_Oracle.makedsn(\"localhost\",1521,'orcl') #오라클 주소\n",
    "db=cx_Oracle.connect('scott','tiger',dsn) #오라클 접속 유저 정보\n",
    "cursor=db.cursor() #결과 데이터를 담을 메모리 이름을 cursor로 선언\n",
    "cursor.execute(\"\"\"select * \n",
    "                   from emp\"\"\") #작성한 쿼리문의 결과가 커서 메모리에 담김\n",
    "row=cursor.fetchall() #cursor 메모리에 담긴 결과를 한번에 row 변수에 담는다\n",
    "colname=cursor.description #컬럼명을 가져온다\n",
    "col=[]\n",
    "for i in colname: #컬럼명을 리스트에 담는다\n",
    "    col.append(i[0].lower())\n",
    "\n",
    "emp=pd.DataFrame(list(row), columns=col)\n",
    "print(emp[['ename','sal']][emp['sal']>=3000])"
   ]
  },
  {
   "cell_type": "code",
   "execution_count": 14,
   "metadata": {},
   "outputs": [
    {
     "name": "stdout",
     "output_type": "stream",
     "text": [
      "     ename       loc\n",
      "0     KING  NEW YORK\n",
      "1    BLAKE   CHICAGO\n",
      "2    CLARK  NEW YORK\n",
      "3    JONES    DALLAS\n",
      "4   MARTIN   CHICAGO\n",
      "5    ALLEN   CHICAGO\n",
      "6   TURNER   CHICAGO\n",
      "7    JAMES   CHICAGO\n",
      "8     WARD   CHICAGO\n",
      "9     FORD    DALLAS\n",
      "10   SMITH    DALLAS\n",
      "11   SCOTT    DALLAS\n",
      "12   ADAMS    DALLAS\n",
      "13  MILLER  NEW YORK\n"
     ]
    }
   ],
   "source": [
    "#Q.이름과 부서위치를 출력하시오\n",
    "import cx_Oracle\n",
    "import pandas as pd\n",
    "\n",
    "dsn=cx_Oracle.makedsn(\"localhost\",1521,'orcl') #오라클 주소\n",
    "db=cx_Oracle.connect('scott','tiger',dsn) #오라클 접속 유저 정보\n",
    "cursor=db.cursor() #결과 데이터를 담을 메모리 이름을 cursor로 선언\n",
    "cursor.execute(\"\"\"select e.ename, d.loc\n",
    "                   from emp e, dept d\n",
    "                   where e.deptno = d.deptno\"\"\") #작성한 쿼리문의 결과가 커서 메모리에 담김\n",
    "row=cursor.fetchall() #cursor 메모리에 담긴 결과를 한번에 row 변수에 담는다\n",
    "colname=cursor.description #컬럼명을 가져온다\n",
    "col=[]\n",
    "for i in colname: #컬럼명을 리스트에 담는다\n",
    "    col.append(i[0].lower())\n",
    "\n",
    "emp=pd.DataFrame(list(row), columns=col)\n",
    "print(emp)"
   ]
  },
  {
   "cell_type": "code",
   "execution_count": 15,
   "metadata": {},
   "outputs": [
    {
     "data": {
      "text/plain": [
       "<AxesSubplot:>"
      ]
     },
     "execution_count": 15,
     "metadata": {},
     "output_type": "execute_result"
    },
    {
     "data": {
      "image/png": "[encoded data removed]",
      "text/plain": [
       "<Figure size 432x288 with 1 Axes>"
      ]
     },
     "metadata": {
      "needs_background": "light"
     },
     "output_type": "display_data"
    }
   ],
   "source": [
    "#Q.부서위치, 부서위치별 토탈월급을 출력하고 막대그래프로 나타내시오\n",
    "import cx_Oracle\n",
    "import pandas as pd\n",
    "\n",
    "dsn=cx_Oracle.makedsn(\"localhost\",1521,'orcl') #오라클 주소\n",
    "db=cx_Oracle.connect('scott','tiger',dsn) #오라클 접속 유저 정보\n",
    "cursor=db.cursor() #결과 데이터를 담을 메모리 이름을 cursor로 선언\n",
    "cursor.execute(\"\"\"select d.loc, sum(e.sal)\n",
    "                   from emp e, dept d\n",
    "                   where e.deptno = d.deptno\n",
    "                   group by d.loc\"\"\") #작성한 쿼리문의 결과가 커서 메모리에 담김\n",
    "row=cursor.fetchall() #cursor 메모리에 담긴 결과를 한번에 row 변수에 담는다\n",
    "colname=cursor.description #컬럼명을 가져온다\n",
    "emp=pd.DataFrame(row)\n",
    "emp.index=list(emp[0])\n",
    "emp.plot(kind='bar',color='magenta')"
   ]
  },
  {
   "cell_type": "code",
   "execution_count": 16,
   "metadata": {},
   "outputs": [
    {
     "name": "stdout",
     "output_type": "stream",
     "text": [
      "     ENAME   SAL\n",
      "0     KING  5000\n",
      "1    BLAKE  2850\n",
      "2    CLARK  2450\n",
      "3    JONES  2975\n",
      "4   MARTIN  1250\n",
      "5   TURNER  1500\n",
      "6    JAMES   950\n",
      "7     WARD  1250\n",
      "8     FORD  3000\n",
      "9    SMITH   800\n",
      "10   SCOTT  3000\n",
      "11   ADAMS  1100\n",
      "12  MILLER  1300\n"
     ]
    }
   ],
   "source": [
    "#Q.MySQL과 파이썬을 연동해서 EMP테이블을 파이썬에서 출력하시오\n",
    "import pymysql,pandas as pd\n",
    "\n",
    "conn = pymysql.connect(host=\"localhost\", user=\"root\",password=\"oracle\", db=\"orcl\",charset=\"utf8\")\n",
    "\n",
    "curs = conn.cursor()\n",
    "sql = \"select * from emp\"\n",
    "curs.execute(sql)\n",
    "rows = curs.fetchall()\n",
    "colname = curs.description\n",
    "col = []\n",
    "for i in colname:\n",
    "    col.append(i[0].upper())\n",
    "emp = pd.DataFrame(list(rows),columns=col)\n",
    "print(emp[['ENAME', 'SAL']] )"
   ]
  },
  {
   "cell_type": "code",
   "execution_count": 18,
   "metadata": {},
   "outputs": [
    {
     "name": "stdout",
     "output_type": "stream",
     "text": [
      "           0     1\n",
      "0  PRESIDENT  5000\n",
      "1    MANAGER  8275\n",
      "2   SALESMAN  4000\n",
      "3      CLERK  4150\n",
      "4    ANALYST  6000\n"
     ]
    },
    {
     "data": {
      "text/plain": [
       "<AxesSubplot:>"
      ]
     },
     "execution_count": 18,
     "metadata": {},
     "output_type": "execute_result"
    },
    {
     "data": {
      "image/png": "[encoded data removed]",
      "text/plain": [
       "<Figure size 432x288 with 1 Axes>"
      ]
     },
     "metadata": {
      "needs_background": "light"
     },
     "output_type": "display_data"
    }
   ],
   "source": [
    "#Q.위의 결과를 막대그래프로 시각화하시오\n",
    "import pymysql\n",
    "import pandas as pd\n",
    "\n",
    "conn = pymysql.connect(host=\"localhost\", user=\"root\",password=\"oracle\",\n",
    "                       db=\"orcl\",charset=\"utf8\")\n",
    "\n",
    "curs = conn.cursor()\n",
    "sql = \"\"\" select job, sum(sal) from emp group by job \"\"\"\n",
    "             \n",
    "curs.execute(sql)\n",
    "row = curs.fetchall()  \n",
    "emp = pd.DataFrame(row)\n",
    "print(emp)\n",
    "\n",
    "for i in emp.columns:\n",
    "    try: \n",
    "        emp[i]=emp[i].astype(int)\n",
    "    except:\n",
    "        pass\n",
    "emp.index = list(emp[0])\n",
    "emp.plot( kind='bar', color='red')"
   ]
  },
  {
   "cell_type": "code",
   "execution_count": 19,
   "metadata": {},
   "outputs": [
    {
     "name": "stdout",
     "output_type": "stream",
     "text": [
      "       0       1   2            3\n",
      "0   KING  5000.0  10  2916.666667\n",
      "1  BLAKE  2850.0  30  1566.666667\n",
      "2  JONES  2975.0  20  2175.000000\n",
      "3  ALLEN  1600.0  30  1566.666667\n",
      "4   FORD  3000.0  20  2175.000000\n",
      "5  SCOTT  3000.0  20  2175.000000\n"
     ]
    }
   ],
   "source": [
    "#Q.오라클과 파이썬을 연동하여 아래의 사원들을 검색하시오. 이름, 월급, 부서번호, 자기가 속한 부서번호의 평균월급을 출력하는데\n",
    "#자신의 월급이 자기가 속한 부서번호의 평균월급보다 더 큰 사원들만 출력하시오\n",
    "import cx_Oracle\n",
    "import pandas as pd\n",
    "\n",
    "dsn=cx_Oracle.makedsn(\"localhost\",1521,'orcl') #오라클 주소\n",
    "db=cx_Oracle.connect('scott','tiger',dsn) #오라클 접속 유저 정보\n",
    "cursor=db.cursor() #결과 데이터를 담을 메모리 이름을 cursor로 선언\n",
    "cursor.execute(\"\"\"select e.ename, e.sal, e.deptno, v.평균\n",
    "                   from emp e, (select deptno, avg(sal) 평균\n",
    "                                from emp\n",
    "                                group by deptno) v\n",
    "                   where e.deptno=v.deptno and e.sal>v.평균\"\"\") #작성한 쿼리문의 결과가 커서 메모리에 담김\n",
    "row=cursor.fetchall() #cursor 메모리에 담긴 결과를 한번에 row 변수에 담는다\n",
    "emp=pd.DataFrame(row)\n",
    "print(emp)"
   ]
  }
 ],
 "metadata": {
  "kernelspec": {
   "display_name": "Python 3",
   "language": "python",
   "name": "python3"
  },
  "language_info": {
   "codemirror_mode": {
    "name": "ipython",
    "version": 3
   },
   "file_extension": ".py",
   "mimetype": "text/x-python",
   "name": "python",
   "nbconvert_exporter": "python",
   "pygments_lexer": "ipython3",
   "version": "3.8.5"
  }
 },
 "nbformat": 4,
 "nbformat_minor": 4
}
