{
 "cells": [
  {
   "cell_type": "code",
   "execution_count": 1,
   "metadata": {},
   "outputs": [
    {
     "name": "stdout",
     "output_type": "stream",
     "text": [
      "3\n",
      "27\n"
     ]
    }
   ],
   "source": [
    "#문자열에서 특정 문자(열) 위치 찾기 find\n",
    "txt='A lot of things occur each day'\n",
    "word_count1=txt.find('o')\n",
    "print(word_count1) #3이 출력되는데 3은 o라는 철자가 위치하는 인덱스 번호를 리턴합니다.\n",
    "\n",
    "word_count2=txt.find('day')\n",
    "print(word_count2) #27"
   ]
  },
  {
   "cell_type": "code",
   "execution_count": 2,
   "metadata": {},
   "outputs": [
    {
     "name": "stdout",
     "output_type": "stream",
     "text": [
      "-1\n",
      "7\n",
      "8\n",
      "8\n",
      "9\n",
      "8\n",
      "12\n",
      "10\n",
      "11\n",
      "14\n",
      "11\n",
      "9\n",
      "6\n",
      "11\n",
      "7\n",
      "10\n",
      "9\n",
      "9\n",
      "8\n",
      "8\n",
      "6\n",
      "9\n",
      "10\n",
      "9\n",
      "11\n",
      "8\n",
      "8\n",
      "6\n",
      "8\n",
      "10\n",
      "11\n"
     ]
    }
   ],
   "source": [
    "#Q.우리반 데이터에서 이메일의 @의 위치 인덱스 번호를 출력하시오\n",
    "import csv\n",
    "file=open(\"d:\\\\data\\\\emp122.csv\",encoding='UTF8')\n",
    "emp12_csv=csv.reader(file)\n",
    "for emp_list in emp12_csv:\n",
    "    print(emp_list[6].find('@'))"
   ]
  },
  {
   "cell_type": "code",
   "execution_count": 6,
   "metadata": {
    "scrolled": true
   },
   "outputs": [
    {
     "name": "stdout",
     "output_type": "stream",
     "text": [
      "346\n",
      "gks\n",
      "hyu\n",
      "gob\n",
      "jjk\n",
      "rla\n",
      "pum\n",
      "jun\n",
      "mis\n",
      "mar\n",
      "ad_\n",
      "koo\n",
      "nos\n",
      "gwa\n",
      "ice\n",
      "nhy\n",
      "suj\n",
      "kju\n",
      "thd\n",
      "hik\n",
      "ghd\n",
      "sor\n",
      "big\n",
      "wjd\n",
      "h67\n",
      "sky\n",
      "kjw\n",
      "qkr\n",
      "tkd\n",
      "hon\n"
     ]
    }
   ],
   "source": [
    "#Q.이메일을 출력하는데 이메일의 첫번쨰 철자부터 세번쨰 철자까지만 출력하시오\n",
    "import csv\n",
    "file=open(\"d:\\\\data\\\\emp1222.csv\",encoding='UTF8')\n",
    "emp12_csv=csv.reader(file)\n",
    "for emp_list in emp12_csv:\n",
    "    print(emp_list[6][:3])"
   ]
  },
  {
   "cell_type": "code",
   "execution_count": 5,
   "metadata": {},
   "outputs": [
    {
     "name": "stdout",
     "output_type": "stream",
     "text": [
      "naver\n",
      "naver\n",
      "naver\n",
      "gmail\n",
      "naver\n",
      "naver\n",
      "gmail\n",
      "gmail\n",
      "gmail\n",
      "naver\n",
      "naver\n",
      "naver\n",
      "gmail\n",
      "hanmail\n",
      "naver\n",
      "naver\n",
      "naver\n",
      "naver\n",
      "naver\n",
      "naver\n",
      "naver\n",
      "naver\n",
      "gmail\n",
      "naver\n",
      "naver\n",
      "naver\n",
      "gmail\n",
      "nate\n",
      "naver\n",
      "naver\n"
     ]
    }
   ],
   "source": [
    "#Q.이메일을 출력하는데 이메일에서 도메인만 출력하시오\n",
    "import csv\n",
    "file=open(\"d:\\\\data\\\\emp1222.csv\",encoding='UTF8')\n",
    "emp12_csv=csv.reader(file)\n",
    "for emp_list in emp12_csv:\n",
    "    add=emp_list[6].find('@') #@의 위치 인덱스번호\n",
    "    dot=emp_list[6].rfind('.') #.의 위치 인덱스번호인데 뒤에서부터 세기\n",
    "    print(emp_list[6][add+1:dot])"
   ]
  },
  {
   "cell_type": "code",
   "execution_count": 10,
   "metadata": {},
   "outputs": [
    {
     "name": "stdout",
     "output_type": "stream",
     "text": [
      "1, \"김철수\", 30, \"남\", \"경영학과\"\n",
      "['1', ' \"김철수\"', ' 30', ' \"남\"', ' \"경영학과\"']\n"
     ]
    }
   ],
   "source": [
    "#문자열을 특정 문자(열)로 분리하기 (split)\n",
    "a='''1, \"김철수\", 30, \"남\", \"경영학과\"''' #양쪽에 싱글'3개 둘러줘야 문자열이 되고 아니면 튜플이되서 split불가\n",
    "print(a) #(1, '김철수', 30, '남', '경영학과')\n",
    "result=a.split(',') #콤마(,)로 구분해서 리스트에 담는다.\n",
    "print(result)"
   ]
  },
  {
   "cell_type": "code",
   "execution_count": 11,
   "metadata": {},
   "outputs": [
    {
     "name": "stdout",
     "output_type": "stream",
     "text": [
      "['http:', '', 'www.naver.com', 'news', 'today=20191204']\n"
     ]
    }
   ],
   "source": [
    "#Q.아래의 url 변수에 있는 문자열은 슬래쉬(/)로 구분되어있는데 이 문자열의 요소를\n",
    "#다음의 리스트처럼 구성하시오\n",
    "url='http://www.naver.com/news/today=20191204'\n",
    "print(url.split('/'))"
   ]
  },
  {
   "cell_type": "code",
   "execution_count": 12,
   "metadata": {},
   "outputs": [
    {
     "name": "stdout",
     "output_type": "stream",
     "text": [
      "http://www.naver.com/news/today=20191204\n"
     ]
    }
   ],
   "source": [
    "#문자열을 특정 문자(열)로 결합하기\n",
    "a=['http:', '', 'www.naver.com', 'news', 'today=20191204']\n",
    "bond='/'\n",
    "url=bond.join(a)\n",
    "print(url)"
   ]
  },
  {
   "cell_type": "code",
   "execution_count": 14,
   "metadata": {},
   "outputs": [
    {
     "name": "stdout",
     "output_type": "stream",
     "text": [
      "ADAMS,ALLEN,BLAKE,CLARK,FORD,JAMES,JONES,KING,MARTIN,MILLER,SCOTT,SMITH,TURNER,WARD\n"
     ]
    }
   ],
   "source": [
    "#Q.이름만 뽑아서 a라는 리스트에 담고 하나씩 뽑아서 콤마로 연결해서 문자열로 출력되게하시오\n",
    "import csv\n",
    "file=open(\"d:\\\\data\\\\emp22.csv\",encoding='UTF8')\n",
    "emp12_csv=csv.reader(file)\n",
    "a=[]\n",
    "for emp_list in emp12_csv:\n",
    "    a.append(emp_list[1])\n",
    "bond=','\n",
    "a.sort() #a 리스트 안의 요소를 ㄱㄴㄷ순으로 정렬합니다. 위치 중요!\n",
    "result=bond.join(a)\n",
    "print(result)"
   ]
  },
  {
   "cell_type": "code",
   "execution_count": 15,
   "metadata": {},
   "outputs": [
    {
     "name": "stdout",
     "output_type": "stream",
     "text": [
      "KING 5***\n",
      "BLAKE 285*\n",
      "CLARK 245*\n",
      "JONES 2975\n",
      "MARTIN 125*\n",
      "ALLEN 16**\n",
      "TURNER 15**\n",
      "JAMES 95*\n",
      "WARD 125*\n",
      "FORD 3***\n",
      "SMITH 8**\n",
      "SCOTT 3***\n",
      "ADAMS 11**\n",
      "MILLER 13**\n"
     ]
    }
   ],
   "source": [
    "#Q.emp2.csv에서 이름, 월급을 출력하는데 월급을 출력할 때 0 대신 *로 출력하시오\n",
    "import csv\n",
    "file=open(\"d:\\\\data\\\\emp22.csv\",encoding='UTF8')\n",
    "emp2_csv=csv.reader(file)\n",
    "for emp2_list in emp2_csv:\n",
    "    print(emp2_list[1],emp2_list[5].replace('0','*'))"
   ]
  },
  {
   "cell_type": "code",
   "execution_count": 16,
   "metadata": {},
   "outputs": [
    {
     "name": "stdout",
     "output_type": "stream",
     "text": [
      "name--->홍길동\n",
      "age--->17\n",
      "major--->경영학\n",
      "nation--->한국\n"
     ]
    }
   ],
   "source": [
    "#Q.아래의 리스트를 name--->홍길동 으로 나오게하시오\n",
    "a=['name:홍길동', 'age:17', 'major:경영학', 'nation:한국']\n",
    "for i in a:\n",
    "    print(i.replace(':','--->'))"
   ]
  },
  {
   "cell_type": "code",
   "execution_count": 17,
   "metadata": {},
   "outputs": [
    {
     "name": "stdout",
     "output_type": "stream",
     "text": [
      "ADAMS(1100),ALLEN(1600),BLAKE(2850),CLARK(2450),FORD(3000),JAMES(950),JONES(2975),KING(5000),MARTIN(1250),MILLER(1300),SCOTT(3000),SMITH(800),TURNER(1500),WARD(1250)\n"
     ]
    }
   ],
   "source": [
    "#Q.이름을 출력하는데 월급도 옆에 함께 출력하시오\n",
    "import csv\n",
    "file=open(\"d:\\\\data\\\\emp22.csv\",encoding='UTF8')\n",
    "emp12_csv=csv.reader(file)\n",
    "a=[]\n",
    "bond=','\n",
    "for emp_list in emp12_csv:\n",
    "    a.append(emp_list[1]+'('+emp_list[5]+')')\n",
    "    a.sort()\n",
    "    result2=bond.join(a)\n",
    "print(result2)"
   ]
  },
  {
   "cell_type": "code",
   "execution_count": 18,
   "metadata": {},
   "outputs": [
    {
     "name": "stdout",
     "output_type": "stream",
     "text": [
      "0.0843\n"
     ]
    }
   ],
   "source": [
    "#Q.주사위 2개를 동시에 던져서 두 주사위의 눈의 합이 10이 나오는 확률을 구하시오\n",
    "import random\n",
    "dice1=list(range(1,7))\n",
    "dice2=list(range(1,7))\n",
    "cnt=0\n",
    "\n",
    "for i in range (1,10001):\n",
    "    result1=random.choice(dice1)\n",
    "    result2=random.choice(dice2)\n",
    "    if result1+result2==10:\n",
    "        cnt+=1\n",
    "print(cnt/10000)"
   ]
  },
  {
   "cell_type": "code",
   "execution_count": 19,
   "metadata": {},
   "outputs": [
    {
     "name": "stdout",
     "output_type": "stream",
     "text": [
      "[2, 4, 6, 8, 10, 12, 14, 16, 18]\n"
     ]
    }
   ],
   "source": [
    "#Q.아래의 결과를 출력하시오[2,4,6,8,10,12,14,16,18]\n",
    "a=list(range(2,20,2)) #range(시작숫자, 끝숫자, 스텝). 시작숫자부터 끝숫자 미만까지 스텝만큼 증가해서 출력\n",
    "print(a)"
   ]
  },
  {
   "cell_type": "code",
   "execution_count": 20,
   "metadata": {},
   "outputs": [
    {
     "name": "stdout",
     "output_type": "stream",
     "text": [
      "7\n"
     ]
    }
   ],
   "source": [
    "#Q.다음의 리스트 b에서 숫자 7을 출력하시오\n",
    "b=[2,3,4,[5,6],[7,8],9]\n",
    "print(b[4][0])"
   ]
  },
  {
   "cell_type": "code",
   "execution_count": 21,
   "metadata": {},
   "outputs": [
    {
     "ename": "ValueError",
     "evalue": "4 is not in list",
     "output_type": "error",
     "traceback": [
      "\u001b[1;31m---------------------------------------------------------------------------\u001b[0m",
      "\u001b[1;31mValueError\u001b[0m                                Traceback (most recent call last)",
      "\u001b[1;32m<ipython-input-21-35a7562f4708>\u001b[0m in \u001b[0;36m<module>\u001b[1;34m\u001b[0m\n\u001b[0;32m      1\u001b[0m \u001b[1;31m#Q.다음의 리스트 a에서 숫자 4의 인덱스 번호를 출력하시오\u001b[0m\u001b[1;33m\u001b[0m\u001b[1;33m\u001b[0m\u001b[1;33m\u001b[0m\u001b[0m\n\u001b[0;32m      2\u001b[0m \u001b[0ma\u001b[0m\u001b[1;33m=\u001b[0m\u001b[1;33m[\u001b[0m\u001b[1;36m1\u001b[0m\u001b[1;33m,\u001b[0m\u001b[1;36m2\u001b[0m\u001b[1;33m,\u001b[0m\u001b[1;34m'a'\u001b[0m\u001b[1;33m,\u001b[0m\u001b[1;34m'b'\u001b[0m\u001b[1;33m,\u001b[0m\u001b[1;34m'c'\u001b[0m\u001b[1;33m,\u001b[0m\u001b[1;33m[\u001b[0m\u001b[1;36m4\u001b[0m\u001b[1;33m,\u001b[0m\u001b[1;36m5\u001b[0m\u001b[1;33m,\u001b[0m\u001b[1;36m6\u001b[0m\u001b[1;33m]\u001b[0m\u001b[1;33m]\u001b[0m\u001b[1;33m\u001b[0m\u001b[1;33m\u001b[0m\u001b[0m\n\u001b[1;32m----> 3\u001b[1;33m \u001b[0mprint\u001b[0m\u001b[1;33m(\u001b[0m\u001b[0ma\u001b[0m\u001b[1;33m.\u001b[0m\u001b[0mindex\u001b[0m\u001b[1;33m(\u001b[0m\u001b[1;36m4\u001b[0m\u001b[1;33m)\u001b[0m\u001b[1;33m)\u001b[0m \u001b[1;31m#4 is not in list\u001b[0m\u001b[1;33m\u001b[0m\u001b[1;33m\u001b[0m\u001b[0m\n\u001b[0m\u001b[0;32m      4\u001b[0m \u001b[1;31m#리스트 안에 있는 리스트의 인덱스 번호는 출력못함\u001b[0m\u001b[1;33m\u001b[0m\u001b[1;33m\u001b[0m\u001b[1;33m\u001b[0m\u001b[0m\n",
      "\u001b[1;31mValueError\u001b[0m: 4 is not in list"
     ]
    }
   ],
   "source": [
    "#Q.다음의 리스트 a에서 숫자 4의 인덱스 번호를 출력하시오\n",
    "a=[1,2,'a','b','c',[4,5,6]]\n",
    "print(a.index(4)) #4 is not in list\n",
    "#리스트 안에 있는 리스트의 인덱스 번호는 출력못함"
   ]
  },
  {
   "cell_type": "code",
   "execution_count": 23,
   "metadata": {},
   "outputs": [
    {
     "name": "stdout",
     "output_type": "stream",
     "text": [
      "['a', 'b', 'c', 'k', 'e', 'f', 'g']\n"
     ]
    }
   ],
   "source": [
    "#Q.list_a의 알파벳 d를 k로 변경하시\n",
    "list_a=['a','b','c','d','e','f','g']\n",
    "list_a[list_a.index('d')]='k'\n",
    "print(list_a)"
   ]
  },
  {
   "cell_type": "code",
   "execution_count": 24,
   "metadata": {},
   "outputs": [
    {
     "name": "stdout",
     "output_type": "stream",
     "text": [
      "abcdefghijklmnopqrstuvwxyz\n",
      "['a', 'b', 'c', 'd', 'e', 'f', 'g', 'h', 'i', 'j', 'k', 'l', 'm', 'n', 'o', 'p', 'q', 'r', 's', 't', 'u', 'v', 'w', 'x', 'y']\n"
     ]
    }
   ],
   "source": [
    "#Q.알파벳 a부터 z까지를 담는 리스트를 list_a로 생성하시오\n",
    "import string #string 모듈안에 알파벳이 들어있습니다.\n",
    "print(string.ascii_lowercase)\n",
    "list_a=[]\n",
    "for i in string.ascii_lowercase:\n",
    "    list_a.append(i)\n",
    "print(list_a[:list_a.index('z')])"
   ]
  },
  {
   "cell_type": "code",
   "execution_count": 25,
   "metadata": {},
   "outputs": [
    {
     "name": "stdout",
     "output_type": "stream",
     "text": [
      "[2, 4, 6, 8, 10, 12, 14, 16, 18, 20, 22, 24, 26, 28, 30, 32, 34, 36, 38, 40, 42, 44, 46, 48, 50, 52, 54, 56, 58, 60, 62, 64, 66, 68, 70, 72, 74, 76, 78, 80, 82, 84, 86, 88, 90, 92, 94, 96, 98, 100]\n"
     ]
    }
   ],
   "source": [
    "#Q.1부터 100까지의 숫자중에 짝수만 아래의 list_a에 담아서 출력하시오\n",
    "list_a=list(range(2,101,2))\n",
    "print(list_a)"
   ]
  },
  {
   "cell_type": "code",
   "execution_count": 26,
   "metadata": {},
   "outputs": [
    {
     "name": "stdout",
     "output_type": "stream",
     "text": [
      "['e', 'd', 'c', 'b', 'a']\n",
      "['e', 'd', 'c', 'b', 'a']\n",
      "['a', 'b', 'c', 'd', 'e']\n"
     ]
    }
   ],
   "source": [
    "#reverse() vs. reversed()\n",
    "list_a=['a','b','c','d','e']\n",
    "list_a.reverse() #list_a의 요소 자체를 역순으로 변경한다. (원본데이터를 변경)\n",
    "print(list_a) #['e','d','c','b','a']\n",
    "\t\t\n",
    "list_b=['a','b','c','d','e']\n",
    "result=reversed(list_b) #list_b의 요소를 역순으로 만들어서 result에 저장\n",
    "print(list(result)) #['e','d','c','b','a'] \n",
    "print(list_b) #=['a','b','c','d','e']"
   ]
  },
  {
   "cell_type": "code",
   "execution_count": 27,
   "metadata": {},
   "outputs": [
    {
     "name": "stdout",
     "output_type": "stream",
     "text": [
      "[34, 34, 34, 34, 34, 34, 34, 34, 34, 34, 2, 2, 2, 2, 2, 2, 2, 2, 2, 2]\n"
     ]
    }
   ],
   "source": [
    "#Q.다음과 같이 엄마와 아기가 함꼐하는 수영교실 나이 리스트를 생성하시오\n",
    "listdata1=[34]\n",
    "listdata2=[2]\n",
    "listdata3=listdata1*10+listdata2*10\n",
    "print(listdata3)"
   ]
  },
  {
   "cell_type": "code",
   "execution_count": 28,
   "metadata": {},
   "outputs": [
    {
     "name": "stdout",
     "output_type": "stream",
     "text": [
      "18.0\n",
      "18.0\n",
      "ModeResult(mode=array([2]), count=array([10]))\n"
     ]
    }
   ],
   "source": [
    "#Q.엄마와 아기가 함께하는 수영교실 나이의 mean, median, mode를 출력하시오\n",
    "import numpy as np\n",
    "from scipy import stats\n",
    "listdata1=[34]\n",
    "listdata2=[2]\n",
    "listdata3=listdata1*10+listdata2*10\n",
    "swim_age=listdata3\n",
    "print(np.mean(swim_age))\n",
    "print(np.median(swim_age))\n",
    "print(stats.mode(swim_age))"
   ]
  },
  {
   "cell_type": "code",
   "execution_count": 29,
   "metadata": {},
   "outputs": [
    {
     "name": "stdout",
     "output_type": "stream",
     "text": [
      "[29, 31, 35, 29, 28, 28, 25, 28, 27, 27, 27, 26, 33, 30, 27, 27, 25, 28, 29, 24, 24, 29, 36, 26, 26, 26, 44, 28, 29, 28]\n"
     ]
    }
   ],
   "source": [
    "#Q.우리반 나이 데이터를 비어있는 리스트a에 담으시오\n",
    "import csv\n",
    "file=open(\"d:\\\\data\\\\emp1222.csv\",encoding='UTF8')\n",
    "emp12_csv=csv.reader(file)\n",
    "a=[]\n",
    "for emp_list in emp12_csv:\n",
    "    a.append(int(emp_list[2]))\n",
    "print(a)"
   ]
  },
  {
   "cell_type": "code",
   "execution_count": 30,
   "metadata": {},
   "outputs": [
    {
     "name": "stdout",
     "output_type": "stream",
     "text": [
      "평균값: 28.633333333333333\n",
      "중앙값: 28.0\n",
      "최빈값: ModeResult(mode=array([28]), count=array([6]))\n"
     ]
    }
   ],
   "source": [
    "#Q.우리반 나이 데이터의 평균값, 중앙값, 최빈값을 출력하시오\n",
    "import csv\n",
    "import numpy as np\n",
    "from scipy import stats\n",
    "file=open(\"d:\\\\data\\\\emp1222.csv\",encoding='UTF8')\n",
    "emp12_csv=csv.reader(file)\n",
    "a=[]\n",
    "for emp_list in emp12_csv:\n",
    "    a.append(int(emp_list[2]))\n",
    "np.array(a)\n",
    "print('평균값:',np.mean(a))\n",
    "print('중앙값:',np.median(a))\n",
    "print('최빈값:',stats.mode(a))"
   ]
  },
  {
   "cell_type": "code",
   "execution_count": 31,
   "metadata": {},
   "outputs": [
    {
     "data": {
      "image/png": "[encoded data removed]",
      "text/plain": [
       "<Figure size 432x288 with 1 Axes>"
      ]
     },
     "metadata": {
      "needs_background": "light"
     },
     "output_type": "display_data"
    }
   ],
   "source": [
    "#Q.초등학생 키 데이터로 히스토그램을 그리시오\n",
    "import numpy as np\n",
    "import matplotlib.pyplot as plt\n",
    "height=np.random.randn(100000)*5+150\n",
    "bins=[142,144,146,148,150,152,154,156,158,160]\n",
    "hist,bins=np.histogram(height,bins) #결과랑은 상관없고 고수 확인하려고 한번 본 데이터\n",
    "plt.hist(height,bins,rwidth=0.8,alpha=0.7,color='red') #height:초등학생 10만명 키, bins:도수\n",
    "#rwidth:히스토그램 그래프의 넓이, alpha: 투명도 \n",
    "plt.grid() #격자모양이 생김"
   ]
  },
  {
   "cell_type": "code",
   "execution_count": 32,
   "metadata": {},
   "outputs": [
    {
     "name": "stdout",
     "output_type": "stream",
     "text": [
      "[24, 26, 28, 30, 32, 34, 36, 38, 40, 42, 44]\n",
      "[29, 31, 35, 29, 28, 28, 25, 28, 27, 27, 27, 26, 33, 30, 27, 27, 25, 28, 29, 24, 24, 29, 36, 26, 26, 26, 44, 28, 29, 28]\n"
     ]
    },
    {
     "data": {
      "image/png": "[encoded data removed]",
      "text/plain": [
       "<Figure size 432x288 with 1 Axes>"
      ]
     },
     "metadata": {
      "needs_background": "light"
     },
     "output_type": "display_data"
    }
   ],
   "source": [
    "import csv\n",
    "import matplotlib.pyplot as plt\n",
    "import numpy as np\n",
    "from scipy import stats\n",
    "file=open(\"d:\\\\data\\\\emp1222.csv\",encoding='UTF8')\n",
    "emp12_csv=csv.reader(file)\n",
    "a=[]\n",
    "bins=list(range(24,45,2))\n",
    "print(bins)\n",
    "for emp_list in emp12_csv:\n",
    "    a.append(int(emp_list[2]))\n",
    "print(a)\n",
    "plt.hist(a,bins,rwidth=0.7,color='magenta')\n",
    "plt.grid()"
   ]
  }
 ],
 "metadata": {
  "kernelspec": {
   "display_name": "Python 3",
   "language": "python",
   "name": "python3"
  },
  "language_info": {
   "codemirror_mode": {
    "name": "ipython",
    "version": 3
   },
   "file_extension": ".py",
   "mimetype": "text/x-python",
   "name": "python",
   "nbconvert_exporter": "python",
   "pygments_lexer": "ipython3",
   "version": "3.8.5"
  }
 },
 "nbformat": 4,
 "nbformat_minor": 4
}
