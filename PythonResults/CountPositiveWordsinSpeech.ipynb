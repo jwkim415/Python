{
 "cells": [
  {
   "cell_type": "code",
   "execution_count": 1,
   "metadata": {},
   "outputs": [
    {
     "name": "stdout",
     "output_type": "stream",
     "text": [
      "68\n"
     ]
    }
   ],
   "source": [
    "#스티브잡스의 연설문에 긍정단어가 몇개 있는지 확인하는 코드\n",
    "#스티브 잡스의 연설문을 단어 단위로 끊어서 읽어오기\n",
    "stev=open(\"d:\\\\data\\\\jobs.txt\",encoding='UTF8')\n",
    "stev2=stev.read().split()\n",
    "\n",
    "#긍정단어 리스트 만들기\n",
    "positive=open(\"d:\\\\data\\\\positive-words.txt\")\n",
    "pos=positive.read().split()\n",
    "\n",
    "#스티브 잡스의 연설문에 긍정 단어가 몇개인지 확인하기\n",
    "cnt=0\n",
    "for i in stev2:\n",
    "    if i.lower() in pos:\n",
    "        cnt+=1\n",
    "print(cnt)"
   ]
  }
 ],
 "metadata": {
  "kernelspec": {
   "display_name": "Python 3",
   "language": "python",
   "name": "python3"
  },
  "language_info": {
   "codemirror_mode": {
    "name": "ipython",
    "version": 3
   },
   "file_extension": ".py",
   "mimetype": "text/x-python",
   "name": "python",
   "nbconvert_exporter": "python",
   "pygments_lexer": "ipython3",
   "version": "3.8.5"
  }
 },
 "nbformat": 4,
 "nbformat_minor": 4
}
