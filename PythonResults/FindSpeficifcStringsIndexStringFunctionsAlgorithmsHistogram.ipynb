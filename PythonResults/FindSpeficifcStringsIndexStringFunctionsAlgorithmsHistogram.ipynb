{
 "cells": [
  {
   "cell_type": "code",
   "execution_count": 1,
   "metadata": {},
   "outputs": [
    {
     "name": "stdout",
     "output_type": "stream",
     "text": [
      "w\n",
      "t\n"
     ]
    }
   ],
   "source": [
    "#Q.아래의 txt 변수에서 w를 출력하시오\n",
    "txt='A tale that was not right'\n",
    "print(txt[12])\n",
    "#맨 끝의 철자인 t를 출력하기\n",
    "print(txt[-1])"
   ]
  },
  {
   "cell_type": "code",
   "execution_count": 2,
   "metadata": {},
   "outputs": [
    {
     "name": "stdout",
     "output_type": "stream",
     "text": [
      "k\n",
      "b\n",
      "c\n",
      "j\n",
      "m\n",
      "a\n",
      "t\n",
      "j\n",
      "w\n",
      "f\n",
      "s\n",
      "s\n",
      "a\n",
      "m\n"
     ]
    }
   ],
   "source": [
    "#Q.emp2.csv에서 이름만 출력하는데 이름의 첫번째 철자, 소문자로 출력하시오\n",
    "#판다스 아닌 버전:\n",
    "import csv\n",
    "file=open(\"d:\\\\data\\\\emp22.csv\")\n",
    "emp_csv=csv.reader(file)\n",
    "for emp_list in emp_csv:\n",
    "    print(emp_list[1][0].lower())"
   ]
  },
  {
   "cell_type": "code",
   "execution_count": 3,
   "metadata": {},
   "outputs": [
    {
     "name": "stdout",
     "output_type": "stream",
     "text": [
      "KIN\n",
      "BLA\n",
      "CLA\n",
      "JON\n",
      "MAR\n",
      "ALL\n",
      "TUR\n",
      "JAM\n",
      "WAR\n",
      "FOR\n",
      "SMI\n",
      "SCO\n",
      "ADA\n",
      "MIL\n"
     ]
    }
   ],
   "source": [
    "#Q.다음의 SQL을 파이썬으로 구현하시오(판다스x)\n",
    "#select ename, substr(ename,1,3) from emp;\n",
    "import csv\n",
    "file=open(\"d:\\\\data\\\\emp22.csv\")\n",
    "emp_csv=csv.reader(file)\n",
    "for emp_list in emp_csv:\n",
    "    print(emp_list[1][:3])"
   ]
  },
  {
   "cell_type": "code",
   "execution_count": 4,
   "metadata": {},
   "outputs": [
    {
     "name": "stdout",
     "output_type": "stream",
     "text": [
      "aAbBcCdDeEfFgGhHiIjJkK\n",
      "abcdefghijk\n",
      "ABCDEFGHIJK\n",
      "KkJjIiHhGgFfEeDdCcBbAa\n",
      "aAbBcCdDeEfFgGhHiIjJkK\n",
      "aAbBcCdDeEfFgGhHiIjJkK\n",
      "aAbBcCdDeEfFgGhHiIjJkK\n"
     ]
    }
   ],
   "source": [
    "#문자열 출력 이해하기\n",
    "#문자열에서 홀수 번째 문자만 출력하기\n",
    "txt='aAbBcCdDeEfFgGhHiIjJkK'\n",
    "print( txt[0:] )  #0번째 부터 문자 끝까지 출력\n",
    "print( txt[0 :: 2] ) #2칸씩 건너뛰면서 출력. 홀수번째 문자열만 출력\n",
    "print( txt[1 :: 2] )#2칸씩 건너뛰면서 출력. 짝수번째 문자열만 출력\n",
    "#문자열 거꾸로 만들기\n",
    "result=txt[::-1] #문자열 전체를 뒤에 철자부터 거꾸로 읽어라 라는 뜻.\n",
    "print(result)\n",
    "print(txt[::])#문자열 전체 순서대로 출력\n",
    "print(txt[:]) #문자열 전체 순서대로 출력\n",
    "print(txt[::1]) #문자열 전체 순서대로 출력. 처음부터 끝까지 1스텝으로 읽는다."
   ]
  },
  {
   "cell_type": "code",
   "execution_count": 5,
   "metadata": {},
   "outputs": [
    {
     "name": "stdout",
     "output_type": "stream",
     "text": [
      "GNIK\n",
      "EKALB\n",
      "KRALC\n",
      "SENOJ\n",
      "NITRAM\n",
      "NELLA\n",
      "RENRUT\n",
      "SEMAJ\n",
      "DRAW\n",
      "DROF\n",
      "HTIMS\n",
      "TTOCS\n",
      "SMADA\n",
      "RELLIM\n"
     ]
    }
   ],
   "source": [
    "#Q.이름을 출력하는데 이름의 철자를 거꾸로 출력하시오\n",
    "import csv\n",
    "file=open(\"d:\\\\data\\\\emp22.csv\")\n",
    "emp_csv=csv.reader(file)\n",
    "for emp_list in emp_csv:\n",
    "    print(emp_list[1][::-1])"
   ]
  },
  {
   "cell_type": "code",
   "execution_count": 6,
   "metadata": {},
   "outputs": [
    {
     "name": "stdout",
     "output_type": "stream",
     "text": [
      "KINGPRESIDENT\n",
      "BLAKEMANAGER\n",
      "CLARKMANAGER\n",
      "JONESMANAGER\n",
      "MARTINSALESMAN\n",
      "ALLENSALESMAN\n",
      "TURNERSALESMAN\n",
      "JAMESCLERK\n",
      "WARDSALESMAN\n",
      "FORDANALYST\n",
      "SMITHCLERK\n",
      "SCOTTANALYST\n",
      "ADAMSCLERK\n",
      "MILLERCLERK\n"
     ]
    }
   ],
   "source": [
    "#Q.아래의 SQL을 판다스를 이용하지 말고 파이썬으로 구현하시오\n",
    "#select ename || job from emp;\n",
    "import csv\n",
    "file=open(\"d:\\\\data\\\\emp22.csv\")\n",
    "emp_csv=csv.reader(file)\n",
    "for emp_list in emp_csv:\n",
    "    print(emp_list[1]+emp_list[2])"
   ]
  },
  {
   "cell_type": "code",
   "execution_count": 7,
   "metadata": {},
   "outputs": [
    {
     "name": "stdout",
     "output_type": "stream",
     "text": [
      "KING의 직업은 PRESIDENT입니다.\n",
      "BLAKE의 직업은 MANAGER입니다.\n",
      "CLARK의 직업은 MANAGER입니다.\n",
      "JONES의 직업은 MANAGER입니다.\n",
      "MARTIN의 직업은 SALESMAN입니다.\n",
      "ALLEN의 직업은 SALESMAN입니다.\n",
      "TURNER의 직업은 SALESMAN입니다.\n",
      "JAMES의 직업은 CLERK입니다.\n",
      "WARD의 직업은 SALESMAN입니다.\n",
      "FORD의 직업은 ANALYST입니다.\n",
      "SMITH의 직업은 CLERK입니다.\n",
      "SCOTT의 직업은 ANALYST입니다.\n",
      "ADAMS의 직업은 CLERK입니다.\n",
      "MILLER의 직업은 CLERK입니다.\n"
     ]
    }
   ],
   "source": [
    "#Q.다음과 같이 결과가 출력되게 하시오\n",
    "#select ename||'의 직업은'||job||'입니다' from emp;\n",
    "import csv\n",
    "file=open(\"d:\\\\data\\\\emp22.csv\")\n",
    "emp_csv=csv.reader(file)\n",
    "for emp_list in emp_csv:\n",
    "    print(emp_list[1]+'의 직업은 '+emp_list[2]+'입니다.')"
   ]
  },
  {
   "cell_type": "code",
   "execution_count": 8,
   "metadata": {},
   "outputs": [
    {
     "name": "stdout",
     "output_type": "stream",
     "text": [
      "숫자를 입력하세요5\n",
      "1\n",
      "2\n",
      "3\n",
      "4\n",
      "5\n"
     ]
    }
   ],
   "source": [
    "#Q.for loop문을 이용해서 숫자를 물어보게하고 해당 숫자만큼 1부터 출력하시오\n",
    "num=int(input('숫자를 입력하세요'))\n",
    "for i in range(1,num+1):\n",
    "    print(i)"
   ]
  },
  {
   "cell_type": "code",
   "execution_count": 9,
   "metadata": {},
   "outputs": [
    {
     "name": "stdout",
     "output_type": "stream",
     "text": [
      "숫자를 입력하세요5\n",
      "★\n",
      "★★\n",
      "★★★\n",
      "★★★★\n",
      "★★★★★\n"
     ]
    }
   ],
   "source": [
    "#Q.위의 코드를 수정해서 숫자를 물어보게하고 아래와 같이 ★이 출력되게 하시오\n",
    "num=int(input('숫자를 입력하세요'))\n",
    "for i in range(1,num+1):\n",
    "    print(i*'★')"
   ]
  },
  {
   "cell_type": "code",
   "execution_count": 10,
   "metadata": {},
   "outputs": [
    {
     "name": "stdout",
     "output_type": "stream",
     "text": [
      "숫자를 입력하세요5\n",
      "★★★★★\n",
      "★★★★\n",
      "★★★\n",
      "★★\n",
      "★\n",
      "\n"
     ]
    }
   ],
   "source": [
    "#Q.위의 문제에서처럼 삼각형을 출력하는데 거꾸로된 삼각형을 출력하시오\n",
    "num=int(input('숫자를 입력하세요'))\n",
    "for i in range(num,-1,-1):\n",
    "    print(i*'★')"
   ]
  },
  {
   "cell_type": "code",
   "execution_count": 11,
   "metadata": {},
   "outputs": [
    {
     "name": "stdout",
     "output_type": "stream",
     "text": [
      "숫자를 입력하세요5\n",
      "★\n",
      "★★\n",
      "★★★\n",
      "★★★★\n",
      "★★★★★\n",
      "★★★★\n",
      "★★★\n",
      "★★\n",
      "★\n",
      "\n"
     ]
    }
   ],
   "source": [
    "#Q.숫자를 물어보고 삼각형을 출력되게하는데 그 숫자만큼 커졌다 작아지는 삼각형을 출력하시오\n",
    "num=int(input('숫자를 입력하세요'))\n",
    "for i in range(1,num+1):\n",
    "    print(i*'★')\n",
    "for j in range(num-1,-1,-1):\n",
    "    print(j*'★')"
   ]
  },
  {
   "cell_type": "code",
   "execution_count": 12,
   "metadata": {},
   "outputs": [
    {
     "name": "stdout",
     "output_type": "stream",
     "text": [
      "숫자를 입력하세요5\n",
      "    ★\n",
      "   ★★\n",
      "  ★★★\n",
      " ★★★★\n",
      "★★★★★\n"
     ]
    }
   ],
   "source": [
    "#Q.숫자를 물어보게하고 그 숫자크기의 정삼각형을 출력하시오\n",
    "num=int(input('숫자를 입력하세요'))\n",
    "for i in range(1,num+1):\n",
    "    print(' '*(num-i)+i*'★')"
   ]
  },
  {
   "cell_type": "code",
   "execution_count": 13,
   "metadata": {},
   "outputs": [
    {
     "name": "stdout",
     "output_type": "stream",
     "text": [
      "가로의 숫자를 입력하세요5\n",
      "세로의 숫자를 입력하세요3\n",
      "★★★★★\n",
      "★★★★★\n",
      "★★★★★\n"
     ]
    }
   ],
   "source": [
    "#Q.가로, 세로의 숫자를 물어보게하고 해당 숫자만큼 사각형이 출력되게하시오\n",
    "num1=int(input('가로의 숫자를 입력하세요'))\n",
    "num2=int(input('세로의 숫자를 입력하세요'))\n",
    "for i in range(1,num2+1):\n",
    "    print(num1*'★')"
   ]
  },
  {
   "cell_type": "code",
   "execution_count": 14,
   "metadata": {},
   "outputs": [
    {
     "name": "stdout",
     "output_type": "stream",
     "text": [
      "JONES\n",
      "JAMES\n",
      "SMITH\n",
      "SCOTT\n",
      "ADAMS\n"
     ]
    }
   ],
   "source": [
    "#Q.emp2.csv에서 이름을 출력하는데 이름에 S를 포함하고 있는 사원들의 이름을 출력하시오\n",
    "import csv\n",
    "file=open(\"d:\\\\data\\\\emp22.csv\")\n",
    "emp_csv=csv.reader(file)\n",
    "for emp_list in emp_csv:\n",
    "    if 'S' in emp_list[1]:\n",
    "        print(emp_list[1])"
   ]
  },
  {
   "cell_type": "code",
   "execution_count": 15,
   "metadata": {},
   "outputs": [
    {
     "name": "stdout",
     "output_type": "stream",
     "text": [
      "5\n"
     ]
    }
   ],
   "source": [
    "#Q.위의 문제에서 몇명의 사원이 있는지 출력하시오\n",
    "import csv\n",
    "cnt=0\n",
    "file=open(\"d:\\\\data\\\\emp22.csv\")\n",
    "emp_csv=csv.reader(file)\n",
    "for emp_list in emp_csv:\n",
    "    if 'S' in emp_list[1]: #이름에 S자가 포함되어져 있으면\n",
    "        cnt=cnt+1  #수행\n",
    "print(cnt)"
   ]
  },
  {
   "cell_type": "code",
   "execution_count": 16,
   "metadata": {},
   "outputs": [
    {
     "name": "stdout",
     "output_type": "stream",
     "text": [
      "318\n"
     ]
    }
   ],
   "source": [
    "#Q.겨울왕국 스크립트에서 elsa라는 단어가 몇번 나오는지 카운트 하시오-1\n",
    "winter=open('d:\\\\data\\\\winter.txt')\n",
    "cnt=0\n",
    "for i in winter: #winter.txt의 스크립트를 한행씩 가져오면서 \n",
    "    if 'elsa' in i.lower(): #소문자로 변환해서 출력합니다.\n",
    "        cnt+=1\n",
    "print(cnt)\n",
    "#틀린 코드\n",
    "#이 코드는 한 행에 elsa가 두번 나와도  cnt는 1개만 카운트됩니다."
   ]
  },
  {
   "cell_type": "code",
   "execution_count": 17,
   "metadata": {},
   "outputs": [
    {
     "name": "stdout",
     "output_type": "stream",
     "text": [
      "329\n"
     ]
    }
   ],
   "source": [
    "#Q.겨울왕국 스크립트에서 elsa라는 단어가 몇번 나오는지 카운트 하시오-2\n",
    "winter=open('d:\\\\data\\\\winter.txt')\n",
    "winter2=winter.read().split() #스크립트를 엔터로 먼저 줄 단위로 분리해야 함\n",
    "cnt=0\n",
    "for i in winter2: \n",
    "    if 'elsa' in i.lower(): #소문자로 변환\n",
    "        cnt+=1\n",
    "print(cnt)"
   ]
  },
  {
   "cell_type": "code",
   "execution_count": 18,
   "metadata": {},
   "outputs": [
    {
     "name": "stdout",
     "output_type": "stream",
     "text": [
      "KING 4\n",
      "BLAKE 5\n",
      "CLARK 5\n",
      "JONES 5\n",
      "MARTIN 6\n",
      "ALLEN 5\n",
      "TURNER 6\n",
      "JAMES 5\n",
      "WARD 4\n",
      "FORD 4\n",
      "SMITH 5\n",
      "SCOTT 5\n",
      "ADAMS 5\n",
      "MILLER 6\n"
     ]
    }
   ],
   "source": [
    "#Q.파이썬으로 이름, 이름의 길이를 출력하시오\n",
    "import csv\n",
    "file=open(\"d:\\\\data\\\\emp22.csv\")\n",
    "emp_csv=csv.reader(file)\n",
    "for emp_list in emp_csv:\n",
    "    print(emp_list[1],len(emp_list[1]))"
   ]
  },
  {
   "cell_type": "code",
   "execution_count": 19,
   "metadata": {},
   "outputs": [
    {
     "name": "stdout",
     "output_type": "stream",
     "text": [
      "False\n",
      "True\n",
      "False\n"
     ]
    }
   ],
   "source": [
    "#문자열이 알파벳(사람의 언어)인지 검색하기\n",
    "txt1='Warcraft three'\n",
    "txt2='안녕'\n",
    "txt3='3PO'\n",
    "print( txt1.isalpha() ) #False 중간에 공백이 false로 만듦\n",
    "print( txt2.isalpha() ) #True. 한글이나 다른나라 언어도 True\n",
    "print( txt3.isalpha() ) #False. 숫자가 하나라도 있으면 False"
   ]
  },
  {
   "cell_type": "code",
   "execution_count": 22,
   "metadata": {},
   "outputs": [
    {
     "name": "stdout",
     "output_type": "stream",
     "text": [
      "9255\n"
     ]
    }
   ],
   "source": [
    "#Q.위의 스크립트를 철자 하나씩 출력해서 이 스크립트에 알파벳이 몇개가 있는지 출력하시오\n",
    "stev=open(\"d:\\\\data\\\\jobs.txt\",encoding='UTF8')\n",
    "stev2=stev.read().split()\n",
    "cnt=0\n",
    "for i in stev2:\n",
    "    for k in i: #스크립트 한행을 읽어서 철자를 하나씩 불러오는 코드\n",
    "        if k.isalpha()==True:\n",
    "            cnt+=1\n",
    "print(cnt)"
   ]
  },
  {
   "cell_type": "code",
   "execution_count": 21,
   "metadata": {},
   "outputs": [
    {
     "name": "stdout",
     "output_type": "stream",
     "text": [
      "43\n"
     ]
    }
   ],
   "source": [
    "#Q.위의 스크립트를 철자 하나씩 출력해서 이 스크립트에 숫자가 몇개가 있는지 출력하시오\n",
    "stev=open(\"d:\\\\data\\\\jobs.txt\",encoding='UTF8')\n",
    "stev2=stev.read().split()\n",
    "cnt=0\n",
    "for i in stev2:\n",
    "    for k in i: #스크립트 한행을 읽어서 철자를 하나씩 불러오는 코드\n",
    "        if k.isdigit()==True:\n",
    "            cnt+=1\n",
    "print(cnt)"
   ]
  },
  {
   "cell_type": "code",
   "execution_count": 23,
   "metadata": {},
   "outputs": [
    {
     "name": "stdout",
     "output_type": "stream",
     "text": [
      "A\n",
      "s\n",
      "t\n",
      "o\n",
      "r\n",
      "y\n",
      "i\n",
      "s\n",
      "2\n",
      "0\n",
      "0\n",
      "3\n"
     ]
    }
   ],
   "source": [
    "#알파벳과 숫자 동시에 확인하기\n",
    "a='A story is 2003'\n",
    "for i in a:\n",
    "    if i.isalnum() == True:\n",
    "        print( i )"
   ]
  },
  {
   "cell_type": "code",
   "execution_count": 25,
   "metadata": {},
   "outputs": [
    {
     "name": "stdout",
     "output_type": "stream",
     "text": [
      "['a+', 'abound', 'abounds', 'abundance', 'abundant', 'accessable', 'accessible', 'acclaim', 'acclaimed', 'acclamation', 'accolade', 'accolades', 'accommodative', 'accomodative', 'accomplish', 'accomplished', 'accomplishment', 'accomplishments', 'accurate', 'accurately', 'achievable', 'achievement', 'achievements', 'achievible', 'acumen', 'adaptable', 'adaptive', 'adequate', 'adjustable', 'admirable', 'admirably', 'admiration', 'admire', 'admirer', 'admiring', 'admiringly', 'adorable', 'adore', 'adored', 'adorer', 'adoring', 'adoringly', 'adroit', 'adroitly', 'adulate', 'adulation', 'adulatory', 'advanced', 'advantage', 'advantageous', 'advantageously', 'advantages', 'adventuresome', 'adventurous', 'advocate', 'advocated', 'advocates', 'affability', 'affable', 'affably', 'affectation', 'affection', 'affectionate', 'affinity', 'affirm', 'affirmation', 'affirmative', 'affluence', 'affluent', 'afford', 'affordable', 'affordably', 'afordable', 'agile', 'agilely', 'agility', 'agreeable', 'agreeableness', 'agreeably', 'all-around', 'alluring', 'alluringly', 'altruistic', 'altruistically', 'amaze', 'amazed', 'amazement', 'amazes', 'amazing', 'amazingly', 'ambitious', 'ambitiously', 'ameliorate', 'amenable', 'amenity', 'amiability', 'amiabily', 'amiable', 'amicability', 'amicable', 'amicably', 'amity', 'ample', 'amply', 'amuse', 'amusing', 'amusingly', 'angel', 'angelic', 'apotheosis', 'appeal', 'appealing', 'applaud', 'appreciable', 'appreciate', 'appreciated', 'appreciates', 'appreciative', 'appreciatively', 'appropriate', 'approval', 'approve', 'ardent', 'ardently', 'ardor', 'articulate', 'aspiration', 'aspirations', 'aspire', 'assurance', 'assurances', 'assure', 'assuredly', 'assuring', 'astonish', 'astonished', 'astonishing', 'astonishingly', 'astonishment', 'astound', 'astounded', 'astounding', 'astoundingly', 'astutely', 'attentive', 'attraction', 'attractive', 'attractively', 'attune', 'audible', 'audibly', 'auspicious', 'authentic', 'authoritative', 'autonomous', 'available', 'aver', 'avid', 'avidly', 'award', 'awarded', 'awards', 'awe', 'awed', 'awesome', 'awesomely', 'awesomeness', 'awestruck', 'awsome', 'backbone', 'balanced', 'bargain', 'beauteous', 'beautiful', 'beautifullly', 'beautifully', 'beautify', 'beauty', 'beckon', 'beckoned', 'beckoning', 'beckons', 'believable', 'believeable', 'beloved', 'benefactor', 'beneficent', 'beneficial', 'beneficially', 'beneficiary', 'benefit', 'benefits', 'benevolence', 'benevolent', 'benifits', 'best', 'best-known', 'best-performing', 'best-selling', 'better', 'better-known', 'better-than-expected', 'beutifully', 'blameless', 'bless', 'blessing', 'bliss', 'blissful', 'blissfully', 'blithe', 'blockbuster', 'bloom', 'blossom', 'bolster', 'bonny', 'bonus', 'bonuses', 'boom', 'booming', 'boost', 'boundless', 'bountiful', 'brainiest', 'brainy', 'brand-new', 'brave', 'bravery', 'bravo', 'breakthrough', 'breakthroughs', 'breathlessness', 'breathtaking', 'breathtakingly', 'breeze', 'bright', 'brighten', 'brighter', 'brightest', 'brilliance', 'brilliances', 'brilliant', 'brilliantly', 'brisk', 'brotherly', 'bullish', 'buoyant', 'cajole', 'calm', 'calming', 'calmness', 'capability', 'capable', 'capably', 'captivate', 'captivating', 'carefree', 'cashback', 'cashbacks', 'catchy', 'celebrate', 'celebrated', 'celebration', 'celebratory', 'champ', 'champion', 'charisma', 'charismatic', 'charitable', 'charm', 'charming', 'charmingly', 'chaste', 'cheaper', 'cheapest', 'cheer', 'cheerful', 'cheery', 'cherish', 'cherished', 'cherub', 'chic', 'chivalrous', 'chivalry', 'civility', 'civilize', 'clarity', 'classic', 'classy', 'clean', 'cleaner', 'cleanest', 'cleanliness', 'cleanly', 'clear', 'clear-cut', 'cleared', 'clearer', 'clearly', 'clears', 'clever', 'cleverly', 'cohere', 'coherence', 'coherent', 'cohesive', 'colorful', 'comely', 'comfort', 'comfortable', 'comfortably', 'comforting', 'comfy', 'commend', 'commendable', 'commendably', 'commitment', 'commodious', 'compact', 'compactly', 'compassion', 'compassionate', 'compatible', 'competitive', 'complement', 'complementary', 'complemented', 'complements', 'compliant', 'compliment', 'complimentary', 'comprehensive', 'conciliate', 'conciliatory', 'concise', 'confidence', 'confident', 'congenial', 'congratulate', 'congratulation', 'congratulations', 'congratulatory', 'conscientious', 'considerate', 'consistent', 'consistently', 'constructive', 'consummate', 'contentment', 'continuity', 'contrasty', 'contribution', 'convenience', 'convenient', 'conveniently', 'convience', 'convienient', 'convient', 'convincing', 'convincingly', 'cool', 'coolest', 'cooperative', 'cooperatively', 'cornerstone', 'correct', 'correctly', 'cost-effective', 'cost-saving', 'counter-attack', 'counter-attacks', 'courage', 'courageous', 'courageously', 'courageousness', 'courteous', 'courtly', 'covenant', 'cozy', 'creative', 'credence', 'credible', 'crisp', 'crisper', 'cure', 'cure-all', 'cushy', 'cute', 'cuteness', 'danke', 'danken', 'daring', 'daringly', 'darling', 'dashing', 'dauntless', 'dawn', 'dazzle', 'dazzled', 'dazzling', 'dead-cheap', 'dead-on', 'decency', 'decent', 'decisive', 'decisiveness', 'dedicated', 'defeat', 'defeated', 'defeating', 'defeats', 'defender', 'deference', 'deft', 'deginified', 'delectable', 'delicacy', 'delicate', 'delicious', 'delight', 'delighted', 'delightful', 'delightfully', 'delightfulness', 'dependable', 'dependably', 'deservedly', 'deserving', 'desirable', 'desiring', 'desirous', 'destiny', 'detachable', 'devout', 'dexterous', 'dexterously', 'dextrous', 'dignified', 'dignify', 'dignity', 'diligence', 'diligent', 'diligently', 'diplomatic', 'dirt-cheap', 'distinction', 'distinctive', 'distinguished', 'diversified', 'divine', 'divinely', 'dominate', 'dominated', 'dominates', 'dote', 'dotingly', 'doubtless', 'dreamland', 'dumbfounded', 'dumbfounding', 'dummy-proof', 'durable', 'dynamic', 'eager', 'eagerly', 'eagerness', 'earnest', 'earnestly', 'earnestness', 'ease', 'eased', 'eases', 'easier', 'easiest', 'easiness', 'easing', 'easy', 'easy-to-use', 'easygoing', 'ebullience', 'ebullient', 'ebulliently', 'ecenomical', 'economical', 'ecstasies', 'ecstasy', 'ecstatic', 'ecstatically', 'edify', 'educated', 'effective', 'effectively', 'effectiveness', 'effectual', 'efficacious', 'efficient', 'efficiently', 'effortless', 'effortlessly', 'effusion', 'effusive', 'effusively', 'effusiveness', 'elan', 'elate', 'elated', 'elatedly', 'elation', 'electrify', 'elegance', 'elegant', 'elegantly', 'elevate', 'elite', 'eloquence', 'eloquent', 'eloquently', 'embolden', 'eminence', 'eminent', 'empathize', 'empathy', 'empower', 'empowerment', 'enchant', 'enchanted', 'enchanting', 'enchantingly', 'encourage', 'encouragement', 'encouraging', 'encouragingly', 'endear', 'endearing', 'endorse', 'endorsed', 'endorsement', 'endorses', 'endorsing', 'energetic', 'energize', 'energy-efficient', 'energy-saving', 'engaging', 'engrossing', 'enhance', 'enhanced', 'enhancement', 'enhances', 'enjoy', 'enjoyable', 'enjoyably', 'enjoyed', 'enjoying', 'enjoyment', 'enjoys', 'enlighten', 'enlightenment', 'enliven', 'ennoble', 'enough', 'enrapt', 'enrapture', 'enraptured', 'enrich', 'enrichment', 'enterprising', 'entertain', 'entertaining', 'entertains', 'enthral', 'enthrall', 'enthralled', 'enthuse', 'enthusiasm', 'enthusiast', 'enthusiastic', 'enthusiastically', 'entice', 'enticed', 'enticing', 'enticingly', 'entranced', 'entrancing', 'entrust', 'enviable', 'enviably', 'envious', 'enviously', 'enviousness', 'envy', 'equitable', 'ergonomical', 'err-free', 'erudite', 'ethical', 'eulogize', 'euphoria', 'euphoric', 'euphorically', 'evaluative', 'evenly', 'eventful', 'everlasting', 'evocative', 'exalt', 'exaltation', 'exalted', 'exaltedly', 'exalting', 'exaltingly', 'examplar', 'examplary', 'excallent', 'exceed', 'exceeded', 'exceeding', 'exceedingly', 'exceeds', 'excel', 'exceled', 'excelent', 'excellant', 'excelled', 'excellence', 'excellency', 'excellent', 'excellently', 'excels', 'exceptional', 'exceptionally', 'excite', 'excited', 'excitedly', 'excitedness', 'excitement', 'excites', 'exciting', 'excitingly', 'exellent', 'exemplar', 'exemplary', 'exhilarate', 'exhilarating', 'exhilaratingly', 'exhilaration', 'exonerate', 'expansive', 'expeditiously', 'expertly', 'exquisite', 'exquisitely', 'extol', 'extoll', 'extraordinarily', 'extraordinary', 'exuberance', 'exuberant', 'exuberantly', 'exult', 'exultant', 'exultation', 'exultingly', 'eye-catch', 'eye-catching', 'eyecatch', 'eyecatching', 'fabulous', 'fabulously', 'facilitate', 'fair', 'fairly', 'fairness', 'faith', 'faithful', 'faithfully', 'faithfulness', 'fame', 'famed', 'famous', 'famously', 'fancier', 'fancinating', 'fancy', 'fanfare', 'fans', 'fantastic', 'fantastically', 'fascinate', 'fascinating', 'fascinatingly', 'fascination', 'fashionable', 'fashionably', 'fast', 'fast-growing', 'fast-paced', 'faster', 'fastest', 'fastest-growing', 'faultless', 'fav', 'fave', 'favor', 'favorable', 'favored', 'favorite', 'favorited', 'favour', 'fearless', 'fearlessly', 'feasible', 'feasibly', 'feat', 'feature-rich', 'fecilitous', 'feisty', 'felicitate', 'felicitous', 'felicity', 'fertile', 'fervent', 'fervently', 'fervid', 'fervidly', 'fervor', 'festive', 'fidelity', 'fiery', 'fine', 'fine-looking', 'finely', 'finer', 'finest', 'firmer', 'first-class', 'first-in-class', 'first-rate', 'flashy', 'flatter', 'flattering', 'flatteringly', 'flawless', 'flawlessly', 'flexibility', 'flexible', 'flourish', 'flourishing', 'fluent', 'flutter', 'fond', 'fondly', 'fondness', 'foolproof', 'foremost', 'foresight', 'formidable', 'fortitude', 'fortuitous', 'fortuitously', 'fortunate', 'fortunately', 'fortune', 'fragrant', 'free', 'freed', 'freedom', 'freedoms', 'fresh', 'fresher', 'freshest', 'friendliness', 'friendly', 'frolic', 'frugal', 'fruitful', 'ftw', 'fulfillment', 'fun', 'futurestic', 'futuristic', 'gaiety', 'gaily', 'gain', 'gained', 'gainful', 'gainfully', 'gaining', 'gains', 'gallant', 'gallantly', 'galore', 'geekier', 'geeky', 'gem', 'gems', 'generosity', 'generous', 'generously', 'genial', 'genius', 'gentle', 'gentlest', 'genuine', 'gifted', 'glad', 'gladden', 'gladly', 'gladness', 'glamorous', 'glee', 'gleeful', 'gleefully', 'glimmer', 'glimmering', 'glisten', 'glistening', 'glitter', 'glitz', 'glorify', 'glorious', 'gloriously', 'glory', 'glow', 'glowing', 'glowingly', 'god-given', 'god-send', 'godlike', 'godsend', 'gold', 'golden', 'good', 'goodly', 'goodness', 'goodwill', 'goood', 'gooood', 'gorgeous', 'gorgeously', 'grace', 'graceful', 'gracefully', 'gracious', 'graciously', 'graciousness', 'grand', 'grandeur', 'grateful', 'gratefully', 'gratification', 'gratified', 'gratifies', 'gratify', 'gratifying', 'gratifyingly', 'gratitude', 'great', 'greatest', 'greatness', 'grin', 'groundbreaking', 'guarantee', 'guidance', 'guiltless', 'gumption', 'gush', 'gusto', 'gutsy', 'hail', 'halcyon', 'hale', 'hallmark', 'hallmarks', 'hallowed', 'handier', 'handily', 'hands-down', 'handsome', 'handsomely', 'handy', 'happier', 'happily', 'happiness', 'happy', 'hard-working', 'hardier', 'hardy', 'harmless', 'harmonious', 'harmoniously', 'harmonize', 'harmony', 'headway', 'heal', 'healthful', 'healthy', 'hearten', 'heartening', 'heartfelt', 'heartily', 'heartwarming', 'heaven', 'heavenly', 'helped', 'helpful', 'helping', 'hero', 'heroic', 'heroically', 'heroine', 'heroize', 'heros', 'high-quality', 'high-spirited', 'hilarious', 'holy', 'homage', 'honest', 'honesty', 'honor', 'honorable', 'honored', 'honoring', 'hooray', 'hopeful', 'hospitable', 'hot', 'hotcake', 'hotcakes', 'hottest', 'hug', 'humane', 'humble', 'humility', 'humor', 'humorous', 'humorously', 'humour', 'humourous', 'ideal', 'idealize', 'ideally', 'idol', 'idolize', 'idolized', 'idyllic', 'illuminate', 'illuminati', 'illuminating', 'illumine', 'illustrious', 'ilu', 'imaculate', 'imaginative', 'immaculate', 'immaculately', 'immense', 'impartial', 'impartiality', 'impartially', 'impassioned', 'impeccable', 'impeccably', 'important', 'impress', 'impressed', 'impresses', 'impressive', 'impressively', 'impressiveness', 'improve', 'improved', 'improvement', 'improvements', 'improves', 'improving', 'incredible', 'incredibly', 'indebted', 'individualized', 'indulgence', 'indulgent', 'industrious', 'inestimable', 'inestimably', 'inexpensive', 'infallibility', 'infallible', 'infallibly', 'influential', 'ingenious', 'ingeniously', 'ingenuity', 'ingenuous', 'ingenuously', 'innocuous', 'innovation', 'innovative', 'inpressed', 'insightful', 'insightfully', 'inspiration', 'inspirational', 'inspire', 'inspiring', 'instantly', 'instructive', 'instrumental', 'integral', 'integrated', 'intelligence', 'intelligent', 'intelligible', 'interesting', 'interests', 'intimacy', 'intimate', 'intricate', 'intrigue', 'intriguing', 'intriguingly', 'intuitive', 'invaluable', 'invaluablely', 'inventive', 'invigorate', 'invigorating', 'invincibility', 'invincible', 'inviolable', 'inviolate', 'invulnerable', 'irreplaceable', 'irreproachable', 'irresistible', 'irresistibly', 'issue-free', 'jaw-droping', 'jaw-dropping', 'jollify', 'jolly', 'jovial', 'joy', 'joyful', 'joyfully', 'joyous', 'joyously', 'jubilant', 'jubilantly', 'jubilate', 'jubilation', 'jubiliant', 'judicious', 'justly', 'keen', 'keenly', 'keenness', 'kid-friendly', 'kindliness', 'kindly', 'kindness', 'knowledgeable', 'kudos', 'large-capacity', 'laud', 'laudable', 'laudably', 'lavish', 'lavishly', 'law-abiding', 'lawful', 'lawfully', 'lead', 'leading', 'leads', 'lean', 'led', 'legendary', 'leverage', 'levity', 'liberate', 'liberation', 'liberty', 'lifesaver', 'light-hearted', 'lighter', 'likable', 'like', 'liked', 'likes', 'liking', 'lionhearted', 'lively', 'logical', 'long-lasting', 'lovable', 'lovably', 'love', 'loved', 'loveliness', 'lovely', 'lover', 'loves', 'loving', 'low-cost', 'low-price', 'low-priced', 'low-risk', 'lower-priced', 'loyal', 'loyalty', 'lucid', 'lucidly', 'luck', 'luckier', 'luckiest', 'luckiness', 'lucky', 'lucrative', 'luminous', 'lush', 'luster', 'lustrous', 'luxuriant', 'luxuriate', 'luxurious', 'luxuriously', 'luxury', 'lyrical', 'magic', 'magical', 'magnanimous', 'magnanimously', 'magnificence', 'magnificent', 'magnificently', 'majestic', 'majesty', 'manageable', 'maneuverable', 'marvel', 'marveled', 'marvelled', 'marvellous', 'marvelous', 'marvelously', 'marvelousness', 'marvels', 'master', 'masterful', 'masterfully', 'masterpiece', 'masterpieces', 'masters', 'mastery', 'matchless', 'mature', 'maturely', 'maturity', 'meaningful', 'memorable', 'merciful', 'mercifully', 'mercy', 'merit', 'meritorious', 'merrily', 'merriment', 'merriness', 'merry', 'mesmerize', 'mesmerized', 'mesmerizes', 'mesmerizing', 'mesmerizingly', 'meticulous', 'meticulously', 'mightily', 'mighty', 'mind-blowing', 'miracle', 'miracles', 'miraculous', 'miraculously', 'miraculousness', 'modern', 'modest', 'modesty', 'momentous', 'monumental', 'monumentally', 'morality', 'motivated', 'multi-purpose', 'navigable', 'neat', 'neatest', 'neatly', 'nice', 'nicely', 'nicer', 'nicest', 'nifty', 'nimble', 'noble', 'nobly', 'noiseless', 'non-violence', 'non-violent', 'notably', 'noteworthy', 'nourish', 'nourishing', 'nourishment', 'novelty', 'nurturing', 'oasis', 'obsession', 'obsessions', 'obtainable', 'openly', 'openness', 'optimal', 'optimism', 'optimistic', 'opulent', 'orderly', 'originality', 'outdo', 'outdone', 'outperform', 'outperformed', 'outperforming', 'outperforms', 'outshine', 'outshone', 'outsmart', 'outstanding', 'outstandingly', 'outstrip', 'outwit', 'ovation', 'overjoyed', 'overtake', 'overtaken', 'overtakes', 'overtaking', 'overtook', 'overture', 'pain-free', 'painless', 'painlessly', 'palatial', 'pamper', 'pampered', 'pamperedly', 'pamperedness', 'pampers', 'panoramic', 'paradise', 'paramount', 'pardon', 'passion', 'passionate', 'passionately', 'patience', 'patient', 'patiently', 'patriot', 'patriotic', 'peace', 'peaceable', 'peaceful', 'peacefully', 'peacekeepers', 'peach', 'peerless', 'pep', 'pepped', 'pepping', 'peppy', 'peps', 'perfect', 'perfection', 'perfectly', 'permissible', 'perseverance', 'persevere', 'personages', 'personalized', 'phenomenal', 'phenomenally', 'picturesque', 'piety', 'pinnacle', 'playful', 'playfully', 'pleasant', 'pleasantly', 'pleased', 'pleases', 'pleasing', 'pleasingly', 'pleasurable', 'pleasurably', 'pleasure', 'plentiful', 'pluses', 'plush', 'plusses', 'poetic', 'poeticize', 'poignant', 'poise', 'poised', 'polished', 'polite', 'politeness', 'popular', 'portable', 'posh', 'positive', 'positively', 'positives', 'powerful', 'powerfully', 'praise', 'praiseworthy', 'praising', 'pre-eminent', 'precious', 'precise', 'precisely', 'preeminent', 'prefer', 'preferable', 'preferably', 'prefered', 'preferes', 'preferring', 'prefers', 'premier', 'prestige', 'prestigious', 'prettily', 'pretty', 'priceless', 'pride', 'principled', 'privilege', 'privileged', 'prize', 'proactive', 'problem-free', 'problem-solver', 'prodigious', 'prodigiously', 'prodigy', 'productive', 'productively', 'proficient', 'proficiently', 'profound', 'profoundly', 'profuse', 'profusion', 'progress', 'progressive', 'prolific', 'prominence', 'prominent', 'promise', 'promised', 'promises', 'promising', 'promoter', 'prompt', 'promptly', 'proper', 'properly', 'propitious', 'propitiously', 'pros', 'prosper', 'prosperity', 'prosperous', 'prospros', 'protect', 'protection', 'protective', 'proud', 'proven', 'proves', 'providence', 'proving', 'prowess', 'prudence', 'prudent', 'prudently', 'punctual', 'pure', 'purify', 'purposeful', 'quaint', 'qualified', 'qualify', 'quicker', 'quiet', 'quieter', 'radiance', 'radiant', 'rapid', 'rapport', 'rapt', 'rapture', 'raptureous', 'raptureously', 'rapturous', 'rapturously', 'rational', 'razor-sharp', 'reachable', 'readable', 'readily', 'ready', 'reaffirm', 'reaffirmation', 'realistic', 'realizable', 'reasonable', 'reasonably', 'reasoned', 'reassurance', 'reassure', 'receptive', 'reclaim', 'recomend', 'recommend', 'recommendation', 'recommendations', 'recommended', 'reconcile', 'reconciliation', 'record-setting', 'recover', 'recovery', 'rectification', 'rectify', 'rectifying', 'redeem', 'redeeming', 'redemption', 'refine', 'refined', 'refinement', 'reform', 'reformed', 'reforming', 'reforms', 'refresh', 'refreshed', 'refreshing', 'refund', 'refunded', 'regal', 'regally', 'regard', 'rejoice', 'rejoicing', 'rejoicingly', 'rejuvenate', 'rejuvenated', 'rejuvenating', 'relaxed', 'relent', 'reliable', 'reliably', 'relief', 'relish', 'remarkable', 'remarkably', 'remedy', 'remission', 'remunerate', 'renaissance', 'renewed', 'renown', 'renowned', 'replaceable', 'reputable', 'reputation', 'resilient', 'resolute', 'resound', 'resounding', 'resourceful', 'resourcefulness', 'respect', 'respectable', 'respectful', 'respectfully', 'respite', 'resplendent', 'responsibly', 'responsive', 'restful', 'restored', 'restructure', 'restructured', 'restructuring', 'retractable', 'revel', 'revelation', 'revere', 'reverence', 'reverent', 'reverently', 'revitalize', 'revival', 'revive', 'revives', 'revolutionary', 'revolutionize', 'revolutionized', 'revolutionizes', 'reward', 'rewarding', 'rewardingly', 'rich', 'richer', 'richly', 'richness', 'right', 'righten', 'righteous', 'righteously', 'righteousness', 'rightful', 'rightfully', 'rightly', 'rightness', 'risk-free', 'robust', 'rock-star', 'rock-stars', 'rockstar', 'rockstars', 'romantic', 'romantically', 'romanticize', 'roomier', 'roomy', 'rosy', 'safe', 'safely', 'sagacity', 'sagely', 'saint', 'saintliness', 'saintly', 'salutary', 'salute', 'sane', 'satisfactorily', 'satisfactory', 'satisfied', 'satisfies', 'satisfy', 'satisfying', 'satisified', 'saver', 'savings', 'savior', 'savvy', 'scenic', 'seamless', 'seasoned', 'secure', 'securely', 'selective', 'self-determination', 'self-respect', 'self-satisfaction', 'self-sufficiency', 'self-sufficient', 'sensation', 'sensational', 'sensationally', 'sensations', 'sensible', 'sensibly', 'sensitive', 'serene', 'serenity', 'sexy', 'sharp', 'sharper', 'sharpest', 'shimmering', 'shimmeringly', 'shine', 'shiny', 'significant', 'silent', 'simpler', 'simplest', 'simplified', 'simplifies', 'simplify', 'simplifying', 'sincere', 'sincerely', 'sincerity', 'skill', 'skilled', 'skillful', 'skillfully', 'slammin', 'sleek', 'slick', 'smart', 'smarter', 'smartest', 'smartly', 'smile', 'smiles', 'smiling', 'smilingly', 'smitten', 'smooth', 'smoother', 'smoothes', 'smoothest', 'smoothly', 'snappy', 'snazzy', 'sociable', 'soft', 'softer', 'solace', 'solicitous', 'solicitously', 'solid', 'solidarity', 'soothe', 'soothingly', 'sophisticated', 'soulful', 'soundly', 'soundness', 'spacious', 'sparkle', 'sparkling', 'spectacular', 'spectacularly', 'speedily', 'speedy', 'spellbind', 'spellbinding', 'spellbindingly', 'spellbound', 'spirited', 'spiritual', 'splendid', 'splendidly', 'splendor', 'spontaneous', 'sporty', 'spotless', 'sprightly', 'stability', 'stabilize', 'stable', 'stainless', 'standout', 'state-of-the-art', 'stately', 'statuesque', 'staunch', 'staunchly', 'staunchness', 'steadfast', 'steadfastly', 'steadfastness', 'steadiest', 'steadiness', 'steady', 'stellar', 'stellarly', 'stimulate', 'stimulates', 'stimulating', 'stimulative', 'stirringly', 'straighten', 'straightforward', 'streamlined', 'striking', 'strikingly', 'striving', 'strong', 'stronger', 'strongest', 'stunned', 'stunning', 'stunningly', 'stupendous', 'stupendously', 'sturdier', 'sturdy', 'stylish', 'stylishly', 'stylized', 'suave', 'suavely', 'sublime', 'subsidize', 'subsidized', 'subsidizes', 'subsidizing', 'substantive', 'succeed', 'succeeded', 'succeeding', 'succeeds', 'succes', 'success', 'successes', 'successful', 'successfully', 'suffice', 'sufficed', 'suffices', 'sufficient', 'sufficiently', 'suitable', 'sumptuous', 'sumptuously', 'sumptuousness', 'super', 'superb', 'superbly', 'superior', 'superiority', 'supple', 'support', 'supported', 'supporter', 'supporting', 'supportive', 'supports', 'supremacy', 'supreme', 'supremely', 'supurb', 'supurbly', 'surmount', 'surpass', 'surreal', 'survival', 'survivor', 'sustainability', 'sustainable', 'swank', 'swankier', 'swankiest', 'swanky', 'sweeping', 'sweet', 'sweeten', 'sweetheart', 'sweetly', 'sweetness', 'swift', 'swiftness', 'talent', 'talented', 'talents', 'tantalize', 'tantalizing', 'tantalizingly', 'tempt', 'tempting', 'temptingly', 'tenacious', 'tenaciously', 'tenacity', 'tender', 'tenderly', 'terrific', 'terrifically', 'thank', 'thankful', 'thinner', 'thoughtful', 'thoughtfully', 'thoughtfulness', 'thrift', 'thrifty', 'thrill', 'thrilled', 'thrilling', 'thrillingly', 'thrills', 'thrive', 'thriving', 'thumb-up', 'thumbs-up', 'tickle', 'tidy', 'time-honored', 'timely', 'tingle', 'titillate', 'titillating', 'titillatingly', 'togetherness', 'tolerable', 'toll-free', 'top', 'top-notch', 'top-quality', 'topnotch', 'tops', 'tough', 'tougher', 'toughest', 'traction', 'tranquil', 'tranquility', 'transparent', 'treasure', 'tremendously', 'trendy', 'triumph', 'triumphal', 'triumphant', 'triumphantly', 'trivially', 'trophy', 'trouble-free', 'trump', 'trumpet', 'trust', 'trusted', 'trusting', 'trustingly', 'trustworthiness', 'trustworthy', 'trusty', 'truthful', 'truthfully', 'truthfulness', 'twinkly', 'ultra-crisp', 'unabashed', 'unabashedly', 'unaffected', 'unassailable', 'unbeatable', 'unbiased', 'unbound', 'uncomplicated', 'unconditional', 'undamaged', 'undaunted', 'understandable', 'undisputable', 'undisputably', 'undisputed', 'unencumbered', 'unequivocal', 'unequivocally', 'unfazed', 'unfettered', 'unforgettable', 'unity', 'unlimited', 'unmatched', 'unparalleled', 'unquestionable', 'unquestionably', 'unreal', 'unrestricted', 'unrivaled', 'unselfish', 'unwavering', 'upbeat', 'upgradable', 'upgradeable', 'upgraded', 'upheld', 'uphold', 'uplift', 'uplifting', 'upliftingly', 'upliftment', 'upscale', 'usable', 'useable', 'useful', 'user-friendly', 'user-replaceable', 'valiant', 'valiantly', 'valor', 'valuable', 'variety', 'venerate', 'verifiable', 'veritable', 'versatile', 'versatility', 'vibrant', 'vibrantly', 'victorious', 'victory', 'viewable', 'vigilance', 'vigilant', 'virtue', 'virtuous', 'virtuously', 'visionary', 'vivacious', 'vivid', 'vouch', 'vouchsafe', 'warm', 'warmer', 'warmhearted', 'warmly', 'warmth', 'wealthy', 'welcome', 'well', 'well-backlit', 'well-balanced', 'well-behaved', 'well-being', 'well-bred', 'well-connected', 'well-educated', 'well-established', 'well-informed', 'well-intentioned', 'well-known', 'well-made', 'well-managed', 'well-mannered', 'well-positioned', 'well-received', 'well-regarded', 'well-rounded', 'well-run', 'well-wishers', 'wellbeing', 'whoa', 'wholeheartedly', 'wholesome', 'whooa', 'whoooa', 'wieldy', 'willing', 'willingly', 'willingness', 'win', 'windfall', 'winnable', 'winner', 'winners', 'winning', 'wins', 'wisdom', 'wise', 'wisely', 'witty', 'won', 'wonder', 'wonderful', 'wonderfully', 'wonderous', 'wonderously', 'wonders', 'wondrous', 'woo', 'work', 'workable', 'worked', 'works', 'world-famous', 'worth', 'worth-while', 'worthiness', 'worthwhile', 'worthy', 'wow', 'wowed', 'wowing', 'wows', 'yay', 'youthful', 'zeal', 'zenith', 'zest', 'zippy']\n"
     ]
    }
   ],
   "source": [
    "#Q.아래의 pos를 프린트해보세요\n",
    "positive=open(\"d:\\\\data\\\\positive-words.txt\")\n",
    "pos=positive.read().split()\n",
    "print(pos) #긍정단어들이 pos라는 리스트에 담겨져 있습니다."
   ]
  },
  {
   "cell_type": "code",
   "execution_count": 26,
   "metadata": {},
   "outputs": [
    {
     "name": "stdout",
     "output_type": "stream",
     "text": [
      "존재합니다\n"
     ]
    }
   ],
   "source": [
    "#Q.아래의 단어가 긍정단어 리스트들 중에 있는지 확인하시오\n",
    "if 'wonderful' in pos:\n",
    "    print('존재합니다')\n",
    "else:\n",
    "    print('존재하지 않습니다.')"
   ]
  },
  {
   "cell_type": "code",
   "execution_count": 27,
   "metadata": {},
   "outputs": [
    {
     "name": "stdout",
     "output_type": "stream",
     "text": [
      "KING 5000\n",
      "BLAKE 2850\n",
      "CLARK 2450\n",
      "JONES 2975\n",
      "MARTIN 1250\n",
      "ALLEN 1600\n",
      "TURNER 1500\n",
      "JAMES 950\n",
      "WARD 1250\n",
      "FORD 3000\n",
      "SMITH 800\n",
      "SCOTT 3000\n",
      "ADAMS 1100\n",
      "MILLER 1300\n"
     ]
    }
   ],
   "source": [
    "#Q.emp2.csv에서 이름, 월급을 출력하시오\n",
    "import csv\n",
    "file=open(\"d:\\\\data\\\\emp22.csv\")\n",
    "emp_csv=csv.reader(file)\n",
    "for emp_list in emp_csv:\n",
    "    print(emp_list[1],emp_list[5])"
   ]
  },
  {
   "cell_type": "code",
   "execution_count": 28,
   "metadata": {},
   "outputs": [
    {
     "name": "stdout",
     "output_type": "stream",
     "text": [
      "이름을 입력하세요scott\n",
      "SCOTT 3000\n"
     ]
    }
   ],
   "source": [
    "#Q.사원 이름을 입력받고 대소문자에 상관없이 해당 사원의 이름, 월급을 출력하시오\n",
    "employee=input('이름을 입력하세요')\n",
    "import csv\n",
    "file=open(\"d:\\\\data\\\\emp22.csv\")\n",
    "emp_csv=csv.reader(file)\n",
    "for emp_list in emp_csv:\n",
    "    if emp_list[1].lower()==employee.lower():\n",
    "        print(emp_list[1], emp_list[5])"
   ]
  },
  {
   "cell_type": "code",
   "execution_count": 29,
   "metadata": {},
   "outputs": [
    {
     "name": "stdout",
     "output_type": "stream",
     "text": [
      "98\n"
     ]
    }
   ],
   "source": [
    "#Q.스티브잡스 연설문에서는 정관사 the가 몇번 나오는가?\n",
    "stev=open(\"d:\\\\data\\\\jobs.txt\",encoding='UTF8')\n",
    "stev2=stev.read().split()\n",
    "\n",
    "cnt=0\n",
    "for i in stev2:\n",
    "    if i.lower().strip()=='the': #양쪽에 공백이 있을지도 모르고 대소문자 구분없이 검색\n",
    "        cnt+=1\n",
    "print(cnt)"
   ]
  },
  {
   "cell_type": "code",
   "execution_count": 30,
   "metadata": {},
   "outputs": [
    {
     "name": "stdout",
     "output_type": "stream",
     "text": [
      "3\n"
     ]
    }
   ],
   "source": [
    "#문자열에서 특정 문자 개수 구하기\n",
    "txt='A lot of things occur each day. Today is beautiful day'\n",
    "print(txt.count('day')) #txt에서 day 단어의 건수를 확인 "
   ]
  },
  {
   "cell_type": "code",
   "execution_count": 32,
   "metadata": {},
   "outputs": [
    {
     "name": "stdout",
     "output_type": "stream",
     "text": [
      "22\n"
     ]
    }
   ],
   "source": [
    "#Q.안철수 연설문에서 '국민'이라는 단어가 몇번 나오는지 카운트하시오\n",
    "ahn=open(\"d:\\\\data\\\\ahn.txt\",encoding='UTF8')\n",
    "ahn2=ahn.read() #split 안하고 그냥 안철수 연설문을 읽어서 통째로 ahn2에 입력\n",
    "print(ahn2.count('국민')) #연설문 전체에서 '국민'이라는 단어가 몇개인지 출력"
   ]
  },
  {
   "cell_type": "code",
   "execution_count": 33,
   "metadata": {},
   "outputs": [
    {
     "data": {
      "image/png": "[encoded data removed]",
      "text/plain": [
       "<Figure size 432x288 with 1 Axes>"
      ]
     },
     "metadata": {
      "needs_background": "light"
     },
     "output_type": "display_data"
    }
   ],
   "source": [
    "#파이썬에서 막대 그래프 그리는 방법\n",
    "import matplotlib.pyplot as plt\n",
    "y_value=[21.6,23.6,45.8,77.0]\n",
    "x_index=[0,1,2,3]\n",
    "plt.bar(x_index, y_value,color='blue')\n",
    "plt.title('Coin Probability') #그래프 제목\n",
    "plt.xlabel('# of Coin Heads') #그래프 x축 라벨\n",
    "plt.ylabel('probability') #그래프 y축 라벨\n",
    "plt.show()"
   ]
  },
  {
   "cell_type": "code",
   "execution_count": 34,
   "metadata": {},
   "outputs": [
    {
     "data": {
      "image/png": "[encoded data removed]",
      "text/plain": [
       "<Figure size 432x288 with 1 Axes>"
      ]
     },
     "metadata": {
      "needs_background": "light"
     },
     "output_type": "display_data"
    }
   ],
   "source": [
    "#Q.동전을 10번 던져서 앞면이 나올 확률을 나타내는 막대 그래프를 시각화하시오\n",
    "def coin_prob(num):\n",
    "    import random\n",
    "    coin=['앞면','뒷면']\n",
    "    cnt=0\n",
    "    for k in range(1,10001):\n",
    "        a=[]\n",
    "        for i in range(1,11):\n",
    "            a.append(random.choice(coin))\n",
    "        if a.count('앞면')==num:\n",
    "            cnt+=1\n",
    "    return cnt/10000\n",
    "\n",
    "import matplotlib.pyplot as plt\n",
    "for j in range(0,11):\n",
    "    y_value=coin_prob(j)\n",
    "    x_index=j\n",
    "    plt.bar(x_index,y_value,color='magenta')\n",
    "plt.title('Coin Probability') #그래프 제목\n",
    "plt.xlabel('# of Coin Heads') #그래프 x축 라벨\n",
    "plt.ylabel('probability') #그래프 y축 라벨\n",
    "plt.show()"
   ]
  }
 ],
 "metadata": {
  "kernelspec": {
   "display_name": "Python 3",
   "language": "python",
   "name": "python3"
  },
  "language_info": {
   "codemirror_mode": {
    "name": "ipython",
    "version": 3
   },
   "file_extension": ".py",
   "mimetype": "text/x-python",
   "name": "python",
   "nbconvert_exporter": "python",
   "pygments_lexer": "ipython3",
   "version": "3.8.5"
  }
 },
 "nbformat": 4,
 "nbformat_minor": 4
}
