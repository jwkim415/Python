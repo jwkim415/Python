{
 "cells": [
  {
   "cell_type": "code",
   "execution_count": 1,
   "metadata": {},
   "outputs": [
    {
     "name": "stdout",
     "output_type": "stream",
     "text": [
      "[50, 21, 60, 52, 16, 25, 7]\n"
     ]
    }
   ],
   "source": [
    "def cacheProcess(cities,cacheSize):\n",
    "    city=[i.upper() for i in cities]\n",
    "    \n",
    "    #check cache size\n",
    "    if cacheSize>30:\n",
    "        print('CacheSize must be less than 30')\n",
    "    \n",
    "    #check City character length\n",
    "    city_length=[print('City must be less than 20 characters') for i in cities if len(i)>20]\n",
    "    \n",
    "    #cache memory\n",
    "    cache=[None for i in range(cacheSize)]\n",
    "    \n",
    "    #check whether the city is in cache memory, count processing time\n",
    "    cnt=0\n",
    "    for i in range(len(city)):\n",
    "        if city[i] in cache:\n",
    "            cnt+=1 #count time\n",
    "        else:\n",
    "            cnt+=5\n",
    "            cache.append(city[i]) #if the city is not in cache memory, append it\n",
    "            del cache[0] #and delete first element in cache\n",
    "    return cnt   \n",
    "\n",
    "check = []\n",
    "a = cacheProcess([\"Jeju\", \"Pangyo\", \"Seoul\", \"NewYork\", \"LA\", \"Jeju\", \"Pangyo\", \"Seoul\", \"NewYork\", \"LA\"],3)\n",
    "check.append(a)\n",
    "a = cacheProcess([\"Jeju\", \"Pangyo\", \"Seoul\", \"Jeju\", \"Pangyo\", \"Seoul\", \"Jeju\", \"Pangyo\", \"Seoul\"],3)\n",
    "check.append(a)\n",
    "a = cacheProcess([\"Jeju\",\"Pangyo\",\"Seoul\",\"NewYork\",\"LA\",\"SanFrancisco\",\"Seoul\",\"Rome\",\"Paris\",\"Jeju\",\"NewYork\",\"Rome\"],2)\n",
    "check.append(a)\n",
    "a = cacheProcess([\"Jeju\",\"Pangyo\",\"Seoul\",\"NewYork\",\"LA\",\"SanFrancisco\",\"Seoul\",\"Rome\",\"Paris\",\"Jeju\",\"NewYork\",\"Rome\"],5)\n",
    "check.append(a)\n",
    "a = cacheProcess([\"Jeju\",\"Pangyo\",'NewYork','newyork'],2)\n",
    "check.append(a)\n",
    "a = cacheProcess([\"Jeju\",\"Pangyo\",\"Seoul\",\"NewYork\",\"LA\"],0)\n",
    "check.append(a)\n",
    "a = cacheProcess(['Jeju', 'Jeju','Jeju'],3)\n",
    "check.append(a)\n",
    "\n",
    "print(check)\n",
    "correct = [50,21,60,52,16,25,7] #the result should be this\n",
    "\n",
    "for i in range(len(check)) :\n",
    "    if check[i] != correct[i] :\n",
    "        print(\"%i번째 경우가 틀립니다.\"%i)"
   ]
  }
 ],
 "metadata": {
  "kernelspec": {
   "display_name": "Python 3",
   "language": "python",
   "name": "python3"
  },
  "language_info": {
   "codemirror_mode": {
    "name": "ipython",
    "version": 3
   },
   "file_extension": ".py",
   "mimetype": "text/x-python",
   "name": "python",
   "nbconvert_exporter": "python",
   "pygments_lexer": "ipython3",
   "version": "3.8.5"
  }
 },
 "nbformat": 4,
 "nbformat_minor": 4
}
