{
 "cells": [
  {
   "cell_type": "code",
   "execution_count": 2,
   "metadata": {},
   "outputs": [
    {
     "name": "stdout",
     "output_type": "stream",
     "text": [
      "['1.png', '10.png', '11.png', '12.png', '13.png', '14.png', '15.png', '16.png', '17.png', '18.png', '19.png', '2.png', '20.png', '3.png', '4.png', '5.png', '6.png', '7.png', '8.png', '9.png']\n"
     ]
    }
   ],
   "source": [
    "#Q.lungimages라는 폴더에 있는 사진들을 불러옵니다.\n",
    "import os\n",
    "test_image='d:\\\\images'\n",
    "\n",
    "def image_load(path):\n",
    "    file_list=os.listdir(path) #해당 디렉토리의 파일명을 추출한다.\n",
    "    return file_list\n",
    "\n",
    "print(image_load(test_image))"
   ]
  },
  {
   "cell_type": "code",
   "execution_count": 3,
   "metadata": {},
   "outputs": [
    {
     "name": "stdout",
     "output_type": "stream",
     "text": [
      "['d:\\\\images\\\\1.png', 'd:\\\\images\\\\2.png', 'd:\\\\images\\\\3.png', 'd:\\\\images\\\\4.png', 'd:\\\\images\\\\5.png', 'd:\\\\images\\\\6.png', 'd:\\\\images\\\\7.png', 'd:\\\\images\\\\8.png', 'd:\\\\images\\\\9.png', 'd:\\\\images\\\\10.png', 'd:\\\\images\\\\11.png', 'd:\\\\images\\\\12.png', 'd:\\\\images\\\\13.png', 'd:\\\\images\\\\14.png', 'd:\\\\images\\\\15.png', 'd:\\\\images\\\\16.png', 'd:\\\\images\\\\17.png', 'd:\\\\images\\\\18.png', 'd:\\\\images\\\\19.png', 'd:\\\\images\\\\20.png']\n"
     ]
    }
   ],
   "source": [
    "import os\n",
    "import re #데이터 정제 전문 모듈\n",
    "\n",
    "test_image='d:\\\\images'\n",
    "\n",
    "def image_load(path):\n",
    "    file_list=os.listdir(path) #해당 디렉토리의 파일명을 추출한다.\n",
    "    file_name=[]\n",
    "    for i in file_list:\n",
    "        a=re.sub('[^0-9]','',i) #i의 값 중에서 숫자가 아닌것들은 싱글 두개('')를 붙인 것인 null로 변환해라\n",
    "        file_name.append(int(a)) #문자 -> 숫자\n",
    "        file_name.sort() #ascending하게 정렬\n",
    "        \n",
    "    file_res=[]\n",
    "    for j in file_name:\n",
    "        file_res.append('d:\\\\images\\\\'+str(j)+'.png')\n",
    "    return file_res\n",
    "        \n",
    "print(image_load(test_image))"
   ]
  },
  {
   "cell_type": "code",
   "execution_count": null,
   "metadata": {},
   "outputs": [],
   "source": [
    "#Q.이미지를 숫자로 변환하시오\n",
    "import os\n",
    "import re #데이터 정제 전문 모듈\n",
    "import cv2 #opencv 모듈 임포트\n",
    "\n",
    "test_image='d:\\\\images'\n",
    "\n",
    "def image_load(path):\n",
    "    file_list=os.listdir(path) #해당 디렉토리의 파일명을 추출한다.\n",
    "    file_name=[]\n",
    "    for i in file_list:\n",
    "        a=re.sub('[^0-9]','',i) #i의 값 중에서 숫자가 아닌것들은 싱글 두개('')를 붙인 것인 null로 변환해라\n",
    "        file_name.append(int(a)) #문자 -> 숫자\n",
    "        file_name.sort() #ascending하게 정렬\n",
    "        \n",
    "    file_res=[]\n",
    "    for j in file_name:\n",
    "        file_res.append('d:\\\\images\\\\'+str(j)+'.png')\n",
    "    \n",
    "\n",
    "    image=[]\n",
    "    for h in file_res:\n",
    "        img=cv2.imread(h) #이미지를 숫자로 변환하는 코드\n",
    "        image.append(img)\n",
    "    return image\n",
    "\n",
    "print(image_load(test_image))"
   ]
  },
  {
   "cell_type": "code",
   "execution_count": null,
   "metadata": {},
   "outputs": [],
   "source": [
    "#Q.위에서 출력한 숫자들을 numpy를 이용해서 행렬로 변경하시오\n",
    "import os\n",
    "import re #데이터 정제 전문 모듈\n",
    "import cv2 #opencv 모듈 임포트\n",
    "import numpy as np #행렬 연산으로 바꿔주는 모듈\n",
    "\n",
    "test_image='d:\\\\images'\n",
    "\n",
    "def image_load(path):\n",
    "    file_list=os.listdir(path) #해당 디렉토리의 파일명을 추출한다.\n",
    "    file_name=[]\n",
    "    for i in file_list:\n",
    "        a=re.sub('[^0-9]','',i) #i의 값 중에서 숫자가 아닌것들은 싱글 두개('')를 붙인 것인 null로 변환해라\n",
    "        file_name.append(int(a)) #문자 -> 숫자\n",
    "        file_name.sort() #ascending하게 정렬\n",
    "        \n",
    "    file_res=[]\n",
    "    for j in file_name:\n",
    "        file_res.append('d:\\\\images\\\\'+str(j)+'.png')\n",
    "    \n",
    "\n",
    "    image=[]\n",
    "    for h in file_res:\n",
    "        img=cv2.imread(h) #이미지를 숫자로 변환하는 코드\n",
    "        image.append(img)\n",
    "    return np.array(image,dtype=object)\n",
    "\n",
    "print(image_load(test_image))"
   ]
  },
  {
   "cell_type": "code",
   "execution_count": null,
   "metadata": {},
   "outputs": [],
   "source": [
    "#Q.Kaggle에서 개와 고양이 사진을 다운받아서 파일명을 출력하시오\n",
    "import os\n",
    "path=\"d:\\\\images\"\n",
    "\n",
    "def image_load2(path):\n",
    "    file_list=os.listdir(path)\n",
    "    file_name=[]\n",
    "    for i in file_list:\n",
    "        a=re.sub('[^0-9]','',i)\n",
    "        file_name.append(a)\n",
    "        file_name.sort()\n",
    "        \n",
    "    file_res=[]\n",
    "    for j in file_name:\n",
    "        file_res.append('d:\\\\images\\\\'+str(j)+'.png')\n",
    "    return file_res\n",
    "\n",
    "print(image_load2(path))"
   ]
  },
  {
   "cell_type": "code",
   "execution_count": null,
   "metadata": {},
   "outputs": [],
   "source": [
    "#Q.위의 개사진 이미지들을 opencv와 numpy를 이용해서 숫자로 변환하고 numpy array로 반환되게 하시오\n",
    "import os\n",
    "path=\"d:\\\\images\"\n",
    "\n",
    "def image_load2(path):\n",
    "    file_list=os.listdir(path)\n",
    "    file_name=[]\n",
    "    for i in file_list:\n",
    "        a=re.sub('[^0-9]','',i)\n",
    "        file_name.append(a)\n",
    "        file_name.sort()\n",
    "        \n",
    "    file_res=[]\n",
    "    for j in file_name:\n",
    "        file_res.append('d:\\\\images\\\\'+str(j)+'.png')\n",
    "\n",
    "    image=[]\n",
    "    for h in file_res:\n",
    "        img=cv2.imread(h)\n",
    "        image.append(img)\n",
    "    return np.array(image, dtype=object)\n",
    "\n",
    "print(image_load2(path))"
   ]
  },
  {
   "cell_type": "code",
   "execution_count": 5,
   "metadata": {},
   "outputs": [
    {
     "name": "stdout",
     "output_type": "stream",
     "text": [
      "[[3 2 4]\n",
      " [0 2 4]\n",
      " [4 0 3]]\n"
     ]
    }
   ],
   "source": [
    "#Q.두 행렬을 만들고 덧셈 연산을 하시오\n",
    "import numpy as np\n",
    "\n",
    "a=[[1,2,3],[0,1,2],[3,0,1]]\n",
    "b=[[2,0,1],[0,1,2],[1,0,2]]\n",
    "a2=np.array(a)\n",
    "b2=np.array(b)\n",
    "print(a2+b2)"
   ]
  },
  {
   "cell_type": "code",
   "execution_count": 6,
   "metadata": {},
   "outputs": [
    {
     "name": "stdout",
     "output_type": "stream",
     "text": [
      "[[2 0 3]\n",
      " [0 1 4]\n",
      " [3 0 2]]\n"
     ]
    }
   ],
   "source": [
    "#Q.두 행렬을 만들고 두 행렬의 원소들의 곱셈 연산을 하시오\n",
    "import numpy as np\n",
    "\n",
    "a=[[1,2,3],[0,1,2],[3,0,1]]\n",
    "b=[[2,0,1],[0,1,2],[1,0,2]]\n",
    "a2=np.array(a)\n",
    "b2=np.array(b)\n",
    "print(a2*b2)"
   ]
  },
  {
   "cell_type": "code",
   "execution_count": 7,
   "metadata": {},
   "outputs": [
    {
     "name": "stdout",
     "output_type": "stream",
     "text": [
      "15\n"
     ]
    }
   ],
   "source": [
    "#Q.위에서 원소들의 곱으로 출력된 3x3 행렬의 요소들을 모두 다 더하시오\n",
    "import numpy as np\n",
    "\n",
    "a=[[1,2,3],[0,1,2],[3,0,1]]\n",
    "b=[[2,0,1],[0,1,2],[1,0,2]]\n",
    "a2=np.array(a)\n",
    "b2=np.array(b)\n",
    "result=a2*b2\n",
    "print(np.sum(result)) #행렬 안의 원소들의 합 출력"
   ]
  },
  {
   "cell_type": "code",
   "execution_count": 8,
   "metadata": {},
   "outputs": [
    {
     "name": "stdout",
     "output_type": "stream",
     "text": [
      "[[1 2 3]\n",
      " [0 1 2]\n",
      " [3 0 1]]\n"
     ]
    }
   ],
   "source": [
    "#Q.4x4 행렬을 만들어서 좌상위 3x3 행렬만 출력하시오\n",
    "import numpy as np\n",
    "a=[[1,2,3,0],[0,1,2,3],[3,0,1,2],[2,3,0,1]]\n",
    "a2=np.array(a)\n",
    "print(a2[0:3,0:3]) #행을 0이상에서 3미만까지. 열을 0이상에서 3미만까지"
   ]
  },
  {
   "cell_type": "code",
   "execution_count": 9,
   "metadata": {},
   "outputs": [
    {
     "name": "stdout",
     "output_type": "stream",
     "text": [
      "[[2 3 0]\n",
      " [1 2 3]\n",
      " [0 1 2]]\n"
     ]
    }
   ],
   "source": [
    "#Q.4x4 행렬을 만들어서 우상위 3x3 행렬만 출력하시오\n",
    "import numpy as np\n",
    "a=[[1,2,3,0],[0,1,2,3],[3,0,1,2],[2,3,0,1]]\n",
    "a2=np.array(a)\n",
    "print(a2[0:3,1:4])"
   ]
  },
  {
   "cell_type": "code",
   "execution_count": 10,
   "metadata": {},
   "outputs": [
    {
     "name": "stdout",
     "output_type": "stream",
     "text": [
      "[[0 1 2]\n",
      " [3 0 1]\n",
      " [2 3 0]]\n"
     ]
    }
   ],
   "source": [
    "#Q.4x4 행렬을 만들어서 우하위 3x3 행렬만 출력하시오\n",
    "import numpy as np\n",
    "a=[[1,2,3,0],[0,1,2,3],[3,0,1,2],[2,3,0,1]]\n",
    "a2=np.array(a)\n",
    "print(a2[1:4,0:3])"
   ]
  },
  {
   "cell_type": "code",
   "execution_count": 11,
   "metadata": {},
   "outputs": [
    {
     "name": "stdout",
     "output_type": "stream",
     "text": [
      "[[1 2 3]\n",
      " [0 1 2]\n",
      " [3 0 1]]\n"
     ]
    }
   ],
   "source": [
    "#Q.4x4 행렬을 만들어서 좌하위 3x3 행렬만 출력하시오\n",
    "import numpy as np\n",
    "a=[[1,2,3,0],[0,1,2,3],[3,0,1,2],[2,3,0,1]]\n",
    "a2=np.array(a)\n",
    "print(a2[1:4,1:4])"
   ]
  },
  {
   "cell_type": "code",
   "execution_count": 12,
   "metadata": {},
   "outputs": [
    {
     "name": "stdout",
     "output_type": "stream",
     "text": [
      "[[1 2 3]\n",
      " [0 1 2]\n",
      " [3 0 1]]\n",
      "[[2 3 0]\n",
      " [1 2 3]\n",
      " [0 1 2]]\n",
      "[[0 1 2]\n",
      " [3 0 1]\n",
      " [2 3 0]]\n",
      "[[1 2 3]\n",
      " [0 1 2]\n",
      " [3 0 1]]\n"
     ]
    }
   ],
   "source": [
    "#Q.위의 4x4 행렬에서 지정된 4개의 영역의 숫자들을 for loop 문을 이용해서 모두 출력되게 하시오\n",
    "import numpy as np\n",
    "a=[[1,2,3,0],[0,1,2,3],[3,0,1,2],[2,3,0,1]]\n",
    "a2=np.array(a)\n",
    "\n",
    "for i in range(2):\n",
    "    for j in range(2):\n",
    "        print(a2[i:i+3,j:j+3])"
   ]
  },
  {
   "cell_type": "code",
   "execution_count": 13,
   "metadata": {},
   "outputs": [
    {
     "name": "stdout",
     "output_type": "stream",
     "text": [
      "[[ 2  6 12]\n",
      " [ 0  2  6]\n",
      " [ 6  0  1]]\n",
      "[[4 9 0]\n",
      " [1 4 9]\n",
      " [0 0 2]]\n",
      "[[0 3 8]\n",
      " [3 0 3]\n",
      " [4 0 0]]\n",
      "[[ 2  6 12]\n",
      " [ 0  2  6]\n",
      " [ 6  0  1]]\n"
     ]
    }
   ],
   "source": [
    "#Q.위에서 선택한 4개의 행렬(3x3)과 아래의 filter행렬(3x3) 과의 원소의 곱을 출력하시오\n",
    "import numpy as np\n",
    "a=[[1,2,3,0],[0,1,2,3],[3,0,1,2],[2,3,0,1]]\n",
    "a2=np.array(a)\n",
    "\n",
    "f=[[2,3,4],[1,2,3],[2,0,1]]\n",
    "filter=np.array(f)\n",
    "\n",
    "for i in range(2):\n",
    "    for j in range(2):\n",
    "        print((a2[i:i+3,j:j+3])*filter)"
   ]
  },
  {
   "cell_type": "code",
   "execution_count": 14,
   "metadata": {},
   "outputs": [
    {
     "name": "stdout",
     "output_type": "stream",
     "text": [
      "35\n",
      "29\n",
      "21\n",
      "35\n"
     ]
    }
   ],
   "source": [
    "#Q.위에서 출력된 3x3 행렬 4개에 대한 원소들의 합이 각각 출력되게 하시오\n",
    "import numpy as np\n",
    "a=[[1,2,3,0],[0,1,2,3],[3,0,1,2],[2,3,0,1]]\n",
    "a2=np.array(a)\n",
    "\n",
    "f=[[2,3,4],[1,2,3],[2,0,1]]\n",
    "filter=np.array(f)\n",
    "\n",
    "for i in range(2):\n",
    "    for j in range(2):\n",
    "        print(np.sum(a2[i:i+3,j:j+3]*filter))"
   ]
  },
  {
   "cell_type": "code",
   "execution_count": 15,
   "metadata": {},
   "outputs": [
    {
     "name": "stdout",
     "output_type": "stream",
     "text": [
      "[[35 29]\n",
      " [21 35]]\n"
     ]
    }
   ],
   "source": [
    "#Q.위에서 구한 원소들의 합으로만 구성된 행렬을 출력하시오\n",
    "import numpy as np\n",
    "a=[[1,2,3,0],[0,1,2,3],[3,0,1,2],[2,3,0,1]]\n",
    "a2=np.array(a)\n",
    "\n",
    "f=[[2,3,4],[1,2,3],[2,0,1]]\n",
    "filter=np.array(f)\n",
    "\n",
    "result=[]\n",
    "for i in range(2):\n",
    "    for j in range(2):\n",
    "        result.append(np.sum(a2[i:i+3,j:j+3]*filter))\n",
    "        \n",
    "result2=np.array(result).reshape(2,2) #numpy array의 2x2 행렬로 변경\n",
    "print(result2)"
   ]
  },
  {
   "cell_type": "code",
   "execution_count": 16,
   "metadata": {},
   "outputs": [
    {
     "name": "stdout",
     "output_type": "stream",
     "text": [
      "[[138 121]\n",
      " [169 113]]\n"
     ]
    }
   ],
   "source": [
    "#Q.5x5 행렬들의 리스트와 4x4행렬을 곱하시오 \n",
    "import numpy as np\n",
    "a=[[2,3,1,4,7],[3,1,6,4,3],[2,1,5,3,1],[6,2,4,1,2],[7,3,1,2,3]]\n",
    "a2=np.array(a)\n",
    "\n",
    "f=[[3,1,4,1],[2,3,3,4],[5,1,2,1],[6,1,3,4]]\n",
    "filter=np.array(f)\n",
    "\n",
    "result=[]\n",
    "for i in range(2):\n",
    "    for j in range(2):\n",
    "        result.append(np.sum(a2[i:i+4,j:j+4]*filter))\n",
    "        \n",
    "result2=np.array(result).reshape(2,2) #numpy array의 2x2 행렬로 변경\n",
    "print(result2)"
   ]
  },
  {
   "cell_type": "code",
   "execution_count": 17,
   "metadata": {},
   "outputs": [
    {
     "name": "stdout",
     "output_type": "stream",
     "text": [
      "숫자 3이 있습니다.\n"
     ]
    }
   ],
   "source": [
    "#Q.아래의 리스트에서 숫자 3이 있는지 순차 탐색으로 구현하시오. 있으면 '숫자 3이 있습니다'라는 메세지를 출력하시오\n",
    "a=[15,11,1,3,8]\n",
    "\n",
    "for i in a:\n",
    "    if 3==i:\n",
    "        print('숫자 3이 있습니다.')\n",
    "        break\n",
    "else:\n",
    "    print('숫자 3이 없습니다.')"
   ]
  },
  {
   "cell_type": "code",
   "execution_count": 18,
   "metadata": {},
   "outputs": [
    {
     "name": "stdout",
     "output_type": "stream",
     "text": [
      "검색할 숫자를 입력하세요3\n",
      "숫자 3이(가) 있습니다.\n"
     ]
    }
   ],
   "source": [
    "#Q.이번에는 숫자를 물어보게 하고 해당 숫자가 존재하는지 출력되게하시오\n",
    "num=input('검색할 숫자를 입력하세요')\n",
    "a=[15,11,1,3,8]\n",
    "\n",
    "for i in a:\n",
    "    if i==num:\n",
    "        print('숫자 {}이(가) 있습니다.'.format(num))\n",
    "        break\n",
    "else:\n",
    "    print('숫자 {}이(가) 있습니다.'.format(num))"
   ]
  }
 ],
 "metadata": {
  "kernelspec": {
   "display_name": "Python 3",
   "language": "python",
   "name": "python3"
  },
  "language_info": {
   "codemirror_mode": {
    "name": "ipython",
    "version": 3
   },
   "file_extension": ".py",
   "mimetype": "text/x-python",
   "name": "python",
   "nbconvert_exporter": "python",
   "pygments_lexer": "ipython3",
   "version": "3.8.5"
  }
 },
 "nbformat": 4,
 "nbformat_minor": 4
}
