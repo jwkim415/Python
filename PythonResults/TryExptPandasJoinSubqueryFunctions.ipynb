{
 "cells": [
  {
   "cell_type": "code",
   "execution_count": 1,
   "metadata": {},
   "outputs": [
    {
     "name": "stdout",
     "output_type": "stream",
     "text": [
      "분자의 숫자를 입력하시오10\n",
      "분모의 숫자를 입력하시오0\n",
      "0으로 나눌 수 없습니다.\n"
     ]
    }
   ],
   "source": [
    "#Q.try~except 구문을 이용하여 나누기 프로그램을 만드시오\n",
    "try:\n",
    "    x=int(input('분자의 숫자를 입력하시오'))\n",
    "    y=int(input('분모의 숫자를 입력하시오'))\n",
    "    print(x/y)\n",
    "except ZeroDivisionError: #분모에 0을 입력했을 때 수행\n",
    "    print('0으로 나눌 수 없습니다.') \n",
    "except: #except하고 아무것도 안쓰면 zerodivisionerror말고 다른 모든 에러는 여기서 수행\n",
    "    print('잘못된 값을 입력하셨습니다.')"
   ]
  },
  {
   "cell_type": "code",
   "execution_count": 2,
   "metadata": {},
   "outputs": [
    {
     "name": "stdout",
     "output_type": "stream",
     "text": [
      "숫자를 입력하세요5\n",
      "1\n",
      "2\n",
      "3\n",
      "4\n",
      "5\n"
     ]
    }
   ],
   "source": [
    "#Q.숫자를 물어보게하고 숫자를 입력하면 해당 숫자만큼 1부터 숫자가 출력되는 코드를 작성하시오\n",
    "num=int(input('숫자를 입력하세요'))\n",
    "for i in range(1,num+1):\n",
    "    print(i)"
   ]
  },
  {
   "cell_type": "code",
   "execution_count": 4,
   "metadata": {},
   "outputs": [
    {
     "name": "stdout",
     "output_type": "stream",
     "text": [
      "숫자를 입력하세요ㄴ\n",
      "잘못된 값을 입력하셨습니다.\n"
     ]
    }
   ],
   "source": [
    "#Q.위의 코드에 예외처리를 해서 문자를 입력하면 잘못된 값을 입력하셨습니다. 라고 메세지가 출력되게하시오\n",
    "try:\n",
    "    num=int(input('숫자를 입력하세요'))\n",
    "    for i in range(1,num+1):\n",
    "        print(i)\n",
    "except:\n",
    "    print('잘못된 값을 입력하셨습니다.')"
   ]
  },
  {
   "cell_type": "code",
   "execution_count": 5,
   "metadata": {},
   "outputs": [
    {
     "name": "stdout",
     "output_type": "stream",
     "text": [
      "숫자를 입력하세요ㅏ\n",
      "잘못된 값을 입력하셨습니다.\n",
      "invalid literal for int() with base 10: 'ㅏ'\n"
     ]
    }
   ],
   "source": [
    "#Q.에러가 난 이유가 함께 나오도록 코드를 작성하시오\n",
    "try:\n",
    "    num=int(input('숫자를 입력하세요'))\n",
    "    for i in range(1,num+1):\n",
    "        print(i)\n",
    "except Exception as e:\n",
    "    print('잘못된 값을 입력하셨습니다.')\n",
    "    print(e)\n",
    "    "
   ]
  },
  {
   "cell_type": "code",
   "execution_count": 6,
   "metadata": {},
   "outputs": [
    {
     "name": "stdout",
     "output_type": "stream",
     "text": [
      "이름을 입력하세요scott\n",
      "3000\n"
     ]
    }
   ],
   "source": [
    "#Q.판다스를 이용해서 데이터를 로드하고 이름을 물어보고 해당 값을 소문자로 입력해도 해당 사원의 월급이 출력되게하시오\n",
    "#불필요한 결과들 안나오고 월급만 출력되게하시오\n",
    "name=input('이름을 입력하세요')\n",
    "import pandas as pd\n",
    "emp=pd.read_csv(\"d:\\\\data\\\\emp3.csv\")\n",
    "result=emp['sal'] [emp['ename']==name.upper()].values[0]\n",
    "print(result)"
   ]
  },
  {
   "cell_type": "code",
   "execution_count": 7,
   "metadata": {},
   "outputs": [
    {
     "name": "stdout",
     "output_type": "stream",
     "text": [
      "이름을 입력하세요king\n"
     ]
    },
    {
     "ename": "Exception",
     "evalue": "해당 사원의 월급은 볼 수 없습니다.",
     "output_type": "error",
     "traceback": [
      "\u001b[1;31m---------------------------------------------------------------------------\u001b[0m",
      "\u001b[1;31mException\u001b[0m                                 Traceback (most recent call last)",
      "\u001b[1;32m<ipython-input-7-378b7d3bf54c>\u001b[0m in \u001b[0;36m<module>\u001b[1;34m\u001b[0m\n\u001b[0;32m      5\u001b[0m \u001b[0mresult\u001b[0m\u001b[1;33m=\u001b[0m\u001b[0memp\u001b[0m\u001b[1;33m[\u001b[0m\u001b[1;34m'sal'\u001b[0m\u001b[1;33m]\u001b[0m \u001b[1;33m[\u001b[0m\u001b[0memp\u001b[0m\u001b[1;33m[\u001b[0m\u001b[1;34m'ename'\u001b[0m\u001b[1;33m]\u001b[0m\u001b[1;33m==\u001b[0m\u001b[0mname\u001b[0m\u001b[1;33m.\u001b[0m\u001b[0mupper\u001b[0m\u001b[1;33m(\u001b[0m\u001b[1;33m)\u001b[0m\u001b[1;33m]\u001b[0m\u001b[1;33m.\u001b[0m\u001b[0mvalues\u001b[0m\u001b[1;33m[\u001b[0m\u001b[1;36m0\u001b[0m\u001b[1;33m]\u001b[0m \u001b[1;31m#조건을 sal에 1개만 주니까 출력할 컬럼에 sal만 작성\u001b[0m\u001b[1;33m\u001b[0m\u001b[1;33m\u001b[0m\u001b[0m\n\u001b[0;32m      6\u001b[0m \u001b[1;32mif\u001b[0m \u001b[0mresult\u001b[0m\u001b[1;33m>=\u001b[0m\u001b[1;36m3000\u001b[0m\u001b[1;33m:\u001b[0m\u001b[1;33m\u001b[0m\u001b[1;33m\u001b[0m\u001b[0m\n\u001b[1;32m----> 7\u001b[1;33m     \u001b[1;32mraise\u001b[0m \u001b[0mException\u001b[0m\u001b[1;33m(\u001b[0m\u001b[1;34m'해당 사원의 월급은 볼 수 없습니다.'\u001b[0m\u001b[1;33m)\u001b[0m \u001b[1;31m#해당하면 에러나면서 밑의 코드들 실행하지않고 끝내버림\u001b[0m\u001b[1;33m\u001b[0m\u001b[1;33m\u001b[0m\u001b[0m\n\u001b[0m\u001b[0;32m      8\u001b[0m \u001b[0mprint\u001b[0m\u001b[1;33m(\u001b[0m\u001b[0memp\u001b[0m\u001b[1;33m[\u001b[0m\u001b[1;33m[\u001b[0m\u001b[1;34m'ename'\u001b[0m\u001b[1;33m,\u001b[0m\u001b[1;34m'sal'\u001b[0m\u001b[1;33m]\u001b[0m\u001b[1;33m]\u001b[0m \u001b[1;33m[\u001b[0m\u001b[0memp\u001b[0m\u001b[1;33m[\u001b[0m\u001b[1;34m'ename'\u001b[0m\u001b[1;33m]\u001b[0m\u001b[1;33m==\u001b[0m\u001b[0mname\u001b[0m\u001b[1;33m.\u001b[0m\u001b[0mupper\u001b[0m\u001b[1;33m(\u001b[0m\u001b[1;33m)\u001b[0m\u001b[1;33m]\u001b[0m\u001b[1;33m)\u001b[0m \u001b[1;31m#출력은 ename, sal 둘 다 출력\u001b[0m\u001b[1;33m\u001b[0m\u001b[1;33m\u001b[0m\u001b[0m\n",
      "\u001b[1;31mException\u001b[0m: 해당 사원의 월급은 볼 수 없습니다."
     ]
    }
   ],
   "source": [
    "#Q.판다스를 이용해서 사원의 이름을 입력받고 월급이 3000이상인 사원들의 월급은 볼 수 없다는 메시지가 나오게 하시오\n",
    "name=input('이름을 입력하세요')\n",
    "import pandas as pd\n",
    "emp=pd.read_csv(\"d:\\\\data\\\\emp3.csv\")\n",
    "result=emp['sal'] [emp['ename']==name.upper()].values[0] #조건을 sal에 1개만 주니까 출력할 컬럼에 sal만 작성\n",
    "if result>=3000:\n",
    "    raise Exception('해당 사원의 월급은 볼 수 없습니다.') #해당하면 에러나면서 밑의 코드들 실행하지않고 끝내버림\n",
    "print(emp[['ename','sal']] [emp['ename']==name.upper()]) #출력은 ename, sal 둘 다 출력"
   ]
  },
  {
   "cell_type": "code",
   "execution_count": 8,
   "metadata": {},
   "outputs": [
    {
     "name": "stdout",
     "output_type": "stream",
     "text": [
      "이름을 입력하세요jack\n",
      "해당 사원은 없습니다.\n"
     ]
    }
   ],
   "source": [
    "#Q.없는 사원의 이름을 입력하면 해당 사원은 없습니다 라는 메세지가 출력되게하시오\n",
    "try:\n",
    "    name=input('이름을 입력하세요')\n",
    "    import pandas as pd\n",
    "    emp=pd.read_csv(\"d:\\\\data\\\\emp3.csv\")\n",
    "    result=emp['ename'][emp['ename']==name.upper()].values[0] #values[0]을 사용하면 컬럼이 아니라 값으로 출력이 되어서 result에 담기게 됨\n",
    "    print(emp[['ename','sal']] [emp['ename']==result]) #없는 사원이름을 입력하면 result에 담기지 않아서 검색이 안되어 LookupError예외처리가 됩니다.\n",
    "except LookupError:\n",
    "    print('해당 사원은 없습니다.')"
   ]
  },
  {
   "cell_type": "code",
   "execution_count": 9,
   "metadata": {},
   "outputs": [
    {
     "name": "stdout",
     "output_type": "stream",
     "text": [
      "직업을 입력하세요cook\n",
      "해당 직업은 사원 테이블에 없습니다.\n"
     ]
    }
   ],
   "source": [
    "#Q.직업을 물어보고 해당 사원의 이름,직업,월급을 출력하는데 없는 직업을 입력하면 해당 직업은 사원테이블에 없습니다.\n",
    "#라는 메세지가 출력되게 하시오\n",
    "try:\n",
    "    job=input('직업을 입력하세요')\n",
    "    import pandas as pd\n",
    "    emp=pd.read_csv(\"d:\\\\data\\\\emp3.csv\")\n",
    "    result=emp['job'][emp['job']==job.upper()].values[0] #values[0]을 사용하면 컬럼이 아니라 값으로 출력이 되어서 result에 담기게 됨\n",
    "    print(emp[['ename','job','sal']] [emp['job']==result]) #없는 사원이름을 입력하면 result에 담기지 않아서 검색이 안되어 LookupError예외처리가 됩니다.\n",
    "except LookupError:\n",
    "    print('해당 직업은 사원 테이블에 없습니다.')"
   ]
  },
  {
   "cell_type": "code",
   "execution_count": null,
   "metadata": {},
   "outputs": [],
   "source": [
    "#자료형 이해하기\n",
    "numdata=57\n",
    "print(type(numdata)) #<class 'int'>\n",
    "\n",
    "numdata2=57.2\n",
    "print(type(numdata2)) #<class 'float'>\n",
    "\n",
    "a=[1,2,3,4]\n",
    "print(type(a)) #<class 'list'>\n",
    "\n",
    "a = {'apple':'사과', 'banana':'바나나', 'peach':'복숭아', 'pear':'배'}\n",
    "print(type(a)) #<class 'dict'>"
   ]
  },
  {
   "cell_type": "code",
   "execution_count": 10,
   "metadata": {},
   "outputs": [
    {
     "name": "stdout",
     "output_type": "stream",
     "text": [
      "첫번째 숫자를 입력하세요1113\n",
      "두번째 숫자를 입력하세요29\n",
      "1113을 29으로 나누면 11가 나머지로 남습니다.\n"
     ]
    }
   ],
   "source": [
    "#Q.두개의 숫자를 각각 물어보게하고 아래의 메세지가 출력되게 하시오\n",
    "num1=int(input('첫번째 숫자를 입력하세요'))\n",
    "num2=int(input('두번째 숫자를 입력하세요'))\n",
    "result=num1%num2\n",
    "print('{}을 {}으로 나누면 {}가 나머지로 남습니다.'.format(num1,num2,result))"
   ]
  },
  {
   "cell_type": "code",
   "execution_count": 11,
   "metadata": {},
   "outputs": [
    {
     "name": "stdout",
     "output_type": "stream",
     "text": [
      "첫번째 숫자를 입력하세요1113\n",
      "두번째 숫자를 입력하세요0\n",
      "0으로 나눌 수 없습니다.\n"
     ]
    }
   ],
   "source": [
    "#Q.위의 나누기를 다시 하는데 몫과 나머지를 함께 출력되게 하시오. 0을 입력하면 0으로는 나눌 수 없다고 출력되게하시오\n",
    "try:\n",
    "    num1=int(input('첫번째 숫자를 입력하세요'))\n",
    "    num2=int(input('두번째 숫자를 입력하세요'))\n",
    "    result1,result2=divmod(num1,num2)\n",
    "    print('{}을 {}으로 나눈 몫은 {}이고 나머지는 {}입니다.'.format(num1,num2,result1,result2))\n",
    "except ZeroDivisionError: #분모에 0을 입력했을 때 수행\n",
    "    print('0으로 나눌 수 없습니다.') "
   ]
  },
  {
   "cell_type": "code",
   "execution_count": 12,
   "metadata": {},
   "outputs": [
    {
     "name": "stdout",
     "output_type": "stream",
     "text": [
      "   deptno       dname       loc\n",
      "0      10  ACCOUNTING  NEW YORK\n",
      "1      20    RESEARCH    DALLAS\n",
      "2      30       SALES   CHICAGO\n",
      "3      40  OPERATIONS    BOSTON\n"
     ]
    }
   ],
   "source": [
    "#Q.dept3 테이블을 판다스로 로드하시오\n",
    "import pandas as pd\n",
    "dept=pd.read_csv(\"d:\\\\data\\\\dept3.csv\")\n",
    "print(dept)"
   ]
  },
  {
   "cell_type": "code",
   "execution_count": 13,
   "metadata": {},
   "outputs": [
    {
     "name": "stdout",
     "output_type": "stream",
     "text": [
      "   deptno     dname\n",
      "1      20  RESEARCH\n"
     ]
    }
   ],
   "source": [
    "#Q.부서위치가 DALLAS의 부서번호와 부서명을 출력하시오\n",
    "import pandas as pd\n",
    "dept=pd.read_csv(\"d:\\\\data\\\\dept3.csv\")\n",
    "print(dept[['deptno','dname']][dept['loc']=='DALLAS'])"
   ]
  },
  {
   "cell_type": "code",
   "execution_count": 14,
   "metadata": {},
   "outputs": [
    {
     "name": "stdout",
     "output_type": "stream",
     "text": [
      "    index  empno   ename        job     mgr         hiredate   sal    comm  \\\n",
      "0       1   7839    KING  PRESIDENT     NaN  1981-11-17 0:00  5000     NaN   \n",
      "1       3   7782   CLARK    MANAGER  7839.0  1981-05-09 0:00  2450     NaN   \n",
      "2      14   7934  MILLER      CLERK  7782.0  1982-01-11 0:00  1300     NaN   \n",
      "3       2   7698   BLAKE    MANAGER  7839.0  1981-05-01 0:00  2850     NaN   \n",
      "4       5   7654  MARTIN   SALESMAN  7698.0  1981-09-10 0:00  1250  1400.0   \n",
      "5       6   7499   ALLEN   SALESMAN  7698.0  1981-02-11 0:00  1600   300.0   \n",
      "6       7   7844  TURNER   SALESMAN  7698.0  1981-08-21 0:00  1500     0.0   \n",
      "7       8   7900   JAMES      CLERK  7698.0  1981-12-11 0:00   950     NaN   \n",
      "8       9   7521    WARD   SALESMAN  7698.0  1981-02-23 0:00  1250   500.0   \n",
      "9       4   7566   JONES    MANAGER  7839.0  1981-04-01 0:00  2975     NaN   \n",
      "10     10   7902    FORD    ANALYST  7566.0  1981-12-11 0:00  3000     NaN   \n",
      "11     11   7369   SMITH      CLERK  7902.0  1980-12-09 0:00   800     NaN   \n",
      "12     12   7788   SCOTT    ANALYST  7566.0  1982-12-22 0:00  3000     NaN   \n",
      "13     13   7876   ADAMS      CLERK  7788.0  1983-01-15 0:00  1100     NaN   \n",
      "\n",
      "    deptno       dname       loc  \n",
      "0       10  ACCOUNTING  NEW YORK  \n",
      "1       10  ACCOUNTING  NEW YORK  \n",
      "2       10  ACCOUNTING  NEW YORK  \n",
      "3       30       SALES   CHICAGO  \n",
      "4       30       SALES   CHICAGO  \n",
      "5       30       SALES   CHICAGO  \n",
      "6       30       SALES   CHICAGO  \n",
      "7       30       SALES   CHICAGO  \n",
      "8       30       SALES   CHICAGO  \n",
      "9       20    RESEARCH    DALLAS  \n",
      "10      20    RESEARCH    DALLAS  \n",
      "11      20    RESEARCH    DALLAS  \n",
      "12      20    RESEARCH    DALLAS  \n",
      "13      20    RESEARCH    DALLAS  \n",
      "     ename       loc\n",
      "0     KING  NEW YORK\n",
      "1    CLARK  NEW YORK\n",
      "2   MILLER  NEW YORK\n",
      "3    BLAKE   CHICAGO\n",
      "4   MARTIN   CHICAGO\n",
      "5    ALLEN   CHICAGO\n",
      "6   TURNER   CHICAGO\n",
      "7    JAMES   CHICAGO\n",
      "8     WARD   CHICAGO\n",
      "9    JONES    DALLAS\n",
      "10    FORD    DALLAS\n",
      "11   SMITH    DALLAS\n",
      "12   SCOTT    DALLAS\n",
      "13   ADAMS    DALLAS\n"
     ]
    }
   ],
   "source": [
    "#emp3.csv와 dept3.csv 조인하여 이름, 부서위치를 출력하기\n",
    "import pandas as pd\n",
    "emp=pd.read_csv(\"d:\\\\data\\\\emp3.csv\")\n",
    "dept=pd.read_csv(\"d:\\\\data\\\\dept3.csv\")\n",
    "result=pd.merge(emp, dept, on='deptno' )\n",
    "print(result)\n",
    "print(result[['ename', 'loc' ]])"
   ]
  },
  {
   "cell_type": "code",
   "execution_count": 15,
   "metadata": {},
   "outputs": [
    {
     "name": "stdout",
     "output_type": "stream",
     "text": [
      "    ename     loc\n",
      "9   JONES  DALLAS\n",
      "10   FORD  DALLAS\n",
      "11  SMITH  DALLAS\n",
      "12  SCOTT  DALLAS\n",
      "13  ADAMS  DALLAS\n"
     ]
    }
   ],
   "source": [
    "#Q.DALLAS에서 근무하는 사원들의 이름과 부서위치를 출력하시오\n",
    "import pandas as pd\n",
    "emp=pd.read_csv(\"d:\\\\data\\\\emp3.csv\")\n",
    "dept=pd.read_csv(\"d:\\\\data\\\\dept3.csv\")\n",
    "result=pd.merge(emp,dept,on='deptno')\n",
    "print(result[['ename', 'loc' ]] [result['loc']=='DALLAS'])"
   ]
  },
  {
   "cell_type": "code",
   "execution_count": 16,
   "metadata": {},
   "outputs": [
    {
     "name": "stdout",
     "output_type": "stream",
     "text": [
      "    ename   sal     loc\n",
      "10   FORD  3000  DALLAS\n",
      "12  SCOTT  3000  DALLAS\n"
     ]
    }
   ],
   "source": [
    "#Q.월급이 3000이상인 사원들의 이름, 월급, 부서위치를 출력하시오\n",
    "import pandas as pd\n",
    "emp=pd.read_csv(\"d:\\\\data\\\\emp3.csv\")\n",
    "dept=pd.read_csv(\"d:\\\\data\\\\dept3.csv\")\n",
    "result=pd.merge(emp,dept,on='deptno')\n",
    "print(result[['ename','sal','loc']] [result['sal']==3000])"
   ]
  },
  {
   "cell_type": "code",
   "execution_count": 17,
   "metadata": {},
   "outputs": [
    {
     "name": "stdout",
     "output_type": "stream",
     "text": [
      "     ename       loc  deptno\n",
      "0     KING  NEW YORK      10\n",
      "1    CLARK  NEW YORK      10\n",
      "2   MILLER  NEW YORK      10\n",
      "9    JONES    DALLAS      20\n",
      "10    FORD    DALLAS      20\n",
      "11   SMITH    DALLAS      20\n",
      "12   SCOTT    DALLAS      20\n",
      "13   ADAMS    DALLAS      20\n"
     ]
    }
   ],
   "source": [
    "#Q.부서번호가 10번, 20번인 사원들의 이름, 부서위치, 부서번호를 출력하시오\n",
    "import pandas as pd\n",
    "emp=pd.read_csv(\"d:\\\\data\\\\emp3.csv\")\n",
    "dept=pd.read_csv(\"d:\\\\data\\\\dept3.csv\")\n",
    "result=pd.merge(emp,dept,on='deptno')\n",
    "print(result[['ename','loc','deptno']] [result['deptno'].isin([10,20])])"
   ]
  },
  {
   "cell_type": "code",
   "execution_count": 18,
   "metadata": {},
   "outputs": [
    {
     "name": "stdout",
     "output_type": "stream",
     "text": [
      "     ename   sal       loc\n",
      "1    CLARK  2450  NEW YORK\n",
      "2   MILLER  1300  NEW YORK\n",
      "3    BLAKE  2850   CHICAGO\n",
      "4   MARTIN  1250   CHICAGO\n",
      "5    ALLEN  1600   CHICAGO\n",
      "6   TURNER  1500   CHICAGO\n",
      "8     WARD  1250   CHICAGO\n",
      "9    JONES  2975    DALLAS\n",
      "10    FORD  3000    DALLAS\n",
      "12   SCOTT  3000    DALLAS\n",
      "13   ADAMS  1100    DALLAS\n"
     ]
    }
   ],
   "source": [
    "#Q.월급이 1000애서 3000사이인 사원들의 이름, 월급, 부서위치를 출력하시오\n",
    "import pandas as pd\n",
    "emp=pd.read_csv(\"d:\\\\data\\\\emp3.csv\")\n",
    "dept=pd.read_csv(\"d:\\\\data\\\\dept3.csv\")\n",
    "result=pd.merge(emp,dept,on='deptno')\n",
    "print(result[['ename','sal','loc']] [result['sal'].between(1000,3000) ])"
   ]
  },
  {
   "cell_type": "code",
   "execution_count": 19,
   "metadata": {},
   "outputs": [
    {
     "name": "stdout",
     "output_type": "stream",
     "text": [
      "     ename   sal       loc\n",
      "10    FORD  3000    DALLAS\n",
      "12   SCOTT  3000    DALLAS\n",
      "9    JONES  2975    DALLAS\n",
      "3    BLAKE  2850   CHICAGO\n",
      "1    CLARK  2450  NEW YORK\n",
      "5    ALLEN  1600   CHICAGO\n",
      "6   TURNER  1500   CHICAGO\n",
      "2   MILLER  1300  NEW YORK\n",
      "4   MARTIN  1250   CHICAGO\n",
      "8     WARD  1250   CHICAGO\n",
      "13   ADAMS  1100    DALLAS\n"
     ]
    }
   ],
   "source": [
    "#위의 결과를 월급이 높은순부터 낮은순으로 정렬하시오\n",
    "import pandas as pd\n",
    "emp=pd.read_csv(\"d:\\\\data\\\\emp3.csv\")\n",
    "dept=pd.read_csv(\"d:\\\\data\\\\dept3.csv\")\n",
    "result=pd.merge(emp,dept,on='deptno')\n",
    "result1=result[['ename','sal','loc']] [result['sal'].between(1000,3000) ]\n",
    "print(result1.sort_values('sal',ascending=False))"
   ]
  },
  {
   "cell_type": "code",
   "execution_count": 20,
   "metadata": {},
   "outputs": [
    {
     "name": "stdout",
     "output_type": "stream",
     "text": [
      "     ename       loc\n",
      "0     KING  NEW YORK\n",
      "1    CLARK  NEW YORK\n",
      "2   MILLER  NEW YORK\n",
      "3    JONES    DALLAS\n",
      "4     FORD    DALLAS\n",
      "5    SMITH    DALLAS\n",
      "6    SCOTT    DALLAS\n",
      "7    ADAMS    DALLAS\n",
      "8    BLAKE   CHICAGO\n",
      "9   MARTIN   CHICAGO\n",
      "10   ALLEN   CHICAGO\n",
      "11  TURNER   CHICAGO\n",
      "12   JAMES   CHICAGO\n",
      "13    WARD   CHICAGO\n",
      "14     NaN    BOSTON\n"
     ]
    }
   ],
   "source": [
    "#Q.아래의 SQL을 Pandas로 구현하시오\n",
    "import pandas as pd\n",
    "emp=pd.read_csv(\"d:\\\\data\\\\emp3.csv\")\n",
    "dept=pd.read_csv(\"d:\\\\data\\\\dept3.csv\")\n",
    "result=pd.merge(emp,dept,how='right')\n",
    "print(result[['ename','loc']])"
   ]
  },
  {
   "cell_type": "code",
   "execution_count": 21,
   "metadata": {},
   "outputs": [
    {
     "name": "stdout",
     "output_type": "stream",
     "text": [
      "     ename       loc\n",
      "0     KING  NEW YORK\n",
      "1    CLARK  NEW YORK\n",
      "2   MILLER  NEW YORK\n",
      "3    BLAKE   CHICAGO\n",
      "4   MARTIN   CHICAGO\n",
      "5    ALLEN   CHICAGO\n",
      "6   TURNER   CHICAGO\n",
      "7    JAMES   CHICAGO\n",
      "8     WARD   CHICAGO\n",
      "9    JONES    DALLAS\n",
      "10    FORD    DALLAS\n",
      "11   SMITH    DALLAS\n",
      "12   SCOTT    DALLAS\n",
      "13   ADAMS    DALLAS\n",
      "14     NaN    BOSTON\n"
     ]
    }
   ],
   "source": [
    "#아래의 SQL을 Pandas로 구현하시오\n",
    "import pandas as pd\n",
    "emp=pd.read_csv(\"d:\\\\data\\\\emp3.csv\")\n",
    "dept=pd.read_csv(\"d:\\\\data\\\\dept3.csv\")\n",
    "result=pd.merge(emp,dept,how='outer')\n",
    "print(result[['ename','loc']])"
   ]
  },
  {
   "cell_type": "code",
   "execution_count": 22,
   "metadata": {},
   "outputs": [
    {
     "name": "stdout",
     "output_type": "stream",
     "text": [
      "    ename   sal\n",
      "0    KING  5000\n",
      "9    FORD  3000\n",
      "11  SCOTT  3000\n"
     ]
    }
   ],
   "source": [
    "#다음의 SQL을 Pandas로 구현하시오\n",
    "#select ename, sal from emp where sal>(select sal from emp where ename='JONES')\n",
    "import pandas as pd\n",
    "emp=pd.read_csv(\"d:\\\\data\\\\emp3.csv\")\n",
    "dept=pd.read_csv(\"d:\\\\data\\\\dept3.csv\")\n",
    "jsal=emp['sal'][emp['ename']=='JONES'].values[0] #values를 붙여줘야 컬럼이 아닌 하나의 값이 jsal에 담긴다\n",
    "print(emp[['ename','sal']] [emp['sal']>jsal])"
   ]
  },
  {
   "cell_type": "code",
   "execution_count": 23,
   "metadata": {},
   "outputs": [
    {
     "name": "stdout",
     "output_type": "stream",
     "text": [
      "    ename   sal\n",
      "9    FORD  3000\n",
      "11  SCOTT  3000\n"
     ]
    }
   ],
   "source": [
    "#Q.아래의 서브쿼리를 Pandas로 구현하시오\n",
    "#select ename, sal, from emp where job=(select job from emp where ename='SCOTT');\n",
    "import pandas as pd\n",
    "emp=pd.read_csv(\"d:\\\\data\\\\emp3.csv\")\n",
    "dept=pd.read_csv(\"d:\\\\data\\\\dept3.csv\")\n",
    "jsal=emp['job'][emp['ename']=='SCOTT'].values[0] \n",
    "print(emp[['ename','sal']] [emp['job']==jsal])"
   ]
  },
  {
   "cell_type": "code",
   "execution_count": 24,
   "metadata": {},
   "outputs": [
    {
     "name": "stdout",
     "output_type": "stream",
     "text": [
      "    ename   sal\n",
      "11  SCOTT  3000\n"
     ]
    }
   ],
   "source": [
    "#Q.아래의 서브쿼리를 Pandas로 구현하시오\n",
    "#select ename, sal, from emp where job=(select job from emp where ename='SCOTT') and ename!='SCOTT';\n",
    "import pandas as pd\n",
    "emp=pd.read_csv(\"d:\\\\data\\\\emp3.csv\")\n",
    "dept=pd.read_csv(\"d:\\\\data\\\\dept3.csv\")\n",
    "jsal=emp['job'][emp['ename']=='SCOTT'].values[0] \n",
    "print(emp[['ename','sal']] [(emp['job']==jsal) & (emp['ename']=='SCOTT')])"
   ]
  },
  {
   "cell_type": "code",
   "execution_count": 25,
   "metadata": {},
   "outputs": [
    {
     "name": "stdout",
     "output_type": "stream",
     "text": [
      "3000\n"
     ]
    }
   ],
   "source": [
    "#아래의 SQL을 판다스로 구현하시오\n",
    "#select max(sal) from emp where deptno=20;\n",
    "import pandas as pd\n",
    "emp=pd.read_csv(\"d:\\\\data\\\\emp3.csv\")\n",
    "print(emp['sal'] [emp['deptno']==20].max())"
   ]
  },
  {
   "cell_type": "code",
   "execution_count": 26,
   "metadata": {},
   "outputs": [
    {
     "name": "stdout",
     "output_type": "stream",
     "text": [
      "1250\n"
     ]
    }
   ],
   "source": [
    "#아래의 SQL을 판다스로 구현하시오\n",
    "#select min(sal) from emp where job='SALESMAN';\n",
    "import pandas as pd\n",
    "emp=pd.read_csv(\"d:\\\\data\\\\emp3.csv\")\n",
    "print(emp['sal'] [emp['job']=='SALESMAN'].min())"
   ]
  },
  {
   "cell_type": "code",
   "execution_count": 27,
   "metadata": {},
   "outputs": [
    {
     "name": "stdout",
     "output_type": "stream",
     "text": [
      "24\n"
     ]
    }
   ],
   "source": [
    "#Q.emp12.csv를 판다스 데이터 프레임으로 만들어서 출력하고 우리반에서 최소 나이를 출력하시오\n",
    "import pandas as pd\n",
    "emp12=pd.read_csv(\"d:\\\\data\\\\emp12.csv\")\n",
    "print(emp12['AGE'].min())"
   ]
  },
  {
   "cell_type": "code",
   "execution_count": 28,
   "metadata": {},
   "outputs": [
    {
     "name": "stdout",
     "output_type": "stream",
     "text": [
      "         job   sal\n",
      "0    ANALYST  3000\n",
      "1      CLERK  1300\n",
      "2    MANAGER  2975\n",
      "3  PRESIDENT  5000\n",
      "4   SALESMAN  1600\n"
     ]
    }
   ],
   "source": [
    "#Q.아래의 SQL을 판다스로 구현하시오\n",
    "#select max(sal) from emp group by job;\n",
    "import pandas as pd\n",
    "emp=pd.read_csv(\"d:\\\\data\\\\emp3.csv\")\n",
    "result=emp.groupby('job')['sal'].max().reset_index()\n",
    "print(result)"
   ]
  },
  {
   "cell_type": "code",
   "execution_count": 29,
   "metadata": {},
   "outputs": [
    {
     "name": "stdout",
     "output_type": "stream",
     "text": [
      "   deptno    sal\n",
      "0      10   8750\n",
      "1      20  10875\n",
      "2      30   9400\n"
     ]
    }
   ],
   "source": [
    "#Q.다음의 SQL을 판다스로 구현하시오\n",
    "#select deptno, sum(sal) from emp group by deptno;\n",
    "import pandas as pd\n",
    "emp=pd.read_csv(\"d:\\\\data\\\\emp3.csv\")\n",
    "result=emp.groupby('deptno')['sal'].sum().reset_index()\n",
    "print(result)"
   ]
  },
  {
   "cell_type": "code",
   "execution_count": 30,
   "metadata": {},
   "outputs": [
    {
     "name": "stdout",
     "output_type": "stream",
     "text": [
      "   deptno   sal\n",
      "0      10  8750\n",
      "2      30  9400\n"
     ]
    }
   ],
   "source": [
    "#Q.다음의 SQL을 판다스로 구현하시오\n",
    "#select deptno, sum(sal) from emp where deptno!=20 group by deptno;\n",
    "import pandas as pd\n",
    "emp=pd.read_csv(\"d:\\\\data\\\\emp3.csv\")\n",
    "result=emp.groupby('deptno')['sal'].sum().reset_index()\n",
    "print(result[['deptno','sal']][result['deptno']!=20])"
   ]
  },
  {
   "cell_type": "code",
   "execution_count": 31,
   "metadata": {},
   "outputs": [
    {
     "name": "stdout",
     "output_type": "stream",
     "text": [
      "동전을 10번 던져서 0개 앞면이 나올 확률 0.0005\n",
      "동전을 10번 던져서 1개 앞면이 나올 확률 0.0097\n",
      "동전을 10번 던져서 2개 앞면이 나올 확률 0.0454\n",
      "동전을 10번 던져서 3개 앞면이 나올 확률 0.1172\n",
      "동전을 10번 던져서 4개 앞면이 나올 확률 0.2049\n",
      "동전을 10번 던져서 5개 앞면이 나올 확률 0.2411\n",
      "동전을 10번 던져서 6개 앞면이 나올 확률 0.2062\n",
      "동전을 10번 던져서 7개 앞면이 나올 확률 0.117\n",
      "동전을 10번 던져서 8개 앞면이 나올 확률 0.0448\n",
      "동전을 10번 던져서 9개 앞면이 나올 확률 0.0108\n",
      "동전을 10번 던져서 10개 앞면이 나올 확률 0.0002\n"
     ]
    }
   ],
   "source": [
    "#Q.동전을 10번 던져서 0~10개의 앞면이 나올 확률을 한번에 출력하시오\n",
    "def coin_prob(num):\n",
    "    import random\n",
    "    coin=['앞면','뒷면']\n",
    "    cnt=0\n",
    "    for k in range(1,10001):\n",
    "        a=[]\n",
    "        for i in range(1,11):\n",
    "            a.append(random.choice(coin))\n",
    "        if a.count('앞면')==num:\n",
    "            cnt+=1\n",
    "    return cnt/10000\n",
    "\n",
    "for i in range(0,11):\t\t        \n",
    "    print(\"동전을 10번 던져서 {}개 앞면이 나올 확률 {}\" .format(i,coin_prob(i)))"
   ]
  }
 ],
 "metadata": {
  "kernelspec": {
   "display_name": "Python 3",
   "language": "python",
   "name": "python3"
  },
  "language_info": {
   "codemirror_mode": {
    "name": "ipython",
    "version": 3
   },
   "file_extension": ".py",
   "mimetype": "text/x-python",
   "name": "python",
   "nbconvert_exporter": "python",
   "pygments_lexer": "ipython3",
   "version": "3.8.5"
  }
 },
 "nbformat": 4,
 "nbformat_minor": 4
}
