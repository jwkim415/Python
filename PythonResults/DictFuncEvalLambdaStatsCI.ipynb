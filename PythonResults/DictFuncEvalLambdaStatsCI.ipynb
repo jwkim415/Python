{
 "cells": [
  {
   "cell_type": "code",
   "execution_count": 1,
   "metadata": {},
   "outputs": [
    {
     "name": "stdout",
     "output_type": "stream",
     "text": [
      "38\n"
     ]
    }
   ],
   "source": [
    "#Q.아래의 리스트의 짝수번째 요소의 합을 출력하시오\n",
    "listdata=[2,2,1,3,8,4,3,9,2,20]\n",
    "result=sum(listdata[1::2])\n",
    "print(result)"
   ]
  },
  {
   "cell_type": "code",
   "execution_count": 2,
   "metadata": {},
   "outputs": [
    {
     "name": "stdout",
     "output_type": "stream",
     "text": [
      "8\n"
     ]
    }
   ],
   "source": [
    "#Q.아래의 리스트 a에서 없는 숫자 하나를 찾으시오\n",
    "a=[2,1,5,4,6,7,9,10,3]\n",
    "result=sum(range(1,11))-sum(a)\n",
    "print(result)"
   ]
  },
  {
   "cell_type": "code",
   "execution_count": 3,
   "metadata": {},
   "outputs": [
    {
     "name": "stdout",
     "output_type": "stream",
     "text": [
      "{'태양': 'sun', '수성': 'mercury', '금성': 'venus', '지구': 'earth', '화성': 'mars'}\n"
     ]
    }
   ],
   "source": [
    "#Q.다음의 리스트를 사전형으로 구성하시오\n",
    "sol_eng=['sun','mercury','venus','earth','mars']\n",
    "sol_kor=['태양','수성','금성','지구','화성']\n",
    "sol={}\n",
    "for i, j in zip(sol_eng, sol_kor):\n",
    "    sol[j]=i\n",
    "print(sol)"
   ]
  },
  {
   "cell_type": "code",
   "execution_count": 4,
   "metadata": {},
   "outputs": [
    {
     "name": "stdout",
     "output_type": "stream",
     "text": [
      "{'방탄소년단': '피땀눈물', '소녀시대': 'Gee'}\n",
      "{'소녀시대': ['다시만난세계', 'Gee'], '방탄소년단': ['DNA', '피땀눈물']}\n"
     ]
    }
   ],
   "source": [
    "#Q.아래의 딕셔너리 값 중에서 fire를 피땀눈물로 변경하시오\n",
    "dict={'방탄소년단':'Fire','소녀시대':'Gee'}\n",
    "dict['방탄소년단']='피땀눈물'\n",
    "print(dict)\n",
    "\n",
    "dict1={'소녀시대':['다시만난세계','Gee'], '방탄소년단':['DNA','Fire'] }\n",
    "dict1['방탄소년단'][1]='피땀눈물'\n",
    "print(dict1)"
   ]
  },
  {
   "cell_type": "code",
   "execution_count": 5,
   "metadata": {},
   "outputs": [
    {
     "name": "stdout",
     "output_type": "stream",
     "text": [
      "{'소녀시대': ['Gee'], '방탄소년단': ['DNA', 'Fire']}\n"
     ]
    }
   ],
   "source": [
    "#Q.아래의 딕셔너리에서 다시만난세계의 값만 지우시오\n",
    "dict={'소녀시대':['다시만난세계','Gee'], '방탄소년단':['DNA','Fire'] }\n",
    "del dict['소녀시대'][0]\n",
    "print(dict)"
   ]
  },
  {
   "cell_type": "code",
   "execution_count": 6,
   "metadata": {},
   "outputs": [
    {
     "name": "stdout",
     "output_type": "stream",
     "text": [
      "태양,수성,금성,지구,화성,"
     ]
    }
   ],
   "source": [
    "#Q.sol 사전에 있는 키를 추출해서 키 값만 추출하시오\n",
    "sol={'태양':'sun', '수성':'mercury', '금성':'venus', '지구':'earth', '화성':'mars'}\n",
    "for i in sol.keys():\n",
    "    print(i,end=',') #end는 옵션에 준 구분자로 값들을 가로로 출력하면서 구분자로 구분합니다."
   ]
  },
  {
   "cell_type": "code",
   "execution_count": 7,
   "metadata": {},
   "outputs": [
    {
     "name": "stdout",
     "output_type": "stream",
     "text": [
      "['yesterday', 'imagine']\n",
      "['너랑나', '마슈멜로우']\n",
      "['beat it', 'smooth criminal']\n"
     ]
    }
   ],
   "source": [
    "#Q.아래의 genie 딕셔너리에서 값만 추출하시오\n",
    "genie={'비틀즈':['yesterday','imagine'],'아이유':['너랑나','마슈멜로우'],'마이클 잭슨':['beat it','smooth criminal']}\n",
    "for i in genie.values():\n",
    "    print(i)"
   ]
  },
  {
   "cell_type": "code",
   "execution_count": 8,
   "metadata": {},
   "outputs": [
    {
     "name": "stdout",
     "output_type": "stream",
     "text": [
      "yesterday\n",
      "너랑나\n",
      "beat it\n"
     ]
    }
   ],
   "source": [
    "#Q.위의 값을 추출한 것에서 0번째 요소만 출력하시오\n",
    "genie={'비틀즈':['yesterday','imagine'],'아이유':['너랑나','마슈멜로우'],'마이클 잭슨':['beat it','smooth criminal']}\n",
    "for i in genie.values():\n",
    "    print(i[0])"
   ]
  },
  {
   "cell_type": "code",
   "execution_count": 9,
   "metadata": {},
   "outputs": [
    {
     "name": "stdout",
     "output_type": "stream",
     "text": [
      "[['beat it', 'smooth criminal'], ['yesterday', 'imagine'], ['너랑나', '마슈멜로우']]\n"
     ]
    }
   ],
   "source": [
    "#Q.genie 딕셔너리의 값들을 리스트로 만들고 shuffle 로 섞어보시오\n",
    "from random import shuffle\n",
    "genie={'비틀즈':['yesterday','imagine'],'아이유':['너랑나','마슈멜로우'],'마이클 잭슨':['beat it','smooth criminal']}\n",
    "genie2=list(genie.values())\n",
    "shuffle(genie2)\n",
    "print(genie2) #앞에 dict_values가 안나오게 하려면 list()로 한번 감싸주기"
   ]
  },
  {
   "cell_type": "code",
   "execution_count": 10,
   "metadata": {},
   "outputs": [
    {
     "name": "stdout",
     "output_type": "stream",
     "text": [
      "yesterday,너랑나,beat it,마슈멜로우,smooth criminal,billy jean\n"
     ]
    }
   ],
   "source": [
    "#Q.아티스트별로 노래가 겹치지 않게 하는데 shuffle함수를 이용해서 코드를 수행할때마다 곡이 무작위로 섞여서 출력되게하시오\n",
    "from random import shuffle\n",
    "genie={'비틀즈':['yesterday'],'아이유':['너랑나','마슈멜로우'],'마이클 잭슨':['beat it','smooth criminal','billy jean']}\n",
    "genie2=list(genie.values())\n",
    "shuffle(genie2)\n",
    "\n",
    "b=[]\n",
    "for i in range(len(genie2)):\n",
    "    b.append(len(genie2[i]))\n",
    "#print(b)\n",
    "\n",
    "c=[]\n",
    "for j in range(max(b)):\n",
    "    for k in genie2:\n",
    "        if len(k)>j:\n",
    "            c.append(k[j])\n",
    "\n",
    "print(','.join(c))"
   ]
  },
  {
   "cell_type": "code",
   "execution_count": 11,
   "metadata": {},
   "outputs": [
    {
     "name": "stdout",
     "output_type": "stream",
     "text": [
      "['비틀즈', '아이유', '마이클 잭슨']\n",
      "[['yesterday', 'imagine'], ['너랑나', '마슈멜로우'], ['beat it', 'smooth criminal']]\n",
      "[('비틀즈', ['yesterday', 'imagine']), ('아이유', ['너랑나', '마슈멜로우']), ('마이클 잭슨', ['beat it', 'smooth criminal'])]\n"
     ]
    }
   ],
   "source": [
    "#dict 요소 추출 이해하기\n",
    "genie={'비틀즈':['yesterday','imagine'],'아이유':['너랑나','마슈멜로우'],'마이클 잭슨':['beat it','smooth criminal']}\n",
    "print(list(genie.keys()))#['비틀즈', '아이유', '마이클 잭슨'])\n",
    "print(list(genie.values())) #[['yesterday', 'imagine'], ['너랑나', '마슈멜로우'], ['beat it', 'smooth criminal']])\n",
    "print(list(genie.items())) #[('비틀즈', ['yesterday', 'imagine']), ('아이유', ['너랑나', '마슈멜로우']), ('마이클 잭슨', ['beat it', 'smooth criminal'])])"
   ]
  },
  {
   "cell_type": "code",
   "execution_count": 12,
   "metadata": {},
   "outputs": [
    {
     "name": "stdout",
     "output_type": "stream",
     "text": [
      "yesterday\n",
      "너랑나\n",
      "beat it\n"
     ]
    }
   ],
   "source": [
    "#Q.genie딕셔너리의 요소들을 리스트에 담고 음악 첫번째 곡들만 출력하시오\n",
    "genie={'비틀즈':['yesterday','imagine'],'아이유':['너랑나','마슈멜로우'],'마이클 잭슨':['beat it','smooth criminal']}\n",
    "result=list(genie.items())\n",
    "for i in result:\n",
    "    print(i[1][0])"
   ]
  },
  {
   "cell_type": "code",
   "execution_count": 13,
   "metadata": {},
   "outputs": [
    {
     "name": "stdout",
     "output_type": "stream",
     "text": [
      "짱구 kt\n",
      "철수 kt\n",
      "유리 sk\n",
      "맹구 sk\n",
      "훈이 sk\n"
     ]
    }
   ],
   "source": [
    "#Q.우리반 테이블에서 이름, 통신사를 출력하시오\n",
    "import csv\n",
    "file=open(\"d:\\\\data\\\\emp12222.csv\",encoding='UTF8')\n",
    "emp12_csv=csv.reader(file)\n",
    "for emp_list in emp12_csv:\n",
    "   print(emp_list[1],emp_list[5])"
   ]
  },
  {
   "cell_type": "code",
   "execution_count": 14,
   "metadata": {},
   "outputs": [
    {
     "name": "stdout",
     "output_type": "stream",
     "text": [
      "['짱구', '철수']\n"
     ]
    }
   ],
   "source": [
    "#Q.우리반데이터에서 통신사를 key로 하고 학생이름을 값으로해서 defaultdict를 생성하시오\n",
    "from collections import defaultdict\n",
    "import csv\n",
    "file=open(\"d:\\\\data\\\\emp12222.csv\",encoding='UTF8')\n",
    "emp12_csv=csv.reader(file)\n",
    "\n",
    "telecom=defaultdict(list)\n",
    "for emp_list in emp12_csv:\n",
    "   telecom[emp_list[5]].append(emp_list[1])\n",
    "   \n",
    "result=telecom['kt']\n",
    "print(sorted(result))"
   ]
  },
  {
   "cell_type": "code",
   "execution_count": 15,
   "metadata": {},
   "outputs": [
    {
     "name": "stdout",
     "output_type": "stream",
     "text": [
      "A ---> 65\n",
      "B ---> 66\n",
      "C ---> 67\n",
      "D ---> 68\n",
      "E ---> 69\n",
      "F ---> 70\n",
      "G ---> 71\n",
      "H ---> 72\n",
      "I ---> 73\n",
      "J ---> 74\n",
      "K ---> 75\n",
      "L ---> 76\n",
      "M ---> 77\n",
      "N ---> 78\n",
      "O ---> 79\n",
      "P ---> 80\n",
      "Q ---> 81\n",
      "R ---> 82\n",
      "S ---> 83\n",
      "T ---> 84\n",
      "U ---> 85\n",
      "V ---> 86\n",
      "W ---> 87\n",
      "X ---> 88\n",
      "Y ---> 89\n",
      "Z ---> 90\n"
     ]
    }
   ],
   "source": [
    "#Q.알파벳 대문자를 출력하고 ord함수를 이용해서 컴퓨터언어로 변경하시오\n",
    "import string\n",
    "for i in string.ascii_uppercase:\n",
    "    print(i,'--->',ord(i))"
   ]
  },
  {
   "cell_type": "code",
   "execution_count": 16,
   "metadata": {},
   "outputs": [
    {
     "name": "stdout",
     "output_type": "stream",
     "text": [
      "65 ---> A\n",
      "66 ---> B\n",
      "67 ---> C\n",
      "68 ---> D\n",
      "69 ---> E\n",
      "70 ---> F\n",
      "71 ---> G\n",
      "72 ---> H\n",
      "73 ---> I\n",
      "74 ---> J\n",
      "75 ---> K\n",
      "76 ---> L\n",
      "77 ---> M\n",
      "78 ---> N\n",
      "79 ---> O\n",
      "80 ---> P\n",
      "81 ---> Q\n",
      "82 ---> R\n",
      "83 ---> S\n",
      "84 ---> T\n",
      "85 ---> U\n",
      "86 ---> V\n",
      "87 ---> W\n",
      "88 ---> X\n",
      "89 ---> Y\n",
      "90 ---> Z\n"
     ]
    }
   ],
   "source": [
    "#Q.아래와 같이 결과를 출력하시오 65--->A, 66--->B,....\n",
    "import string\n",
    "for j in range(65,91):\n",
    "    print(j,'--->',chr(j))"
   ]
  },
  {
   "cell_type": "code",
   "execution_count": 17,
   "metadata": {},
   "outputs": [
    {
     "name": "stdout",
     "output_type": "stream",
     "text": [
      "34+256-71*34 = -2124\n"
     ]
    }
   ],
   "source": [
    "#Q.다음의 식을 계산하시오 34+256-71*34=?\n",
    "a='34+256-71*34'\n",
    "print(a,'=',eval(a))"
   ]
  },
  {
   "cell_type": "code",
   "execution_count": 18,
   "metadata": {},
   "outputs": [
    {
     "name": "stdout",
     "output_type": "stream",
     "text": [
      "34+22+45+27+31+33+55 = 247\n"
     ]
    }
   ],
   "source": [
    "#Q.다음의 리스트의 숫자를 뽑아내서 각각 더하는 모양의 문자열을 생성하고 계산하시오\n",
    "a=[34,22,45,27,31,33,55]\n",
    "b=[]\n",
    "for i in a:\n",
    "    b.append(str(i))\n",
    "\n",
    "result='+'.join(b)\n",
    "print(result,'=',eval(result))"
   ]
  },
  {
   "cell_type": "code",
   "execution_count": 19,
   "metadata": {},
   "outputs": [
    {
     "name": "stdout",
     "output_type": "stream",
     "text": [
      "5+4+3+2+1 = 15\n"
     ]
    }
   ],
   "source": [
    "#Q.우리반 데이터에서 나이를 읽어들여 다 합한 결과를 출력하시오\n",
    "import csv\n",
    "file=open(\"d:\\\\data\\\\emp12222.csv\",encoding='UTF8')\n",
    "emp12_csv=csv.reader(file)\n",
    "a=[]\n",
    "for emp_list in emp12_csv:\n",
    "    a.append(emp_list[2])\n",
    "\n",
    "result='+'.join(a)\n",
    "print(result,'=',eval(result))"
   ]
  },
  {
   "cell_type": "code",
   "execution_count": 20,
   "metadata": {},
   "outputs": [
    {
     "name": "stdout",
     "output_type": "stream",
     "text": [
      "odd\n"
     ]
    }
   ],
   "source": [
    "#Q.다음 함수를 lambda 함수로 만들어 보시오\n",
    "#def gob_func(a,b):\n",
    "    #return a*b\n",
    "k=lambda a:'even' if (a%2==0) else 'odd'\n",
    "print(k(3))"
   ]
  },
  {
   "cell_type": "code",
   "execution_count": 21,
   "metadata": {},
   "outputs": [
    {
     "name": "stdout",
     "output_type": "stream",
     "text": [
      "일반소득자입니다\n"
     ]
    }
   ],
   "source": [
    "#Q.다음의 함수를 lambda로 구현하시오\n",
    "k=lambda a:'고소득자입니다' if (a>=3000) else '일반소득자입니다'\n",
    "print(k(2000))"
   ]
  },
  {
   "cell_type": "code",
   "execution_count": 22,
   "metadata": {},
   "outputs": [
    {
     "name": "stdout",
     "output_type": "stream",
     "text": [
      "신뢰구간 95%안에 없습니다.\n"
     ]
    }
   ],
   "source": [
    "#Q.평균140 표준편차5를 이용해서 신뢰구간 95%안에 있는지 확인하시오\n",
    "def child_tall(num):\n",
    "    if 140-1.96*5<=num<=140+1.96*5:\n",
    "        return '신뢰구간 95%안에 있습니다.'\n",
    "    else:\n",
    "        return '신뢰구간 95%안에 없습니다.'\n",
    "        \n",
    "print(child_tall(180))"
   ]
  },
  {
   "cell_type": "code",
   "execution_count": 23,
   "metadata": {},
   "outputs": [
    {
     "data": {
      "text/plain": [
       "<function matplotlib.pyplot.show(close=None, block=None)>"
      ]
     },
     "execution_count": 23,
     "metadata": {},
     "output_type": "execute_result"
    },
    {
     "data": {
      "image/png": "[encoded data removed]",
      "text/plain": [
       "<Figure size 432x288 with 1 Axes>"
      ]
     },
     "metadata": {
      "needs_background": "light"
     },
     "output_type": "display_data"
    }
   ],
   "source": [
    "#Q.신뢰구간 95%일때의 그래프를 시각화 하시오\n",
    "import numpy as np\n",
    "import matplotlib.pyplot as plt\n",
    "from scipy.stats import norm\n",
    "\n",
    "x=np.arange(120,160,0.001)\n",
    "y=norm.pdf(x,140,5) #확률밀도함수\n",
    "plt.plot(x,y,color='red')\n",
    "plt.fill_between(x,y,where=(x>=140-1.96*5) & (x<=140+1.96*5),color='pink',alpha=0.5)\n",
    "plt.show\n",
    "#where가 색칠하는 구간을 지정합니다."
   ]
  },
  {
   "cell_type": "code",
   "execution_count": 24,
   "metadata": {},
   "outputs": [
    {
     "data": {
      "text/plain": [
       "<function matplotlib.pyplot.show(close=None, block=None)>"
      ]
     },
     "execution_count": 24,
     "metadata": {},
     "output_type": "execute_result"
    },
    {
     "data": {
      "image/png": "[encoded data removed]",
      "text/plain": [
       "<Figure size 432x288 with 1 Axes>"
      ]
     },
     "metadata": {
      "needs_background": "light"
     },
     "output_type": "display_data"
    }
   ],
   "source": [
    "#Q.신뢰구간 95, 99, 68일때의 그래프를 시각화 하시오\n",
    "def confidence_interval(num):\n",
    "    if num==95: \n",
    "        a=1.96\n",
    "    elif num==99:\n",
    "        a=2.58\n",
    "    else:\n",
    "        a=1\n",
    "\n",
    "    lower=140-a*5\n",
    "    upper=140+a*5\n",
    "\n",
    "    import numpy as np\n",
    "    import matplotlib.pyplot as plt\n",
    "    from scipy.stats import norm\n",
    "\n",
    "    x=np.arange(120,160,0.001)\n",
    "    y=norm.pdf(x,140,5) #확률밀도함수\n",
    "    plt.plot(x,y,color='magenta')\n",
    "    plt.fill_between(x,y,where=(x>=lower) & (x<=upper),color='pink',alpha=0.5)\n",
    "    return plt.show\n",
    "\n",
    "confidence_interval(95)\n",
    "confidence_interval(99)\n",
    "confidence_interval(68)"
   ]
  }
 ],
 "metadata": {
  "kernelspec": {
   "display_name": "Python 3",
   "language": "python",
   "name": "python3"
  },
  "language_info": {
   "codemirror_mode": {
    "name": "ipython",
    "version": 3
   },
   "file_extension": ".py",
   "mimetype": "text/x-python",
   "name": "python",
   "nbconvert_exporter": "python",
   "pygments_lexer": "ipython3",
   "version": "3.8.5"
  }
 },
 "nbformat": 4,
 "nbformat_minor": 4
}
