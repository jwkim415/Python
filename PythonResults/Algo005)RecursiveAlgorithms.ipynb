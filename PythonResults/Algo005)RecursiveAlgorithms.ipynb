{
 "cells": [
  {
   "cell_type": "code",
   "execution_count": 1,
   "metadata": {},
   "outputs": [
    {
     "name": "stdout",
     "output_type": "stream",
     "text": [
      "11\n"
     ]
    }
   ],
   "source": [
    "#함수내에서 다른 함수를 호출하는 예제\n",
    "def hap(a,b):\n",
    "    return a+b\n",
    "\n",
    "def gob(a,b):\n",
    "    return a*b\n",
    "\n",
    "def hap_gob(a,b):\n",
    "    k=hap(a,b)\n",
    "    m=gob(a,b)\n",
    "    return k+m\n",
    "\n",
    "print(hap_gob(2,3))"
   ]
  },
  {
   "cell_type": "code",
   "execution_count": 2,
   "metadata": {},
   "outputs": [
    {
     "name": "stdout",
     "output_type": "stream",
     "text": [
      "15\n"
     ]
    }
   ],
   "source": [
    "#Q.숫자를 입력하면 1부터 해당 숫자까지의 합을 출력하는 함수를 생성하시오\n",
    "def add_func(a):\n",
    "    cnt=0\n",
    "    for i in range(a+1):\n",
    "        cnt=cnt+i\n",
    "    return cnt\n",
    "\n",
    "print(add_func(5))"
   ]
  },
  {
   "cell_type": "code",
   "execution_count": 3,
   "metadata": {},
   "outputs": [
    {
     "name": "stdout",
     "output_type": "stream",
     "text": [
      "15\n"
     ]
    }
   ],
   "source": [
    "#Q.위의 add_func 함수를 재귀함수로 구현하시오\n",
    "def add_func(a):\n",
    "    if a==0:\n",
    "        return 0\n",
    "    else:\n",
    "        return a + add_func(a-1)\n",
    "    \n",
    "print(add_func(5))"
   ]
  },
  {
   "cell_type": "code",
   "execution_count": 4,
   "metadata": {},
   "outputs": [
    {
     "name": "stdout",
     "output_type": "stream",
     "text": [
      "120\n"
     ]
    }
   ],
   "source": [
    "#Q.팩토리얼 함수를 생성하시오\n",
    "def factorial(a):\n",
    "    if a==1:\n",
    "        return 1\n",
    "    else: \n",
    "        return a*factorial(a-1)\n",
    "    \n",
    "print(factorial(5))"
   ]
  },
  {
   "cell_type": "code",
   "execution_count": 5,
   "metadata": {},
   "outputs": [
    {
     "name": "stdout",
     "output_type": "stream",
     "text": [
      "120\n"
     ]
    }
   ],
   "source": [
    "#Q.팩토리얼 함수를 재귀를 이용하지말고 for loop 문으로 구현하시오\n",
    "def factorial(a):\n",
    "    cnt=1\n",
    "    for i in range(1,a+1):\n",
    "        cnt=cnt*i\n",
    "    return cnt\n",
    "\n",
    "print(factorial(5))"
   ]
  },
  {
   "cell_type": "code",
   "execution_count": 6,
   "metadata": {},
   "outputs": [
    {
     "name": "stdout",
     "output_type": "stream",
     "text": [
      "8\n"
     ]
    }
   ],
   "source": [
    "#Q.오라클의 power 함수를 파이썬으로 구현하시오 (loop문으로)\n",
    "def power(a,b):\n",
    "    cnt=1\n",
    "    for i in range(1,b+1):\n",
    "        cnt=cnt*a\n",
    "    return cnt\n",
    "    \n",
    "print(power(2,3))"
   ]
  },
  {
   "cell_type": "code",
   "execution_count": 7,
   "metadata": {},
   "outputs": [
    {
     "name": "stdout",
     "output_type": "stream",
     "text": [
      "8\n"
     ]
    }
   ],
   "source": [
    "#Q.위의 power 함수를 재귀함수로 구현하시오\n",
    "def power(a,b):\n",
    "    if b==0: #재귀를 종료시키는 코드\n",
    "        return 1\n",
    "    else:\n",
    "        return a*power(a,b-1)\n",
    "    \n",
    "print(power(2,3))"
   ]
  },
  {
   "cell_type": "code",
   "execution_count": 8,
   "metadata": {},
   "outputs": [
    {
     "name": "stdout",
     "output_type": "stream",
     "text": [
      "2 x  1 = 2\n",
      "2 x  2 = 4\n",
      "2 x  3 = 6\n",
      "2 x  4 = 8\n",
      "2 x  5 = 10\n",
      "2 x  6 = 12\n",
      "2 x  7 = 14\n",
      "2 x  8 = 16\n",
      "2 x  9 = 18\n",
      "None\n"
     ]
    }
   ],
   "source": [
    "#Q.구구단 2단을 만드는 함수를 생성하시오\n",
    "def multi_table_2dan(a):\n",
    "    for i in range(1,a+1):\n",
    "        print('2 x ',i,'=',2*i)\n",
    "        \n",
    "print(multi_table_2dan(9))"
   ]
  },
  {
   "cell_type": "code",
   "execution_count": 9,
   "metadata": {},
   "outputs": [
    {
     "name": "stdout",
     "output_type": "stream",
     "text": [
      "2 x 1 = 2\n",
      "2 x 2 = 4\n",
      "2 x 3 = 6\n",
      "2 x 4 = 8\n",
      "2 x 5 = 10\n",
      "2 x 6 = 12\n",
      "2 x 7 = 14\n",
      "2 x 8 = 16\n",
      "2 x 9 = 18\n",
      "1\n"
     ]
    }
   ],
   "source": [
    "#Q.구구단 2단을 재귀함수로 출력하시오\n",
    "def gugudan2(num):\n",
    "    if num==0:\n",
    "        return 1\n",
    "    else:\n",
    "        print ('2 x {} = {}'.format(10-num,2*(10-num)))\n",
    "        return gugudan2(num-1)\n",
    "    \n",
    "print(gugudan2(9))"
   ]
  },
  {
   "cell_type": "code",
   "execution_count": 10,
   "metadata": {},
   "outputs": [
    {
     "name": "stdout",
     "output_type": "stream",
     "text": [
      "8\n"
     ]
    }
   ],
   "source": [
    "#Q.두 수를 입력받고 최대공약수를 출력하시오\n",
    "def gcd(a,b):\n",
    "    for i in range(min(a,b),0,-1):\n",
    "        if a%i==0 and b%i==0:\n",
    "            return i\n",
    "            \n",
    "print(gcd(16,24))"
   ]
  },
  {
   "cell_type": "code",
   "execution_count": 11,
   "metadata": {},
   "outputs": [
    {
     "name": "stdout",
     "output_type": "stream",
     "text": [
      "8\n"
     ]
    }
   ],
   "source": [
    "#Q.최대공약수 함수를 재귀로 구현하시오\n",
    "def gcd(a,b):\n",
    "    if b==0:\n",
    "        return a\n",
    "    else:\n",
    "        return gcd(b,a%b)\n",
    "            \n",
    "print(gcd(16,24))"
   ]
  },
  {
   "cell_type": "code",
   "execution_count": 12,
   "metadata": {},
   "outputs": [
    {
     "name": "stdout",
     "output_type": "stream",
     "text": [
      "8\n"
     ]
    }
   ],
   "source": [
    "#Q.최대공약수 함수를 재귀로 구현하시오 ver2\n",
    "def gcd(a,b):\n",
    "    c=a%b\n",
    "    if c!=0:\n",
    "        c=a%b\n",
    "        return gcd(b,c)\n",
    "    else:\n",
    "        return b\n",
    "print(gcd(16,24))"
   ]
  }
 ],
 "metadata": {
  "kernelspec": {
   "display_name": "Python 3",
   "language": "python",
   "name": "python3"
  },
  "language_info": {
   "codemirror_mode": {
    "name": "ipython",
    "version": 3
   },
   "file_extension": ".py",
   "mimetype": "text/x-python",
   "name": "python",
   "nbconvert_exporter": "python",
   "pygments_lexer": "ipython3",
   "version": "3.8.5"
  }
 },
 "nbformat": 4,
 "nbformat_minor": 4
}
