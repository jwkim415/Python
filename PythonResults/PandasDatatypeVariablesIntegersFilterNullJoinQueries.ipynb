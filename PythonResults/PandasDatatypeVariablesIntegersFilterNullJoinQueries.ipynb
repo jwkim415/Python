{
 "cells": [
  {
   "cell_type": "code",
   "execution_count": 1,
   "metadata": {},
   "outputs": [
    {
     "name": "stdout",
     "output_type": "stream",
     "text": [
      "     ename       loc\n",
      "0     KING  NEW YORK\n",
      "1    BLAKE   CHICAGO\n",
      "2    CLARK  NEW YORK\n",
      "3    JONES    DALLAS\n",
      "4   MARTIN   CHICAGO\n",
      "5    ALLEN   CHICAGO\n",
      "6   TURNER   CHICAGO\n",
      "7    JAMES   CHICAGO\n",
      "8     WARD   CHICAGO\n",
      "9     FORD    DALLAS\n",
      "10   SMITH    DALLAS\n",
      "11   SCOTT    DALLAS\n",
      "12   ADAMS    DALLAS\n",
      "13  MILLER  NEW YORK\n"
     ]
    }
   ],
   "source": [
    "#Q.outer join을 사용하여 데이터를 출력하시오\n",
    "import pandas as pd\n",
    "emp=pd.read_csv(\"d:\\\\data\\\\emp3.csv\")\n",
    "dept=pd.read_csv(\"d:\\\\data\\\\dept3.csv\")\n",
    "result=pd.merge(emp,dept,on='deptno',how='left')\n",
    "print(result[['ename','loc']])"
   ]
  },
  {
   "cell_type": "code",
   "execution_count": 2,
   "metadata": {},
   "outputs": [
    {
     "name": "stdout",
     "output_type": "stream",
     "text": [
      "   deptno          sal\n",
      "0      10  2916.666667\n",
      "1      20  2175.000000\n",
      "2      30  1566.666667\n"
     ]
    }
   ],
   "source": [
    "#Q.부서번호, 부서번호별 평균월급을 출력하시오\n",
    "import pandas as pd\n",
    "emp=pd.read_csv(\"d:\\\\data\\\\emp3.csv\")\n",
    "result=emp.groupby('deptno')['sal'].mean().reset_index()\n",
    "print(result)"
   ]
  },
  {
   "cell_type": "code",
   "execution_count": 3,
   "metadata": {},
   "outputs": [
    {
     "name": "stdout",
     "output_type": "stream",
     "text": [
      "   deptno   sal\n",
      "0      10  2916\n",
      "1      20  2175\n",
      "2      30  1566\n"
     ]
    }
   ],
   "source": [
    "#Q.위의 결과에서 평균 월급을 출력할 때 정수부분만 출력되게 하시오\n",
    "import pandas as pd\n",
    "emp=pd.read_csv(\"d:\\\\data\\\\emp3.csv\")\n",
    "result=emp.groupby('deptno')['sal'].mean().reset_index().astype(int)\n",
    "print(result)"
   ]
  },
  {
   "cell_type": "code",
   "execution_count": 4,
   "metadata": {},
   "outputs": [
    {
     "name": "stdout",
     "output_type": "stream",
     "text": [
      "         job   sal\n",
      "0    ANALYST  6000\n",
      "1      CLERK  4150\n",
      "2    MANAGER  8275\n",
      "3  PRESIDENT  5000\n",
      "4   SALESMAN  5600\n"
     ]
    }
   ],
   "source": [
    "#Q.직업, 직업별 토탈월급을 출력하시오\n",
    "import pandas as pd\n",
    "emp=pd.read_csv(\"d:\\\\data\\\\emp3.csv\")\n",
    "result=emp.groupby('job')['sal'].sum().reset_index()\n",
    "print(result)"
   ]
  },
  {
   "cell_type": "code",
   "execution_count": 5,
   "metadata": {},
   "outputs": [
    {
     "name": "stdout",
     "output_type": "stream",
     "text": [
      "        loc    sal\n",
      "0   CHICAGO   9400\n",
      "1    DALLAS  10875\n",
      "2  NEW YORK   8750\n"
     ]
    }
   ],
   "source": [
    "#Q.부서위치, 부서위치별 토탈월급을 출력하시오 (조인해야 함)\n",
    "import pandas as pd\n",
    "emp=pd.read_csv(\"d:\\\\data\\\\emp3.csv\")\n",
    "dept=pd.read_csv(\"d:\\\\data\\\\dept3.csv\")\n",
    "result=pd.merge(emp,dept,on='deptno')\n",
    "result2=result.groupby('loc')['sal'].sum().reset_index()\n",
    "print(result2)"
   ]
  },
  {
   "cell_type": "code",
   "execution_count": 6,
   "metadata": {},
   "outputs": [
    {
     "name": "stdout",
     "output_type": "stream",
     "text": [
      "        loc      sal\n",
      "0    BOSTON      0.0\n",
      "1   CHICAGO   9400.0\n",
      "2    DALLAS  10875.0\n",
      "3  NEW YORK   8750.0\n"
     ]
    }
   ],
   "source": [
    "#Q.이번에는 위의 문제에서 BOSTON도 출력되게 하시오\n",
    "import pandas as pd\n",
    "emp=pd.read_csv(\"d:\\\\data\\\\emp3.csv\")\n",
    "dept=pd.read_csv(\"d:\\\\data\\\\dept3.csv\")\n",
    "result=pd.merge(emp,dept,on='deptno',how='right')\n",
    "result2=result.groupby('loc')['sal'].sum().reset_index()\n",
    "print(result2)"
   ]
  },
  {
   "cell_type": "code",
   "execution_count": 7,
   "metadata": {},
   "outputs": [
    {
     "name": "stdout",
     "output_type": "stream",
     "text": [
      "   deptno  empno\n",
      "0      10      3\n",
      "1      20      5\n",
      "2      30      6\n"
     ]
    }
   ],
   "source": [
    "#Q.아래의 SQL을 판다스로 구현하시오\n",
    "#select deptno, count(*) from emp group by deptno;\n",
    "import pandas as pd\n",
    "emp=pd.read_csv(\"d:\\\\data\\\\emp3.csv\")\n",
    "result=emp.groupby('deptno')['empno'].count().reset_index()\n",
    "print(result)"
   ]
  },
  {
   "cell_type": "code",
   "execution_count": 10,
   "metadata": {},
   "outputs": [
    {
     "name": "stdout",
     "output_type": "stream",
     "text": [
      "  TELECOM  ENAME\n",
      "0      kt     15\n",
      "1      lg      4\n",
      "2      sk     11\n"
     ]
    }
   ],
   "source": [
    "#Q.통신사, 통신사별 인원수를 출력하시오\n",
    "import pandas as pd\n",
    "emp12=pd.read_csv(\"d:\\\\data\\\\emp122.csv\")\n",
    "result=emp12.groupby('TELECOM')['ENAME'].count().reset_index()\n",
    "print(result)"
   ]
  },
  {
   "cell_type": "code",
   "execution_count": 12,
   "metadata": {},
   "outputs": [
    {
     "name": "stdout",
     "output_type": "stream",
     "text": [
      "   AGE TELECOM\n",
      "1   31      kt\n"
     ]
    }
   ],
   "source": [
    "#Q.우리반 테이블에서 kt통신사를 사용하는 30세 이상인 학생의 나이와 통신사를 출력하시오\n",
    "import pandas as pd\n",
    "emp12=pd.read_csv(\"d:\\\\data\\\\emp122.csv\")\n",
    "print(emp12[['AGE','TELECOM']][(emp12['TELECOM']=='kt') & (emp12['AGE']>=30)])"
   ]
  },
  {
   "cell_type": "code",
   "execution_count": 13,
   "metadata": {},
   "outputs": [
    {
     "name": "stdout",
     "output_type": "stream",
     "text": [
      "<_csv.reader object at 0x000002487BC3DCA0>\n",
      "KING 5000\n",
      "BLAKE 2850\n",
      "CLARK 2450\n",
      "JONES 2975\n",
      "MARTIN 1250\n",
      "ALLEN 1600\n",
      "TURNER 1500\n",
      "JAMES 950\n",
      "WARD 1250\n",
      "FORD 3000\n",
      "SMITH 800\n",
      "SCOTT 3000\n",
      "ADAMS 1100\n",
      "MILLER 1300\n"
     ]
    }
   ],
   "source": [
    "#Q.판다스를 이용하지 않고 파이썬으로만 emp3.csv에서 이름, 월급을 출력하시오\n",
    "import csv\n",
    "file=open(\"d:\\\\data\\\\emp22.csv\") #os에 있는 emp2.csv를 읽어서 file이라는 변수에 넣는다\n",
    "emp_csv=csv.reader(file) #file 변수에있는 csv파일을 읽어서 emp_csv변수에 넣는다.\n",
    "print(emp_csv) #이 상태에서 그냥 프린트하면 메모리 주소만 나옵니다. \n",
    "for emp_list in emp_csv: #csv파일의 내용을 한 행씩 리스트에 담아서 \n",
    "    print(emp_list[1], emp_list[5]) #출력합니다."
   ]
  },
  {
   "cell_type": "code",
   "execution_count": 14,
   "metadata": {},
   "outputs": [
    {
     "name": "stdout",
     "output_type": "stream",
     "text": [
      "<_csv.reader object at 0x000002487BC3DDC0>\n",
      "KING 61500.0\n",
      "BLAKE 35055.0\n",
      "CLARK 30135.0\n",
      "JONES 36592.5\n",
      "MARTIN 15375.0\n",
      "ALLEN 19680.0\n",
      "TURNER 18450.0\n",
      "JAMES 11685.0\n",
      "WARD 15375.0\n",
      "FORD 36900.0\n",
      "SMITH 9840.0\n",
      "SCOTT 36900.0\n",
      "ADAMS 13530.0\n",
      "MILLER 15990.000000000002\n"
     ]
    }
   ],
   "source": [
    "#Q.판다스를 이용하지 말고 이름, 월급*12.3을 출력하시오\n",
    "import csv\n",
    "file=open(\"d:\\\\data\\\\emp22.csv\") #os에 있는 emp2.csv를 읽어서 file이라는 변수에 넣는다\n",
    "emp_csv=csv.reader(file) #file 변수에있는 csv파일을 읽어서 emp_csv변수에 넣는다.\n",
    "print(emp_csv) #이 상태에서 그냥 프린트하면 메모리 주소만 나옵니다. \n",
    "for emp_list in emp_csv: #csv파일의 내용을 한 행씩 리스트에 담아서 \n",
    "    print(emp_list[1], int(emp_list[5])*12.3)"
   ]
  },
  {
   "cell_type": "code",
   "execution_count": 15,
   "metadata": {},
   "outputs": [
    {
     "name": "stdout",
     "output_type": "stream",
     "text": [
      "<_csv.reader object at 0x000002487BC3DFA0>\n",
      "KING 61500\n",
      "BLAKE 35055\n",
      "CLARK 30135\n",
      "JONES 36592\n",
      "MARTIN 15375\n",
      "ALLEN 19680\n",
      "TURNER 18450\n",
      "JAMES 11685\n",
      "WARD 15375\n",
      "FORD 36900\n",
      "SMITH 9840\n",
      "SCOTT 36900\n",
      "ADAMS 13530\n",
      "MILLER 15990\n"
     ]
    }
   ],
   "source": [
    "#Q.위의 결과를 다시 출력하는데 소수점 첫번째 자리에서 반올림되게 하시오\n",
    "import csv\n",
    "file=open(\"d:\\\\data\\\\emp22.csv\") \n",
    "emp_csv=csv.reader(file) \n",
    "print(emp_csv) \n",
    "for emp_list in emp_csv:\n",
    "    print(emp_list[1], round(int(emp_list[5])*12.3))"
   ]
  },
  {
   "cell_type": "code",
   "execution_count": 16,
   "metadata": {},
   "outputs": [
    {
     "name": "stdout",
     "output_type": "stream",
     "text": [
      "<_csv.reader object at 0x000002487BC3DEE0>\n",
      "MARTIN SALESMAN\n",
      "ALLEN SALESMAN\n",
      "TURNER SALESMAN\n",
      "WARD SALESMAN\n"
     ]
    }
   ],
   "source": [
    "#Q.직업이 SALESMAN인 사원들의 이름, 직업을 출력하는데 판다스 이용하지말고 출력하시오\n",
    "import csv\n",
    "file=open(\"d:\\\\data\\\\emp22.csv\") \n",
    "emp_csv=csv.reader(file) \n",
    "print(emp_csv) \n",
    "for emp_list in emp_csv:\n",
    "    if emp_list[2]=='SALESMAN':\n",
    "        print(emp_list[1],emp_list[2])"
   ]
  },
  {
   "cell_type": "code",
   "execution_count": 17,
   "metadata": {},
   "outputs": [
    {
     "name": "stdout",
     "output_type": "stream",
     "text": [
      "    ename   sal  deptno\n",
      "3   JONES  2975      20\n",
      "9    FORD  3000      20\n",
      "10  SMITH   800      20\n",
      "11  SCOTT  3000      20\n",
      "12  ADAMS  1100      20\n",
      "<_csv.reader object at 0x000002487BAE5700>\n",
      "JONES 2975 20\n",
      "FORD 3000 20\n",
      "SMITH 800 20\n",
      "SCOTT 3000 20\n",
      "ADAMS 1100 20\n"
     ]
    }
   ],
   "source": [
    "#Q.부서번호가 20번인 사원들의 이름, 월급, 부서번호를 출력하시오\n",
    "#판다스 버전:\n",
    "import pandas as pd\n",
    "emp=pd.read_csv(\"d:\\\\data\\\\emp3.csv\")\n",
    "print(emp[['ename','sal','deptno']][emp['deptno']==20])\n",
    "\n",
    "#판다스 아닌 버전:\n",
    "import csv\n",
    "file=open(\"d:\\\\data\\\\emp22.csv\") \n",
    "emp_csv=csv.reader(file) \n",
    "print(emp_csv) \n",
    "for emp_list in emp_csv:\n",
    "    if emp_list[7]=='20':\n",
    "        print(emp_list[1],emp_list[5],emp_list[7])"
   ]
  },
  {
   "cell_type": "code",
   "execution_count": 18,
   "metadata": {},
   "outputs": [
    {
     "name": "stdout",
     "output_type": "stream",
     "text": [
      "     ename   sal\n",
      "0     KING  5000\n",
      "1    BLAKE  2850\n",
      "2    CLARK  2450\n",
      "3    JONES  2975\n",
      "4   MARTIN  1250\n",
      "5    ALLEN  1600\n",
      "6   TURNER  1500\n",
      "7    JAMES   950\n",
      "8     WARD  1250\n",
      "9     FORD  3000\n",
      "10   SMITH   800\n",
      "11   SCOTT  3000\n",
      "12   ADAMS  1100\n",
      "13  MILLER  1300\n"
     ]
    }
   ],
   "source": [
    "#Q.판다스를 이용해서 emp3를 읽고 이름, 월급을 출력하는데 월급을 출력할때 \n",
    "#소수점 이하는 버리고 정수부분만 출력되게 하시오\n",
    "import pandas as pd\n",
    "emp=pd.read_csv(\"d:\\\\data\\\\emp3.csv\")\n",
    "print(emp[['ename','sal']])\n"
   ]
  },
  {
   "cell_type": "code",
   "execution_count": 20,
   "metadata": {},
   "outputs": [
    {
     "name": "stdout",
     "output_type": "stream",
     "text": [
      "     ename     sal\n",
      "0     KING  5000.0\n",
      "1    BLAKE  2850.0\n",
      "2    CLARK  2450.0\n",
      "3    JONES  2975.0\n",
      "4   MARTIN  1250.0\n",
      "5    ALLEN  1600.0\n",
      "6   TURNER  1500.0\n",
      "7    JAMES   950.0\n",
      "8     WARD  1250.0\n",
      "9     FORD  3000.0\n",
      "10   SMITH   800.0\n",
      "11   SCOTT  3000.0\n",
      "12   ADAMS  1100.0\n",
      "13  MILLER  1300.0\n"
     ]
    }
   ],
   "source": [
    "#Q.판다스로 이름, 월급을 출력하는데 월급을 실수형으로 출력하시오\n",
    "import pandas as pd\n",
    "emp=pd.read_csv(\"d:\\\\data\\\\emp3.csv\")\n",
    "emp['sal']=emp['sal'].apply(float) #emp 데이터 프레임의 sal 컬럼의 데이터를 float로 변환해서 emp데프의 sal에 변경해서 입력\n",
    "print(emp[['ename','sal']])"
   ]
  },
  {
   "cell_type": "code",
   "execution_count": 21,
   "metadata": {},
   "outputs": [
    {
     "name": "stdout",
     "output_type": "stream",
     "text": [
      "2\n",
      "None\n",
      "[2, 4, 6, 8, 10]\n"
     ]
    }
   ],
   "source": [
    "#짝수만 추출해내는 코드 작성\n",
    "def get_even(num):\n",
    "    if num%2==0:\n",
    "        return num\n",
    "    else:\n",
    "        return\n",
    "    \n",
    "print(get_even(2))\n",
    "print(get_even(7))\n",
    "\n",
    "a=[1,2,3,4,5,6,7,8,9,10]\n",
    "result=filter(get_even, a)\n",
    "print(list(result)) #list 함수로 리스트로 변환해야 결과가 출력됩니다."
   ]
  },
  {
   "cell_type": "code",
   "execution_count": 22,
   "metadata": {},
   "outputs": [
    {
     "name": "stdout",
     "output_type": "stream",
     "text": [
      "[352, 456, 567, 903]\n"
     ]
    }
   ],
   "source": [
    "#Q.아래의 리스트에서 숫자가 300이상이면 출력하고 300미만이면 출력되지 않게 하시오\n",
    "b=[100,352,254,456,123,234,567,903]\n",
    "def get_300(num):\n",
    "    if num>=300:\n",
    "        return num\n",
    "    else:\n",
    "        return\n",
    "    \n",
    "result=filter(get_300,b)\n",
    "print(list(result))"
   ]
  },
  {
   "cell_type": "code",
   "execution_count": 24,
   "metadata": {},
   "outputs": [
    {
     "name": "stdout",
     "output_type": "stream",
     "text": [
      "[31, 35, 33, 30, 36, 44]\n"
     ]
    }
   ],
   "source": [
    "#Q.우리반 데이터에서 나이가 30살 이상인 나이만 따로 결과로 리스트로 출력하시오\n",
    "import pandas as pd\n",
    "emp122=pd.read_csv(\"d:\\\\data\\\\emp122.csv\")\n",
    "a=[]\n",
    "for i in emp122['AGE']:\n",
    "    if i >=30:\n",
    "        a.append(i)\n",
    "print(a)"
   ]
  },
  {
   "cell_type": "code",
   "execution_count": 25,
   "metadata": {},
   "outputs": [
    {
     "name": "stdout",
     "output_type": "stream",
     "text": [
      "5000\n",
      "5000\n"
     ]
    }
   ],
   "source": [
    "#Q.사원테이블에서 최대월급을 출력하시오\n",
    "#판다스:\n",
    "import pandas as pd\n",
    "emp=pd.read_csv(\"d:\\\\data\\\\emp3.csv\")\n",
    "print(emp['sal'].max())\n",
    "    \n",
    "#판다스 아닌 버전:\n",
    "import csv\n",
    "file=open(\"d:\\\\data\\\\emp22.csv\") \n",
    "emp=csv.reader(file)\n",
    "a=[]\n",
    "for i in emp:\n",
    "    a.append(int(i[5]))\n",
    "print(max(a))"
   ]
  },
  {
   "cell_type": "code",
   "execution_count": 28,
   "metadata": {},
   "outputs": [
    {
     "name": "stdout",
     "output_type": "stream",
     "text": [
      "24\n"
     ]
    }
   ],
   "source": [
    "#Q.우리반 데이터에서 최소나이를 출력하시오\n",
    "#판다스:\n",
    "import  pandas  as  pd\n",
    "emp122 = pd.read_csv(\"d:\\\\data\\\\emp122.csv\")\n",
    "print ( emp122['AGE'].min() )"
   ]
  },
  {
   "cell_type": "code",
   "execution_count": 29,
   "metadata": {},
   "outputs": [
    {
     "name": "stdout",
     "output_type": "stream",
     "text": [
      "     ename  comm\n",
      "0     KING   NaN\n",
      "1    BLAKE   NaN\n",
      "2    CLARK   NaN\n",
      "3    JONES   NaN\n",
      "7    JAMES   NaN\n",
      "9     FORD   NaN\n",
      "10   SMITH   NaN\n",
      "11   SCOTT   NaN\n",
      "12   ADAMS   NaN\n",
      "13  MILLER   NaN\n"
     ]
    }
   ],
   "source": [
    "#Q.판다스를 이용해서 커미션이 결측치인 사원들의 이름, 커미션을 출력하시오 \n",
    "import pandas as pd\n",
    "emp=pd.read_csv(\"d:\\\\data\\\\emp3.csv\")\n",
    "print(emp[['ename','comm']][emp['comm'].isnull()])"
   ]
  },
  {
   "cell_type": "code",
   "execution_count": 30,
   "metadata": {},
   "outputs": [
    {
     "name": "stdout",
     "output_type": "stream",
     "text": [
      "    ename    comm\n",
      "4  MARTIN  1400.0\n",
      "5   ALLEN   300.0\n",
      "6  TURNER     0.0\n",
      "8    WARD   500.0\n"
     ]
    }
   ],
   "source": [
    "#Q.판다스를 이용해서 커미션이 결측치가 아닌 사원들의 이름, 커미션을 출력하시오 \n",
    "import pandas as pd\n",
    "emp=pd.read_csv(\"d:\\\\data\\\\emp3.csv\")\n",
    "print(emp[['ename','comm']][~emp['comm'].isnull()])"
   ]
  },
  {
   "cell_type": "code",
   "execution_count": 31,
   "metadata": {},
   "outputs": [
    {
     "name": "stdout",
     "output_type": "stream",
     "text": [
      "index        0\n",
      "empno        0\n",
      "ename        0\n",
      "job          0\n",
      "mgr          1\n",
      "hiredate     0\n",
      "sal          0\n",
      "comm        10\n",
      "deptno       0\n",
      "dtype: int64\n"
     ]
    }
   ],
   "source": [
    "#데이터에 결측치가 있는지 확인하는 방법\n",
    "import pandas as pd\n",
    "emp=pd.read_csv(\"d:\\\\data\\\\emp3.csv\")\n",
    "print(emp.isnull().sum()) #sum()하면 컬럼별 결측치 개수가 나옴"
   ]
  },
  {
   "cell_type": "code",
   "execution_count": 32,
   "metadata": {},
   "outputs": [
    {
     "name": "stdout",
     "output_type": "stream",
     "text": [
      "PassengerId      0\n",
      "Survived         0\n",
      "Pclass           0\n",
      "Name             0\n",
      "Sex              0\n",
      "Age            177\n",
      "SibSp            0\n",
      "Parch            0\n",
      "Ticket           0\n",
      "Fare             0\n",
      "Cabin          687\n",
      "Embarked         2\n",
      "dtype: int64\n"
     ]
    }
   ],
   "source": [
    "#Q.타이타닉 데이터에 결측치가 어느 컬럼에 많은지 확인하시오\n",
    "import pandas as pd\n",
    "train=pd.read_csv(\"d:\\\\data\\\\train.csv\")\n",
    "print(train.isnull().sum())"
   ]
  },
  {
   "cell_type": "code",
   "execution_count": 33,
   "metadata": {},
   "outputs": [
    {
     "name": "stdout",
     "output_type": "stream",
     "text": [
      "    index  empno   ename        job     mgr         hiredate   sal    comm  \\\n",
      "0       1   7839    KING  PRESIDENT     NaN  1981-11-17 0:00  5000     NaN   \n",
      "1       2   7698   BLAKE    MANAGER  7839.0  1981-05-01 0:00  2850     NaN   \n",
      "2       3   7782   CLARK    MANAGER  7839.0  1981-05-09 0:00  2450     NaN   \n",
      "3       4   7566   JONES    MANAGER  7839.0  1981-04-01 0:00  2975     NaN   \n",
      "4       5   7654  MARTIN   SALESMAN  7698.0  1981-09-10 0:00  1250  1400.0   \n",
      "5       6   7499   ALLEN   SALESMAN  7698.0  1981-02-11 0:00  1600   300.0   \n",
      "6       7   7844  TURNER   SALESMAN  7698.0  1981-08-21 0:00  1500     0.0   \n",
      "7       8   7900   JAMES      CLERK  7698.0  1981-12-11 0:00   950     NaN   \n",
      "8       9   7521    WARD   SALESMAN  7698.0  1981-02-23 0:00  1250   500.0   \n",
      "9      10   7902    FORD    ANALYST  7566.0  1981-12-11 0:00  3000     NaN   \n",
      "10     11   7369   SMITH      CLERK  7902.0  1980-12-09 0:00   800     NaN   \n",
      "11     12   7788   SCOTT    ANALYST  7566.0  1982-12-22 0:00  3000     NaN   \n",
      "12     13   7876   ADAMS      CLERK  7788.0  1983-01-15 0:00  1100     NaN   \n",
      "13     14   7934  MILLER      CLERK  7782.0  1982-01-11 0:00  1300     NaN   \n",
      "\n",
      "    deptno  sal2  \n",
      "0       10  5000  \n",
      "1       30  2850  \n",
      "2       10  2450  \n",
      "3       20  2975  \n",
      "4       30  1250  \n",
      "5       30  1600  \n",
      "6       30  1500  \n",
      "7       30   950  \n",
      "8       30  1250  \n",
      "9       20  3000  \n",
      "10      20   800  \n",
      "11      20  3000  \n",
      "12      20  1100  \n",
      "13      10  1300  \n"
     ]
    }
   ],
   "source": [
    "#Q.emp데이터 프레임에 sal2컬럼을 추가하고 해당 사원의 부서위치로 값을 갱신하시오\n",
    "import pandas as pd\n",
    "emp=pd.read_csv(\"d:\\\\data\\\\emp3.csv\")\n",
    "emp['sal2']=emp['sal']#emp데프에 sal2컬럼을 추가하는데 데이터는 emp데프에 sal로 하시오\n",
    "print(emp)"
   ]
  },
  {
   "cell_type": "code",
   "execution_count": 34,
   "metadata": {},
   "outputs": [
    {
     "name": "stdout",
     "output_type": "stream",
     "text": [
      "    index  empno   ename        job     mgr         hiredate   sal    comm  \\\n",
      "0       1   7839    KING  PRESIDENT     NaN  1981-11-17 0:00  5000     NaN   \n",
      "1       2   7698   BLAKE    MANAGER  7839.0  1981-05-01 0:00  2850     NaN   \n",
      "2       3   7782   CLARK    MANAGER  7839.0  1981-05-09 0:00  2450     NaN   \n",
      "3       4   7566   JONES    MANAGER  7839.0  1981-04-01 0:00  2975     NaN   \n",
      "4       5   7654  MARTIN   SALESMAN  7698.0  1981-09-10 0:00  1250  1400.0   \n",
      "5       6   7499   ALLEN   SALESMAN  7698.0  1981-02-11 0:00  1600   300.0   \n",
      "6       7   7844  TURNER   SALESMAN  7698.0  1981-08-21 0:00  1500     0.0   \n",
      "7       8   7900   JAMES      CLERK  7698.0  1981-12-11 0:00   950     NaN   \n",
      "8       9   7521    WARD   SALESMAN  7698.0  1981-02-23 0:00  1250   500.0   \n",
      "9      10   7902    FORD    ANALYST  7566.0  1981-12-11 0:00  3000     NaN   \n",
      "10     11   7369   SMITH      CLERK  7902.0  1980-12-09 0:00   800     NaN   \n",
      "11     12   7788   SCOTT    ANALYST  7566.0  1982-12-22 0:00  3000     NaN   \n",
      "12     13   7876   ADAMS      CLERK  7788.0  1983-01-15 0:00  1100     NaN   \n",
      "13     14   7934  MILLER      CLERK  7782.0  1982-01-11 0:00  1300     NaN   \n",
      "\n",
      "    deptno       loc  \n",
      "0       10  NEW YORK  \n",
      "1       30  NEW YORK  \n",
      "2       10  NEW YORK  \n",
      "3       20   CHICAGO  \n",
      "4       30   CHICAGO  \n",
      "5       30   CHICAGO  \n",
      "6       30   CHICAGO  \n",
      "7       30   CHICAGO  \n",
      "8       30   CHICAGO  \n",
      "9       20    DALLAS  \n",
      "10      20    DALLAS  \n",
      "11      20    DALLAS  \n",
      "12      20    DALLAS  \n",
      "13      10    DALLAS  \n"
     ]
    }
   ],
   "source": [
    "#Q.emp데이터프레임에 loc컬럼을 추가하고 해당 사원의 부서위치로 값을 갱신하시오\n",
    "import pandas as pd\n",
    "emp=pd.read_csv(\"d:\\\\data\\\\emp3.csv\")\n",
    "dept=pd.read_csv(\"d:\\\\data\\\\dept3.csv\")\n",
    "result=pd.merge(emp, dept, how='inner', on='deptno')\n",
    "emp['loc']=result['loc']\n",
    "print(emp)"
   ]
  },
  {
   "cell_type": "code",
   "execution_count": 35,
   "metadata": {},
   "outputs": [
    {
     "name": "stdout",
     "output_type": "stream",
     "text": [
      "         job   sal\n",
      "0    ANALYST  3000\n",
      "1      CLERK  1037\n",
      "2    MANAGER  2758\n",
      "3  PRESIDENT  5000\n",
      "4   SALESMAN  1400\n"
     ]
    }
   ],
   "source": [
    "#Q.직업, 직업별 평균월급을 판다스로 출력하는데 월급의 소수점은 떼고 출력하시오\n",
    "import pandas as pd\n",
    "emp=pd.read_csv(\"d:\\\\data\\\\emp3.csv\")\n",
    "result=emp.groupby('job')['sal'].mean().reset_index()\n",
    "result['sal']=result['sal'].astype(int) #result 데프에 sal을 정수형으로 변환해서\n",
    "print(result) #result데프에 sal에 반영하겠다"
   ]
  },
  {
   "cell_type": "code",
   "execution_count": 36,
   "metadata": {},
   "outputs": [
    {
     "name": "stdout",
     "output_type": "stream",
     "text": [
      "    index  empno   ename        job     mgr         hiredate  sal_x    comm  \\\n",
      "0       1   7839    KING  PRESIDENT     NaN  1981-11-17 0:00   5000     NaN   \n",
      "1       2   7698   BLAKE    MANAGER  7839.0  1981-05-01 0:00   2850     NaN   \n",
      "2       3   7782   CLARK    MANAGER  7839.0  1981-05-09 0:00   2450     NaN   \n",
      "3       4   7566   JONES    MANAGER  7839.0  1981-04-01 0:00   2975     NaN   \n",
      "4       5   7654  MARTIN   SALESMAN  7698.0  1981-09-10 0:00   1250  1400.0   \n",
      "5       6   7499   ALLEN   SALESMAN  7698.0  1981-02-11 0:00   1600   300.0   \n",
      "6       7   7844  TURNER   SALESMAN  7698.0  1981-08-21 0:00   1500     0.0   \n",
      "7       9   7521    WARD   SALESMAN  7698.0  1981-02-23 0:00   1250   500.0   \n",
      "8       8   7900   JAMES      CLERK  7698.0  1981-12-11 0:00    950     NaN   \n",
      "9      11   7369   SMITH      CLERK  7902.0  1980-12-09 0:00    800     NaN   \n",
      "10     13   7876   ADAMS      CLERK  7788.0  1983-01-15 0:00   1100     NaN   \n",
      "11     14   7934  MILLER      CLERK  7782.0  1982-01-11 0:00   1300     NaN   \n",
      "12     10   7902    FORD    ANALYST  7566.0  1981-12-11 0:00   3000     NaN   \n",
      "13     12   7788   SCOTT    ANALYST  7566.0  1982-12-22 0:00   3000     NaN   \n",
      "\n",
      "    deptno  sal_y  \n",
      "0       10   5000  \n",
      "1       30   2758  \n",
      "2       10   2758  \n",
      "3       20   2758  \n",
      "4       30   1400  \n",
      "5       30   1400  \n",
      "6       30   1400  \n",
      "7       30   1400  \n",
      "8       30   1037  \n",
      "9       20   1037  \n",
      "10      20   1037  \n",
      "11      10   1037  \n",
      "12      20   3000  \n",
      "13      20   3000  \n"
     ]
    }
   ],
   "source": [
    "#Q.emp와 result를 서로 조인해서 조인된 전체 데이터 프레임을 출력하시오\n",
    "import pandas as pd\n",
    "emp=pd.read_csv(\"d:\\\\data\\\\emp3.csv\")\n",
    "result2=pd.merge(emp, result, how='inner', on='job')\n",
    "print(result2)\n",
    "#remp에도 sal이 있고, result에도 sal이 있어서 emp의 sal은 컬럼명이 sal_x로 변경되었고 result의 sal은\n",
    "#sal_y로 변경되었습니다. sal_y는 해당 직업의 평균월급입니다."
   ]
  },
  {
   "cell_type": "code",
   "execution_count": 37,
   "metadata": {},
   "outputs": [
    {
     "name": "stdout",
     "output_type": "stream",
     "text": [
      "    index  empno   ename        job     mgr         hiredate   sal    comm  \\\n",
      "0       1   7839    KING  PRESIDENT     NaN  1981-11-17 0:00  5000     NaN   \n",
      "1       2   7698   BLAKE    MANAGER  7839.0  1981-05-01 0:00  2850     NaN   \n",
      "2       3   7782   CLARK    MANAGER  7839.0  1981-05-09 0:00  2450     NaN   \n",
      "3       4   7566   JONES    MANAGER  7839.0  1981-04-01 0:00  2975     NaN   \n",
      "4       5   7654  MARTIN   SALESMAN  7698.0  1981-09-10 0:00  1250  1400.0   \n",
      "5       6   7499   ALLEN   SALESMAN  7698.0  1981-02-11 0:00  1600   300.0   \n",
      "6       7   7844  TURNER   SALESMAN  7698.0  1981-08-21 0:00  1500     0.0   \n",
      "7       8   7900   JAMES      CLERK  7698.0  1981-12-11 0:00   950     NaN   \n",
      "8       9   7521    WARD   SALESMAN  7698.0  1981-02-23 0:00  1250   500.0   \n",
      "9      10   7902    FORD    ANALYST  7566.0  1981-12-11 0:00  3000     NaN   \n",
      "10     11   7369   SMITH      CLERK  7902.0  1980-12-09 0:00   800     NaN   \n",
      "11     12   7788   SCOTT    ANALYST  7566.0  1982-12-22 0:00  3000     NaN   \n",
      "12     13   7876   ADAMS      CLERK  7788.0  1983-01-15 0:00  1100     NaN   \n",
      "13     14   7934  MILLER      CLERK  7782.0  1982-01-11 0:00  1300     NaN   \n",
      "\n",
      "    deptno  job_avgsal  \n",
      "0       10        5000  \n",
      "1       30        2758  \n",
      "2       10        2758  \n",
      "3       20        2758  \n",
      "4       30        1400  \n",
      "5       30        1400  \n",
      "6       30        1400  \n",
      "7       30        1400  \n",
      "8       30        1037  \n",
      "9       20        1037  \n",
      "10      20        1037  \n",
      "11      20        1037  \n",
      "12      20        3000  \n",
      "13      10        3000  \n"
     ]
    }
   ],
   "source": [
    "#Q.emp데이터 프레임에 job_avgsal로 컬럼을 추가하고 위에서 구한 직업별 평균월급인 result2['sal_y']의 값으로 갱신하시오\n",
    "import pandas as pd\n",
    "emp=pd.read_csv(\"d:\\\\data\\\\emp3.csv\")\n",
    "result2=pd.merge(emp, result, how='inner', on='job')\n",
    "emp['job_avgsal']=result2['sal_y']\n",
    "print(emp)"
   ]
  },
  {
   "cell_type": "code",
   "execution_count": 40,
   "metadata": {},
   "outputs": [
    {
     "name": "stdout",
     "output_type": "stream",
     "text": [
      "    index  empno   ename        job     mgr         hiredate   sal    comm  \\\n",
      "0       1   7839    KING  PRESIDENT     NaN  1981-11-17 0:00  5000     NaN   \n",
      "9      10   7902    FORD    ANALYST  7566.0  1981-12-11 0:00  3000     NaN   \n",
      "11     12   7788   SCOTT    ANALYST  7566.0  1982-12-22 0:00  3000     NaN   \n",
      "3       4   7566   JONES    MANAGER  7839.0  1981-04-01 0:00  2975     NaN   \n",
      "1       2   7698   BLAKE    MANAGER  7839.0  1981-05-01 0:00  2850     NaN   \n",
      "2       3   7782   CLARK    MANAGER  7839.0  1981-05-09 0:00  2450     NaN   \n",
      "5       6   7499   ALLEN   SALESMAN  7698.0  1981-02-11 0:00  1600   300.0   \n",
      "6       7   7844  TURNER   SALESMAN  7698.0  1981-08-21 0:00  1500     0.0   \n",
      "13     14   7934  MILLER      CLERK  7782.0  1982-01-11 0:00  1300     NaN   \n",
      "4       5   7654  MARTIN   SALESMAN  7698.0  1981-09-10 0:00  1250  1400.0   \n",
      "8       9   7521    WARD   SALESMAN  7698.0  1981-02-23 0:00  1250   500.0   \n",
      "12     13   7876   ADAMS      CLERK  7788.0  1983-01-15 0:00  1100     NaN   \n",
      "7       8   7900   JAMES      CLERK  7698.0  1981-12-11 0:00   950     NaN   \n",
      "10     11   7369   SMITH      CLERK  7902.0  1980-12-09 0:00   800     NaN   \n",
      "\n",
      "    deptno  \n",
      "0       10  \n",
      "9       20  \n",
      "11      20  \n",
      "3       20  \n",
      "1       30  \n",
      "2       10  \n",
      "5       30  \n",
      "6       30  \n",
      "13      10  \n",
      "4       30  \n",
      "8       30  \n",
      "12      20  \n",
      "7       30  \n",
      "10      20  \n"
     ]
    }
   ],
   "source": [
    "#Q.판다스로 이름, 월급을 출력하는데 월급이 높은 사원부터 출력하시오\n",
    "import pandas as pd\n",
    "emp=pd.read_csv(\"d:\\\\data\\\\emp3.csv\")\n",
    "result=emp.sort_values('sal',ascending=False)\n",
    "print(result)"
   ]
  },
  {
   "cell_type": "code",
   "execution_count": 41,
   "metadata": {},
   "outputs": [
    {
     "name": "stdout",
     "output_type": "stream",
     "text": [
      "       job   sal\n",
      "2  MANAGER  8275\n",
      "0  ANALYST  6000\n"
     ]
    }
   ],
   "source": [
    "#Q.다음의 SQL을 판다스로 구현하시오\n",
    "#select job, sum(sal) from emp group by job having sum(sal)>=6000 order by sum(sal) desc;\n",
    "import pandas as pd\n",
    "emp=pd.read_csv(\"d:\\\\data\\\\emp3.csv\")\n",
    "result=emp.groupby('job')['sal'].sum().reset_index()\n",
    "result2=(result[['job','sal']] [result['sal']>=6000])\n",
    "print(result2.sort_values('sal',ascending=False))"
   ]
  }
 ],
 "metadata": {
  "kernelspec": {
   "display_name": "Python 3",
   "language": "python",
   "name": "python3"
  },
  "language_info": {
   "codemirror_mode": {
    "name": "ipython",
    "version": 3
   },
   "file_extension": ".py",
   "mimetype": "text/x-python",
   "name": "python",
   "nbconvert_exporter": "python",
   "pygments_lexer": "ipython3",
   "version": "3.8.5"
  }
 },
 "nbformat": 4,
 "nbformat_minor": 4
}
